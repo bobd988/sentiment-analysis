{
 "cells": [
  {
   "cell_type": "markdown",
   "metadata": {},
   "source": [
    "# Creating a Sentiment Analysis Web App\n",
    "## Using PyTorch and SageMaker\n",
    "\n",
    "_Deep Learning Nanodegree Program | Deployment_\n",
    "\n",
    "---\n",
    "\n",
    "Now that we have a basic understanding of how SageMaker works we will try to use it to construct a complete project from end to end. Our goal will be to have a simple web page which a user can use to enter a movie review. The web page will then send the review off to our deployed model which will predict the sentiment of the entered review.\n",
    "\n",
    "## Instructions\n",
    "\n",
    "Some template code has already been provided for you, and you will need to implement additional functionality to successfully complete this notebook. You will not need to modify the included code beyond what is requested. Sections that begin with '**TODO**' in the header indicate that you need to complete or implement some portion within them. Instructions will be provided for each section and the specifics of the implementation are marked in the code block with a `# TODO: ...` comment. Please be sure to read the instructions carefully!\n",
    "\n",
    "In addition to implementing code, there will be questions for you to answer which relate to the task and your implementation. Each section where you will answer a question is preceded by a '**Question:**' header. Carefully read each question and provide your answer below the '**Answer:**' header by editing the Markdown cell.\n",
    "\n",
    "> **Note**: Code and Markdown cells can be executed using the **Shift+Enter** keyboard shortcut. In addition, a cell can be edited by typically clicking it (double-click for Markdown cells) or by pressing **Enter** while it is highlighted.\n",
    "\n",
    "## General Outline\n",
    "\n",
    "Recall the general outline for SageMaker projects using a notebook instance.\n",
    "\n",
    "1. Download or otherwise retrieve the data.\n",
    "2. Process / Prepare the data.\n",
    "3. Upload the processed data to S3.\n",
    "4. Train a chosen model.\n",
    "5. Test the trained model (typically using a batch transform job).\n",
    "6. Deploy the trained model.\n",
    "7. Use the deployed model.\n",
    "\n",
    "For this project, you will be following the steps in the general outline with some modifications. \n",
    "\n",
    "First, you will not be testing the model in its own step. You will still be testing the model, however, you will do it by deploying your model and then using the deployed model by sending the test data to it. One of the reasons for doing this is so that you can make sure that your deployed model is working correctly before moving forward.\n",
    "\n",
    "In addition, you will deploy and use your trained model a second time. In the second iteration you will customize the way that your trained model is deployed by including some of your own code. In addition, your newly deployed model will be used in the sentiment analysis web app."
   ]
  },
  {
   "cell_type": "markdown",
   "metadata": {},
   "source": [
    "## Step 1: Downloading the data\n",
    "\n",
    "As in the XGBoost in SageMaker notebook, we will be using the [IMDb dataset](http://ai.stanford.edu/~amaas/data/sentiment/)\n",
    "\n",
    "> Maas, Andrew L., et al. [Learning Word Vectors for Sentiment Analysis](http://ai.stanford.edu/~amaas/data/sentiment/). In _Proceedings of the 49th Annual Meeting of the Association for Computational Linguistics: Human Language Technologies_. Association for Computational Linguistics, 2011."
   ]
  },
  {
   "cell_type": "code",
   "execution_count": 47,
   "metadata": {},
   "outputs": [
    {
     "name": "stdout",
     "output_type": "stream",
     "text": [
      "mkdir: cannot create directory ‘../data’: File exists\n",
      "--2019-03-30 19:23:56--  http://ai.stanford.edu/~amaas/data/sentiment/aclImdb_v1.tar.gz\n",
      "Resolving ai.stanford.edu (ai.stanford.edu)... 171.64.68.10\n",
      "Connecting to ai.stanford.edu (ai.stanford.edu)|171.64.68.10|:80... connected.\n",
      "HTTP request sent, awaiting response... 200 OK\n",
      "Length: 84125825 (80M) [application/x-gzip]\n",
      "Saving to: ‘../data/aclImdb_v1.tar.gz’\n",
      "\n",
      "../data/aclImdb_v1. 100%[===================>]  80.23M  46.3MB/s    in 1.7s    \n",
      "\n",
      "2019-03-30 19:23:57 (46.3 MB/s) - ‘../data/aclImdb_v1.tar.gz’ saved [84125825/84125825]\n",
      "\n"
     ]
    }
   ],
   "source": [
    "%mkdir ../data\n",
    "!wget -O ../data/aclImdb_v1.tar.gz http://ai.stanford.edu/~amaas/data/sentiment/aclImdb_v1.tar.gz\n",
    "!tar -zxf ../data/aclImdb_v1.tar.gz -C ../data"
   ]
  },
  {
   "cell_type": "markdown",
   "metadata": {},
   "source": [
    "## Step 2: Preparing and Processing the data\n",
    "\n",
    "Also, as in the XGBoost notebook, we will be doing some initial data processing. The first few steps are the same as in the XGBoost example. To begin with, we will read in each of the reviews and combine them into a single input structure. Then, we will split the dataset into a training set and a testing set."
   ]
  },
  {
   "cell_type": "code",
   "execution_count": 48,
   "metadata": {},
   "outputs": [],
   "source": [
    "import os\n",
    "import glob\n",
    "\n",
    "def read_imdb_data(data_dir='../data/aclImdb'):\n",
    "    data = {}\n",
    "    labels = {}\n",
    "    \n",
    "    for data_type in ['train', 'test']:\n",
    "        data[data_type] = {}\n",
    "        labels[data_type] = {}\n",
    "        \n",
    "        for sentiment in ['pos', 'neg']:\n",
    "            data[data_type][sentiment] = []\n",
    "            labels[data_type][sentiment] = []\n",
    "            \n",
    "            path = os.path.join(data_dir, data_type, sentiment, '*.txt')\n",
    "            files = glob.glob(path)\n",
    "            \n",
    "            for f in files:\n",
    "                with open(f) as review:\n",
    "                    data[data_type][sentiment].append(review.read())\n",
    "                    # Here we represent a positive review by '1' and a negative review by '0'\n",
    "                    labels[data_type][sentiment].append(1 if sentiment == 'pos' else 0)\n",
    "                    \n",
    "            assert len(data[data_type][sentiment]) == len(labels[data_type][sentiment]), \\\n",
    "                    \"{}/{} data size does not match labels size\".format(data_type, sentiment)\n",
    "                \n",
    "    return data, labels"
   ]
  },
  {
   "cell_type": "code",
   "execution_count": 49,
   "metadata": {},
   "outputs": [
    {
     "name": "stdout",
     "output_type": "stream",
     "text": [
      "IMDB reviews: train = 12500 pos / 12500 neg, test = 12500 pos / 12500 neg\n"
     ]
    }
   ],
   "source": [
    "data, labels = read_imdb_data()\n",
    "print(\"IMDB reviews: train = {} pos / {} neg, test = {} pos / {} neg\".format(\n",
    "            len(data['train']['pos']), len(data['train']['neg']),\n",
    "            len(data['test']['pos']), len(data['test']['neg'])))"
   ]
  },
  {
   "cell_type": "markdown",
   "metadata": {},
   "source": [
    "Now that we've read the raw training and testing data from the downloaded dataset, we will combine the positive and negative reviews and shuffle the resulting records."
   ]
  },
  {
   "cell_type": "code",
   "execution_count": 50,
   "metadata": {},
   "outputs": [],
   "source": [
    "from sklearn.utils import shuffle\n",
    "\n",
    "def prepare_imdb_data(data, labels):\n",
    "    \"\"\"Prepare training and test sets from IMDb movie reviews.\"\"\"\n",
    "    \n",
    "    #Combine positive and negative reviews and labels\n",
    "    data_train = data['train']['pos'] + data['train']['neg']\n",
    "    data_test = data['test']['pos'] + data['test']['neg']\n",
    "    labels_train = labels['train']['pos'] + labels['train']['neg']\n",
    "    labels_test = labels['test']['pos'] + labels['test']['neg']\n",
    "    \n",
    "    #Shuffle reviews and corresponding labels within training and test sets\n",
    "    data_train, labels_train = shuffle(data_train, labels_train)\n",
    "    data_test, labels_test = shuffle(data_test, labels_test)\n",
    "    \n",
    "    # Return a unified training data, test data, training labels, test labets\n",
    "    return data_train, data_test, labels_train, labels_test"
   ]
  },
  {
   "cell_type": "code",
   "execution_count": 51,
   "metadata": {},
   "outputs": [
    {
     "name": "stdout",
     "output_type": "stream",
     "text": [
      "IMDb reviews (combined): train = 25000, test = 25000\n"
     ]
    }
   ],
   "source": [
    "train_X, test_X, train_y, test_y = prepare_imdb_data(data, labels)\n",
    "print(\"IMDb reviews (combined): train = {}, test = {}\".format(len(train_X), len(test_X)))"
   ]
  },
  {
   "cell_type": "markdown",
   "metadata": {},
   "source": [
    "Now that we have our training and testing sets unified and prepared, we should do a quick check and see an example of the data our model will be trained on. This is generally a good idea as it allows you to see how each of the further processing steps affects the reviews and it also ensures that the data has been loaded correctly."
   ]
  },
  {
   "cell_type": "code",
   "execution_count": 52,
   "metadata": {},
   "outputs": [
    {
     "name": "stdout",
     "output_type": "stream",
     "text": [
      "...but the general moviegoer's mileage may vary in Mary \"American Psycho\" Harron's stylized look at the American sexual psyche as seen through the lens of the immortal Queen of Curves, Bettie Page.<br /><br />I'll not bore anyone with a recitation of the iconic status of Ms. Page, a prim and proper valedictorian from Nashville, Tennessee, who moved to New York in hopes of being an actress and ended up becoming the Bondage Queen of the Universe. Nor will I run through the sketchy bio-pic plot of \"The Notorious Bettie Page,\" though I offer high kudos to the technical aspects of the film (a sequence of animated magazine covers springs instantly to mind), improper use of a period camera notwithstanding. Finally, I won't belabor the timely applicability of the film's themes of innocence and perversion, freedom and control, the sacred and the secular; they're there for the viewer to absorb, if they wish. The more things change, the more they stay the same, as the saying goes.<br /><br />What I will ramble on about for a moment is the splendid performance of Gretchen Mol as Bettie Page. Truth is, Mol's face looks almost nothing like Bettie's, nor is she particularly built like Bettie (although only a fool would deny those beautiful breasts, and no fool, I!). She doesn't even sport the thick, dark bush that concealed Ms. Page's most intimate charms, but the fact remains that Mol thoroughly embodies the spirit of Bettie Page in every way, shape, and form. It is a bravura \"comeback\" from an undeserved semi-obscurity. I've never met Ms. Page (and sadly, never will, most likely), but I've devoured the photos and videos, and read all the bios and interviews available, bought the trading cards and other odds and ends, and to be honest, lusted for Ms. Page ever since I first discovered her in my adolescence between the covers of dusty tease magazines at the barber shop and the five and dime. Mol perfectly captures the essence of the woman as I have come to conceive her, no pun intended, in what I consider to be an Oscar-worthy performance. Liv Tyler could never have matched Mol's shining intensity of characterization in a million years, and I, for one, am grateful she left the project. Not that I'd mind seeing her totally naked, I hasten to add, but I can't imagine that her brand of sensuality would have translated into the innocent exhuberance of Bettie Page.<br /><br />\"The Notorious Bettie Page\" is not for everyone, any more than bondage and discipline are. I suspect it will do much better on disc than in the theaters; legions of devoted Page fans and the curious will see to that. I can only hope that the DVD will be chock full of enough Bettie extras to show the uninitiated just how good a job Mol has done.<br /><br />Beyond that, a tip of the hat to a fine supporting cast, especially Lili Taylor and Chris Bauer as Paula and Irving Klaw, whose celebrity photo business was Bettie's doorway to immortality.<br /><br />A final note to the young scribe who opined that Ms. Page had no effect on his generation: take a good look at Madonna's cone brassiere and get back to us. Bettie Page is, whether you know it or not, the true Godmother of fetishwear. Without her, Madonna and the rest of her kin could never have existed.\n",
      "1\n"
     ]
    }
   ],
   "source": [
    "print(train_X[100])\n",
    "print(train_y[100])"
   ]
  },
  {
   "cell_type": "markdown",
   "metadata": {},
   "source": [
    "The first step in processing the reviews is to make sure that any html tags that appear should be removed. In addition we wish to tokenize our input, that way words such as *entertained* and *entertaining* are considered the same with regard to sentiment analysis."
   ]
  },
  {
   "cell_type": "code",
   "execution_count": 53,
   "metadata": {},
   "outputs": [],
   "source": [
    "import nltk\n",
    "from nltk.corpus import stopwords\n",
    "from nltk.stem.porter import *\n",
    "\n",
    "import re\n",
    "from bs4 import BeautifulSoup\n",
    "\n",
    "def review_to_words(review):\n",
    "    nltk.download(\"stopwords\", quiet=True)\n",
    "    stemmer = PorterStemmer()\n",
    "    \n",
    "    text = BeautifulSoup(review, \"html.parser\").get_text() # Remove HTML tags\n",
    "    text = re.sub(r\"[^a-zA-Z0-9]\", \" \", text.lower()) # Convert to lower case\n",
    "    words = text.split() # Split string into words\n",
    "    words = [w for w in words if w not in stopwords.words(\"english\")] # Remove stopwords\n",
    "    words = [PorterStemmer().stem(w) for w in words] # stem\n",
    "    \n",
    "    return words"
   ]
  },
  {
   "cell_type": "markdown",
   "metadata": {},
   "source": [
    "The `review_to_words` method defined above uses `BeautifulSoup` to remove any html tags that appear and uses the `nltk` package to tokenize the reviews. As a check to ensure we know how everything is working, try applying `review_to_words` to one of the reviews in the training set."
   ]
  },
  {
   "cell_type": "code",
   "execution_count": 54,
   "metadata": {},
   "outputs": [
    {
     "data": {
      "text/plain": [
       "['gener',\n",
       " 'moviego',\n",
       " 'mileag',\n",
       " 'may',\n",
       " 'vari',\n",
       " 'mari',\n",
       " 'american',\n",
       " 'psycho',\n",
       " 'harron',\n",
       " 'styliz',\n",
       " 'look',\n",
       " 'american',\n",
       " 'sexual',\n",
       " 'psych',\n",
       " 'seen',\n",
       " 'len',\n",
       " 'immort',\n",
       " 'queen',\n",
       " 'curv',\n",
       " 'betti',\n",
       " 'page',\n",
       " 'bore',\n",
       " 'anyon',\n",
       " 'recit',\n",
       " 'icon',\n",
       " 'statu',\n",
       " 'ms',\n",
       " 'page',\n",
       " 'prim',\n",
       " 'proper',\n",
       " 'valedictorian',\n",
       " 'nashvil',\n",
       " 'tennesse',\n",
       " 'move',\n",
       " 'new',\n",
       " 'york',\n",
       " 'hope',\n",
       " 'actress',\n",
       " 'end',\n",
       " 'becom',\n",
       " 'bondag',\n",
       " 'queen',\n",
       " 'univers',\n",
       " 'run',\n",
       " 'sketchi',\n",
       " 'bio',\n",
       " 'pic',\n",
       " 'plot',\n",
       " 'notori',\n",
       " 'betti',\n",
       " 'page',\n",
       " 'though',\n",
       " 'offer',\n",
       " 'high',\n",
       " 'kudo',\n",
       " 'technic',\n",
       " 'aspect',\n",
       " 'film',\n",
       " 'sequenc',\n",
       " 'anim',\n",
       " 'magazin',\n",
       " 'cover',\n",
       " 'spring',\n",
       " 'instantli',\n",
       " 'mind',\n",
       " 'improp',\n",
       " 'use',\n",
       " 'period',\n",
       " 'camera',\n",
       " 'notwithstand',\n",
       " 'final',\n",
       " 'belabor',\n",
       " 'time',\n",
       " 'applic',\n",
       " 'film',\n",
       " 'theme',\n",
       " 'innoc',\n",
       " 'pervers',\n",
       " 'freedom',\n",
       " 'control',\n",
       " 'sacr',\n",
       " 'secular',\n",
       " 'viewer',\n",
       " 'absorb',\n",
       " 'wish',\n",
       " 'thing',\n",
       " 'chang',\n",
       " 'stay',\n",
       " 'say',\n",
       " 'goe',\n",
       " 'rambl',\n",
       " 'moment',\n",
       " 'splendid',\n",
       " 'perform',\n",
       " 'gretchen',\n",
       " 'mol',\n",
       " 'betti',\n",
       " 'page',\n",
       " 'truth',\n",
       " 'mol',\n",
       " 'face',\n",
       " 'look',\n",
       " 'almost',\n",
       " 'noth',\n",
       " 'like',\n",
       " 'betti',\n",
       " 'particularli',\n",
       " 'built',\n",
       " 'like',\n",
       " 'betti',\n",
       " 'although',\n",
       " 'fool',\n",
       " 'would',\n",
       " 'deni',\n",
       " 'beauti',\n",
       " 'breast',\n",
       " 'fool',\n",
       " 'even',\n",
       " 'sport',\n",
       " 'thick',\n",
       " 'dark',\n",
       " 'bush',\n",
       " 'conceal',\n",
       " 'ms',\n",
       " 'page',\n",
       " 'intim',\n",
       " 'charm',\n",
       " 'fact',\n",
       " 'remain',\n",
       " 'mol',\n",
       " 'thoroughli',\n",
       " 'embodi',\n",
       " 'spirit',\n",
       " 'betti',\n",
       " 'page',\n",
       " 'everi',\n",
       " 'way',\n",
       " 'shape',\n",
       " 'form',\n",
       " 'bravura',\n",
       " 'comeback',\n",
       " 'undeserv',\n",
       " 'semi',\n",
       " 'obscur',\n",
       " 'never',\n",
       " 'met',\n",
       " 'ms',\n",
       " 'page',\n",
       " 'sadli',\n",
       " 'never',\n",
       " 'like',\n",
       " 'devour',\n",
       " 'photo',\n",
       " 'video',\n",
       " 'read',\n",
       " 'bio',\n",
       " 'interview',\n",
       " 'avail',\n",
       " 'bought',\n",
       " 'trade',\n",
       " 'card',\n",
       " 'odd',\n",
       " 'end',\n",
       " 'honest',\n",
       " 'lust',\n",
       " 'ms',\n",
       " 'page',\n",
       " 'ever',\n",
       " 'sinc',\n",
       " 'first',\n",
       " 'discov',\n",
       " 'adolesc',\n",
       " 'cover',\n",
       " 'dusti',\n",
       " 'teas',\n",
       " 'magazin',\n",
       " 'barber',\n",
       " 'shop',\n",
       " 'five',\n",
       " 'dime',\n",
       " 'mol',\n",
       " 'perfectli',\n",
       " 'captur',\n",
       " 'essenc',\n",
       " 'woman',\n",
       " 'come',\n",
       " 'conceiv',\n",
       " 'pun',\n",
       " 'intend',\n",
       " 'consid',\n",
       " 'oscar',\n",
       " 'worthi',\n",
       " 'perform',\n",
       " 'liv',\n",
       " 'tyler',\n",
       " 'could',\n",
       " 'never',\n",
       " 'match',\n",
       " 'mol',\n",
       " 'shine',\n",
       " 'intens',\n",
       " 'character',\n",
       " 'million',\n",
       " 'year',\n",
       " 'one',\n",
       " 'grate',\n",
       " 'left',\n",
       " 'project',\n",
       " 'mind',\n",
       " 'see',\n",
       " 'total',\n",
       " 'nake',\n",
       " 'hasten',\n",
       " 'add',\n",
       " 'imagin',\n",
       " 'brand',\n",
       " 'sensual',\n",
       " 'would',\n",
       " 'translat',\n",
       " 'innoc',\n",
       " 'exhuber',\n",
       " 'betti',\n",
       " 'page',\n",
       " 'notori',\n",
       " 'betti',\n",
       " 'page',\n",
       " 'everyon',\n",
       " 'bondag',\n",
       " 'disciplin',\n",
       " 'suspect',\n",
       " 'much',\n",
       " 'better',\n",
       " 'disc',\n",
       " 'theater',\n",
       " 'legion',\n",
       " 'devot',\n",
       " 'page',\n",
       " 'fan',\n",
       " 'curiou',\n",
       " 'see',\n",
       " 'hope',\n",
       " 'dvd',\n",
       " 'chock',\n",
       " 'full',\n",
       " 'enough',\n",
       " 'betti',\n",
       " 'extra',\n",
       " 'show',\n",
       " 'uniniti',\n",
       " 'good',\n",
       " 'job',\n",
       " 'mol',\n",
       " 'done',\n",
       " 'beyond',\n",
       " 'tip',\n",
       " 'hat',\n",
       " 'fine',\n",
       " 'support',\n",
       " 'cast',\n",
       " 'especi',\n",
       " 'lili',\n",
       " 'taylor',\n",
       " 'chri',\n",
       " 'bauer',\n",
       " 'paula',\n",
       " 'irv',\n",
       " 'klaw',\n",
       " 'whose',\n",
       " 'celebr',\n",
       " 'photo',\n",
       " 'busi',\n",
       " 'betti',\n",
       " 'doorway',\n",
       " 'immort',\n",
       " 'final',\n",
       " 'note',\n",
       " 'young',\n",
       " 'scribe',\n",
       " 'opin',\n",
       " 'ms',\n",
       " 'page',\n",
       " 'effect',\n",
       " 'gener',\n",
       " 'take',\n",
       " 'good',\n",
       " 'look',\n",
       " 'madonna',\n",
       " 'cone',\n",
       " 'brassier',\n",
       " 'get',\n",
       " 'back',\n",
       " 'us',\n",
       " 'betti',\n",
       " 'page',\n",
       " 'whether',\n",
       " 'know',\n",
       " 'true',\n",
       " 'godmoth',\n",
       " 'fetishwear',\n",
       " 'without',\n",
       " 'madonna',\n",
       " 'rest',\n",
       " 'kin',\n",
       " 'could',\n",
       " 'never',\n",
       " 'exist']"
      ]
     },
     "execution_count": 54,
     "metadata": {},
     "output_type": "execute_result"
    }
   ],
   "source": [
    "# TODO: Apply review_to_words to a review (train_X[100] or any other review)\n",
    "review_to_words(train_X[100])"
   ]
  },
  {
   "cell_type": "markdown",
   "metadata": {},
   "source": [
    "**Question:** Above we mentioned that `review_to_words` method removes html formatting and allows us to tokenize the words found in a review, for example, converting *entertained* and *entertaining* into *entertain* so that they are treated as though they are the same word. What else, if anything, does this method do to the input?"
   ]
  },
  {
   "cell_type": "markdown",
   "metadata": {},
   "source": [
    "**Answer:**\n",
    "The review_to_words method converts a review to the lower case and removes stopwords and punctuation marks."
   ]
  },
  {
   "cell_type": "markdown",
   "metadata": {},
   "source": [
    "The method below applies the `review_to_words` method to each of the reviews in the training and testing datasets. In addition it caches the results. This is because performing this processing step can take a long time. This way if you are unable to complete the notebook in the current session, you can come back without needing to process the data a second time."
   ]
  },
  {
   "cell_type": "code",
   "execution_count": 55,
   "metadata": {},
   "outputs": [],
   "source": [
    "import pickle\n",
    "\n",
    "cache_dir = os.path.join(\"../cache\", \"sentiment_analysis\")  # where to store cache files\n",
    "os.makedirs(cache_dir, exist_ok=True)  # ensure cache directory exists\n",
    "\n",
    "def preprocess_data(data_train, data_test, labels_train, labels_test,\n",
    "                    cache_dir=cache_dir, cache_file=\"preprocessed_data.pkl\"):\n",
    "    \"\"\"Convert each review to words; read from cache if available.\"\"\"\n",
    "\n",
    "    # If cache_file is not None, try to read from it first\n",
    "    cache_data = None\n",
    "    if cache_file is not None:\n",
    "        try:\n",
    "            with open(os.path.join(cache_dir, cache_file), \"rb\") as f:\n",
    "                cache_data = pickle.load(f)\n",
    "            print(\"Read preprocessed data from cache file:\", cache_file)\n",
    "        except:\n",
    "            pass  # unable to read from cache, but that's okay\n",
    "    \n",
    "    # If cache is missing, then do the heavy lifting\n",
    "    if cache_data is None:\n",
    "        # Preprocess training and test data to obtain words for each review\n",
    "        #words_train = list(map(review_to_words, data_train))\n",
    "        #words_test = list(map(review_to_words, data_test))\n",
    "        words_train = [review_to_words(review) for review in data_train]\n",
    "        words_test = [review_to_words(review) for review in data_test]\n",
    "        \n",
    "        # Write to cache file for future runs\n",
    "        if cache_file is not None:\n",
    "            cache_data = dict(words_train=words_train, words_test=words_test,\n",
    "                              labels_train=labels_train, labels_test=labels_test)\n",
    "            with open(os.path.join(cache_dir, cache_file), \"wb\") as f:\n",
    "                pickle.dump(cache_data, f)\n",
    "            print(\"Wrote preprocessed data to cache file:\", cache_file)\n",
    "    else:\n",
    "        # Unpack data loaded from cache file\n",
    "        words_train, words_test, labels_train, labels_test = (cache_data['words_train'],\n",
    "                cache_data['words_test'], cache_data['labels_train'], cache_data['labels_test'])\n",
    "    \n",
    "    return words_train, words_test, labels_train, labels_test"
   ]
  },
  {
   "cell_type": "code",
   "execution_count": 56,
   "metadata": {},
   "outputs": [
    {
     "name": "stdout",
     "output_type": "stream",
     "text": [
      "Read preprocessed data from cache file: preprocessed_data.pkl\n"
     ]
    }
   ],
   "source": [
    "# Preprocess data\n",
    "train_X, test_X, train_y, test_y = preprocess_data(train_X, test_X, train_y, test_y)"
   ]
  },
  {
   "cell_type": "markdown",
   "metadata": {},
   "source": [
    "## Transform the data\n",
    "\n",
    "In the XGBoost notebook we transformed the data from its word representation to a bag-of-words feature representation. For the model we are going to construct in this notebook we will construct a feature representation which is very similar. To start, we will represent each word as an integer. Of course, some of the words that appear in the reviews occur very infrequently and so likely don't contain much information for the purposes of sentiment analysis. The way we will deal with this problem is that we will fix the size of our working vocabulary and we will only include the words that appear most frequently. We will then combine all of the infrequent words into a single category and, in our case, we will label it as `1`.\n",
    "\n",
    "Since we will be using a recurrent neural network, it will be convenient if the length of each review is the same. To do this, we will fix a size for our reviews and then pad short reviews with the category 'no word' (which we will label `0`) and truncate long reviews."
   ]
  },
  {
   "cell_type": "markdown",
   "metadata": {},
   "source": [
    "### (TODO) Create a word dictionary\n",
    "\n",
    "To begin with, we need to construct a way to map words that appear in the reviews to integers. Here we fix the size of our vocabulary (including the 'no word' and 'infrequent' categories) to be `5000` but you may wish to change this to see how it affects the model.\n",
    "\n",
    "> **TODO:** Complete the implementation for the `build_dict()` method below. Note that even though the vocab_size is set to `5000`, we only want to construct a mapping for the most frequently appearing `4998` words. This is because we want to reserve the special labels `0` for 'no word' and `1` for 'infrequent word'."
   ]
  },
  {
   "cell_type": "code",
   "execution_count": 57,
   "metadata": {},
   "outputs": [],
   "source": [
    "import numpy as np\n",
    "\n",
    "def build_dict(data, vocab_size = 5000):\n",
    "    \"\"\"Construct and return a dictionary mapping each of the most frequently appearing words to a unique integer.\"\"\"\n",
    "    \n",
    "    # TODO: Determine how often each word appears in `data`. Note that `data` is a list of sentences and that a\n",
    "    #       sentence is a list of words.\n",
    "    \n",
    "    word_count = {} # A dict storing the words that appear in the reviews along with how often they occur\n",
    "    \n",
    "    # TODO: Sort the words found in `data` so that sorted_words[0] is the most frequently appearing word and\n",
    "    #       sorted_words[-1] is the least frequently appearing word.\n",
    "    for review in data:\n",
    "        for word in review:\n",
    "            if word in word_count:\n",
    "                word_count[word] += 1\n",
    "            else:\n",
    "                word_count[word] = 1\n",
    "    \n",
    "    sorted_words = sorted(word_count, key=word_count.get, reverse=True)\n",
    "    \n",
    "    word_dict = {} # This is what we are building, a dictionary that translates words into integers\n",
    "    for idx, word in enumerate(sorted_words[:vocab_size - 2]): # The -2 is so that we save room for the 'no word'\n",
    "        word_dict[word] = idx + 2                              # 'infrequent' labels\n",
    "        \n",
    "    return word_dict"
   ]
  },
  {
   "cell_type": "code",
   "execution_count": 58,
   "metadata": {},
   "outputs": [],
   "source": [
    "word_dict = build_dict(train_X)"
   ]
  },
  {
   "cell_type": "code",
   "execution_count": 59,
   "metadata": {},
   "outputs": [
    {
     "name": "stdout",
     "output_type": "stream",
     "text": [
      "{'movi': 2, 'film': 3, 'one': 4, 'like': 5, 'time': 6, 'good': 7, 'make': 8, 'charact': 9, 'get': 10, 'see': 11, 'watch': 12, 'stori': 13, 'even': 14, 'would': 15, 'realli': 16, 'well': 17, 'scene': 18, 'look': 19, 'show': 20, 'much': 21, 'end': 22, 'peopl': 23, 'bad': 24, 'go': 25, 'great': 26, 'also': 27, 'first': 28, 'love': 29, 'think': 30, 'way': 31, 'act': 32, 'play': 33, 'made': 34, 'thing': 35, 'could': 36, 'know': 37, 'say': 38, 'seem': 39, 'work': 40, 'plot': 41, 'two': 42, 'actor': 43, 'year': 44, 'come': 45, 'mani': 46, 'seen': 47, 'take': 48, 'want': 49, 'life': 50, 'never': 51, 'littl': 52, 'best': 53, 'tri': 54, 'man': 55, 'ever': 56, 'give': 57, 'better': 58, 'still': 59, 'perform': 60, 'find': 61, 'feel': 62, 'part': 63, 'back': 64, 'use': 65, 'someth': 66, 'director': 67, 'actual': 68, 'interest': 69, 'lot': 70, 'real': 71, 'old': 72, 'cast': 73, 'though': 74, 'live': 75, 'star': 76, 'enjoy': 77, 'guy': 78, 'anoth': 79, 'new': 80, 'role': 81, 'noth': 82, '10': 83, 'funni': 84, 'music': 85, 'point': 86, 'start': 87, 'set': 88, 'girl': 89, 'origin': 90, 'day': 91, 'world': 92, 'everi': 93, 'believ': 94, 'turn': 95, 'quit': 96, 'us': 97, 'direct': 98, 'thought': 99, 'fact': 100, 'minut': 101, 'horror': 102, 'kill': 103, 'action': 104, 'comedi': 105, 'pretti': 106, 'young': 107, 'wonder': 108, 'happen': 109, 'around': 110, 'got': 111, 'effect': 112, 'right': 113, 'long': 114, 'howev': 115, 'big': 116, 'line': 117, 'famili': 118, 'enough': 119, 'seri': 120, 'may': 121, 'need': 122, 'fan': 123, 'bit': 124, 'script': 125, 'beauti': 126, 'person': 127, 'becom': 128, 'without': 129, 'must': 130, 'alway': 131, 'friend': 132, 'tell': 133, 'reason': 134, 'saw': 135, 'last': 136, 'final': 137, 'kid': 138, 'almost': 139, 'put': 140, 'least': 141, 'sure': 142, 'done': 143, 'whole': 144, 'place': 145, 'complet': 146, 'kind': 147, 'differ': 148, 'expect': 149, 'shot': 150, 'far': 151, 'mean': 152, 'anyth': 153, 'book': 154, 'laugh': 155, 'might': 156, 'name': 157, 'sinc': 158, 'begin': 159, '2': 160, 'probabl': 161, 'woman': 162, 'help': 163, 'entertain': 164, 'let': 165, 'screen': 166, 'call': 167, 'tv': 168, 'moment': 169, 'away': 170, 'read': 171, 'yet': 172, 'rather': 173, 'worst': 174, 'run': 175, 'fun': 176, 'lead': 177, 'hard': 178, 'audienc': 179, 'idea': 180, 'anyon': 181, 'episod': 182, 'american': 183, 'found': 184, 'appear': 185, 'bore': 186, 'especi': 187, 'although': 188, 'hope': 189, 'keep': 190, 'cours': 191, 'anim': 192, 'job': 193, 'goe': 194, 'move': 195, 'sens': 196, 'version': 197, 'dvd': 198, 'war': 199, 'money': 200, 'someon': 201, 'mind': 202, 'mayb': 203, 'problem': 204, 'true': 205, 'hous': 206, 'everyth': 207, 'nice': 208, 'second': 209, 'rate': 210, 'three': 211, 'night': 212, 'face': 213, 'follow': 214, 'recommend': 215, 'main': 216, 'product': 217, 'worth': 218, 'leav': 219, 'human': 220, 'special': 221, 'excel': 222, 'togeth': 223, 'wast': 224, 'sound': 225, 'everyon': 226, 'john': 227, 'hand': 228, '1': 229, 'father': 230, 'later': 231, 'eye': 232, 'said': 233, 'view': 234, 'instead': 235, 'review': 236, 'boy': 237, 'high': 238, 'hour': 239, 'miss': 240, 'talk': 241, 'classic': 242, 'wife': 243, 'understand': 244, 'left': 245, 'care': 246, 'black': 247, 'death': 248, 'open': 249, 'murder': 250, 'write': 251, 'half': 252, 'head': 253, 'rememb': 254, 'chang': 255, 'viewer': 256, 'fight': 257, 'gener': 258, 'surpris': 259, 'short': 260, 'includ': 261, 'die': 262, 'fall': 263, 'less': 264, 'els': 265, 'entir': 266, 'piec': 267, 'involv': 268, 'pictur': 269, 'simpli': 270, 'power': 271, 'home': 272, 'top': 273, 'total': 274, 'usual': 275, 'budget': 276, 'attempt': 277, 'suppos': 278, 'releas': 279, 'hollywood': 280, 'terribl': 281, 'song': 282, 'men': 283, 'possibl': 284, 'featur': 285, 'portray': 286, 'disappoint': 287, 'poor': 288, '3': 289, 'coupl': 290, 'camera': 291, 'stupid': 292, 'dead': 293, 'wrong': 294, 'produc': 295, 'low': 296, 'either': 297, 'video': 298, 'aw': 299, 'definit': 300, 'except': 301, 'rest': 302, 'given': 303, 'absolut': 304, 'women': 305, 'lack': 306, 'word': 307, 'writer': 308, 'titl': 309, 'talent': 310, 'decid': 311, 'full': 312, 'perfect': 313, 'along': 314, 'style': 315, 'close': 316, 'truli': 317, 'school': 318, 'emot': 319, 'save': 320, 'age': 321, 'sex': 322, 'next': 323, 'bring': 324, 'mr': 325, 'case': 326, 'killer': 327, 'heart': 328, 'comment': 329, 'sort': 330, 'creat': 331, 'perhap': 332, 'came': 333, 'brother': 334, 'sever': 335, 'joke': 336, 'art': 337, 'dialogu': 338, 'game': 339, 'small': 340, 'base': 341, 'flick': 342, 'written': 343, 'sequenc': 344, 'meet': 345, 'earli': 346, 'often': 347, 'other': 348, 'mother': 349, 'develop': 350, 'humor': 351, 'actress': 352, 'consid': 353, 'dark': 354, 'guess': 355, 'amaz': 356, 'unfortun': 357, 'light': 358, 'lost': 359, 'exampl': 360, 'cinema': 361, 'drama': 362, 'ye': 363, 'white': 364, 'experi': 365, 'imagin': 366, 'mention': 367, 'stop': 368, 'natur': 369, 'forc': 370, 'manag': 371, 'felt': 372, 'cut': 373, 'present': 374, 'children': 375, 'fail': 376, 'son': 377, 'support': 378, 'car': 379, 'qualiti': 380, 'ask': 381, 'hit': 382, 'side': 383, 'voic': 384, 'extrem': 385, 'impress': 386, 'evil': 387, 'wors': 388, 'stand': 389, 'went': 390, 'certainli': 391, 'basic': 392, 'oh': 393, 'overal': 394, 'favorit': 395, 'horribl': 396, 'mysteri': 397, 'number': 398, 'type': 399, 'danc': 400, 'wait': 401, 'hero': 402, '5': 403, 'alreadi': 404, 'learn': 405, 'matter': 406, '4': 407, 'michael': 408, 'genr': 409, 'fine': 410, 'despit': 411, 'throughout': 412, 'walk': 413, 'success': 414, 'histori': 415, 'question': 416, 'zombi': 417, 'town': 418, 'realiz': 419, 'relationship': 420, 'past': 421, 'child': 422, 'daughter': 423, 'late': 424, 'b': 425, 'wish': 426, 'hate': 427, 'credit': 428, 'event': 429, 'theme': 430, 'touch': 431, 'citi': 432, 'today': 433, 'sometim': 434, 'behind': 435, 'god': 436, 'twist': 437, 'sit': 438, 'stay': 439, 'annoy': 440, 'deal': 441, 'abl': 442, 'rent': 443, 'pleas': 444, 'edit': 445, 'blood': 446, 'deserv': 447, 'comic': 448, 'anyway': 449, 'appar': 450, 'soon': 451, 'gave': 452, 'etc': 453, 'level': 454, 'slow': 455, 'chanc': 456, 'score': 457, 'bodi': 458, 'brilliant': 459, 'incred': 460, 'figur': 461, 'situat': 462, 'major': 463, 'self': 464, 'stuff': 465, 'decent': 466, 'element': 467, 'return': 468, 'dream': 469, 'obvious': 470, 'order': 471, 'continu': 472, 'pace': 473, 'ridicul': 474, 'happi': 475, 'group': 476, 'highli': 477, 'add': 478, 'thank': 479, 'ladi': 480, 'novel': 481, 'speak': 482, 'pain': 483, 'career': 484, 'shoot': 485, 'strang': 486, 'heard': 487, 'sad': 488, 'husband': 489, 'polic': 490, 'import': 491, 'break': 492, 'took': 493, 'strong': 494, 'cannot': 495, 'predict': 496, 'robert': 497, 'violenc': 498, 'hilari': 499, 'recent': 500, 'countri': 501, 'known': 502, 'particularli': 503, 'pick': 504, 'documentari': 505, 'season': 506, 'critic': 507, 'jame': 508, 'compar': 509, 'obviou': 510, 'alon': 511, 'told': 512, 'state': 513, 'rock': 514, 'visual': 515, 'offer': 516, 'theater': 517, 'exist': 518, 'opinion': 519, 'gore': 520, 'crap': 521, 'hold': 522, 'result': 523, 'hear': 524, 'room': 525, 'realiti': 526, 'effort': 527, 'clich': 528, 'thriller': 529, 'caus': 530, 'sequel': 531, 'serious': 532, 'explain': 533, 'king': 534, 'local': 535, 'ago': 536, 'hell': 537, 'none': 538, 'note': 539, 'allow': 540, 'david': 541, 'sister': 542, 'simpl': 543, 'femal': 544, 'deliv': 545, 'ok': 546, 'convinc': 547, 'class': 548, 'check': 549, 'suspens': 550, 'win': 551, 'buy': 552, 'oscar': 553, 'huge': 554, 'valu': 555, 'sexual': 556, 'scari': 557, 'cool': 558, 'excit': 559, 'similar': 560, 'apart': 561, 'provid': 562, 'exactli': 563, 'shown': 564, 'avoid': 565, 'seriou': 566, 'english': 567, 'taken': 568, 'whose': 569, 'cinematographi': 570, 'shock': 571, 'polit': 572, 'spoiler': 573, 'offic': 574, 'across': 575, 'middl': 576, 'street': 577, 'pass': 578, 'messag': 579, 'somewhat': 580, 'silli': 581, 'charm': 582, 'modern': 583, 'confus': 584, 'filmmak': 585, 'form': 586, 'tale': 587, 'singl': 588, 'jack': 589, 'mostli': 590, 'william': 591, 'attent': 592, 'carri': 593, 'sing': 594, 'five': 595, 'subject': 596, 'prove': 597, 'richard': 598, 'team': 599, 'stage': 600, 'cop': 601, 'unlik': 602, 'georg': 603, 'televis': 604, 'monster': 605, 'earth': 606, 'cover': 607, 'villain': 608, 'pay': 609, 'marri': 610, 'toward': 611, 'build': 612, 'pull': 613, 'parent': 614, 'due': 615, 'fill': 616, 'respect': 617, 'four': 618, 'dialog': 619, 'remind': 620, 'futur': 621, 'weak': 622, 'typic': 623, '7': 624, 'cheap': 625, 'intellig': 626, 'atmospher': 627, 'british': 628, '80': 629, 'clearli': 630, 'dog': 631, 'non': 632, 'paul': 633, 'knew': 634, '8': 635, 'fast': 636, 'artist': 637, 'crime': 638, 'easili': 639, 'escap': 640, 'doubt': 641, 'adult': 642, 'detail': 643, 'date': 644, 'fire': 645, 'romant': 646, 'member': 647, 'drive': 648, 'gun': 649, 'straight': 650, 'fit': 651, 'beyond': 652, 'attack': 653, 'imag': 654, 'upon': 655, 'posit': 656, 'whether': 657, 'fantast': 658, 'peter': 659, 'appreci': 660, 'aspect': 661, 'captur': 662, 'ten': 663, 'plan': 664, 'discov': 665, 'remain': 666, 'near': 667, 'period': 668, 'air': 669, 'realist': 670, 'mark': 671, 'red': 672, 'dull': 673, 'adapt': 674, 'within': 675, 'spend': 676, 'lose': 677, 'materi': 678, 'color': 679, 'chase': 680, 'mari': 681, 'storylin': 682, 'forget': 683, 'bunch': 684, 'clear': 685, 'lee': 686, 'victim': 687, 'nearli': 688, 'box': 689, 'york': 690, 'inspir': 691, 'match': 692, 'finish': 693, 'mess': 694, 'standard': 695, 'easi': 696, 'truth': 697, 'busi': 698, 'suffer': 699, 'dramat': 700, 'space': 701, 'bill': 702, 'western': 703, 'e': 704, 'list': 705, 'battl': 706, 'notic': 707, 'de': 708, 'french': 709, 'ad': 710, '9': 711, 'tom': 712, 'larg': 713, 'among': 714, 'eventu': 715, 'train': 716, 'accept': 717, 'agre': 718, 'soundtrack': 719, 'spirit': 720, 'third': 721, 'teenag': 722, 'adventur': 723, 'soldier': 724, 'famou': 725, 'suggest': 726, 'drug': 727, 'sorri': 728, 'babi': 729, 'normal': 730, 'cri': 731, 'troubl': 732, 'ultim': 733, 'contain': 734, 'certain': 735, 'cultur': 736, 'romanc': 737, 'rare': 738, 'lame': 739, 'somehow': 740, 'disney': 741, 'mix': 742, 'gone': 743, 'cartoon': 744, 'student': 745, 'fear': 746, 'reveal': 747, 'suck': 748, 'kept': 749, 'attract': 750, 'appeal': 751, 'premis': 752, 'greatest': 753, 'secret': 754, 'design': 755, 'shame': 756, 'throw': 757, 'copi': 758, 'scare': 759, 'wit': 760, 'america': 761, 'admit': 762, 'brought': 763, 'particular': 764, 'relat': 765, 'screenplay': 766, 'whatev': 767, 'pure': 768, '70': 769, 'averag': 770, 'harri': 771, 'master': 772, 'describ': 773, 'treat': 774, 'male': 775, '20': 776, 'fantasi': 777, 'issu': 778, 'warn': 779, 'inde': 780, 'forward': 781, 'background': 782, 'free': 783, 'project': 784, 'japanes': 785, 'memor': 786, 'poorli': 787, 'award': 788, 'locat': 789, 'potenti': 790, 'amus': 791, 'struggl': 792, 'magic': 793, 'weird': 794, 'societi': 795, 'okay': 796, 'accent': 797, 'imdb': 798, 'doctor': 799, 'water': 800, 'hot': 801, 'express': 802, 'dr': 803, '30': 804, 'alien': 805, 'odd': 806, 'crazi': 807, 'choic': 808, 'studio': 809, 'fiction': 810, 'becam': 811, 'control': 812, 'masterpiec': 813, 'difficult': 814, 'fli': 815, 'joe': 816, 'scream': 817, 'costum': 818, 'lover': 819, 'uniqu': 820, 'refer': 821, 'remak': 822, 'girlfriend': 823, 'vampir': 824, 'prison': 825, 'execut': 826, 'wear': 827, 'jump': 828, 'wood': 829, 'unless': 830, 'creepi': 831, 'cheesi': 832, 'superb': 833, 'otherwis': 834, 'parti': 835, 'ghost': 836, 'roll': 837, 'mad': 838, 'public': 839, 'depict': 840, 'week': 841, 'moral': 842, 'earlier': 843, 'badli': 844, 'jane': 845, 'dumb': 846, 'fi': 847, 'flaw': 848, 'grow': 849, 'deep': 850, 'sci': 851, 'maker': 852, 'cat': 853, 'footag': 854, 'older': 855, 'connect': 856, 'plenti': 857, 'bother': 858, 'outsid': 859, 'stick': 860, 'gay': 861, 'catch': 862, 'co': 863, 'plu': 864, 'popular': 865, 'equal': 866, 'social': 867, 'quickli': 868, 'disturb': 869, 'perfectli': 870, 'dress': 871, '90': 872, 'era': 873, 'mistak': 874, 'lie': 875, 'previou': 876, 'ride': 877, 'combin': 878, 'band': 879, 'concept': 880, 'rich': 881, 'answer': 882, 'surviv': 883, 'front': 884, 'christma': 885, 'sweet': 886, 'insid': 887, 'eat': 888, 'bare': 889, 'concern': 890, 'listen': 891, 'ben': 892, 'beat': 893, 'c': 894, 'term': 895, 'serv': 896, 'meant': 897, 'german': 898, 'la': 899, 'hardli': 900, 'stereotyp': 901, 'innoc': 902, 'law': 903, 'desper': 904, 'memori': 905, 'promis': 906, 'intent': 907, 'cute': 908, 'inform': 909, 'steal': 910, 'variou': 911, 'brain': 912, 'post': 913, 'tone': 914, 'island': 915, 'amount': 916, 'nuditi': 917, 'compani': 918, 'track': 919, 'claim': 920, 'store': 921, 'hair': 922, 'flat': 923, '50': 924, 'land': 925, 'univers': 926, 'fairli': 927, 'kick': 928, 'scott': 929, 'danger': 930, 'player': 931, 'crew': 932, 'plain': 933, 'step': 934, 'toni': 935, 'share': 936, 'centuri': 937, 'tast': 938, 'engag': 939, 'achiev': 940, 'cold': 941, 'travel': 942, 'record': 943, 'suit': 944, 'rip': 945, 'manner': 946, 'sadli': 947, 'spot': 948, 'wrote': 949, 'tension': 950, 'intens': 951, 'fascin': 952, 'familiar': 953, 'depth': 954, 'remark': 955, 'burn': 956, 'destroy': 957, 'histor': 958, 'sleep': 959, 'purpos': 960, 'languag': 961, 'ruin': 962, 'ignor': 963, 'delight': 964, 'italian': 965, 'unbeliev': 966, 'collect': 967, 'abil': 968, 'soul': 969, 'clever': 970, 'detect': 971, 'violent': 972, 'rape': 973, 'reach': 974, 'door': 975, 'liter': 976, 'trash': 977, 'scienc': 978, 'reveng': 979, 'commun': 980, 'caught': 981, 'creatur': 982, 'approach': 983, 'trip': 984, 'intrigu': 985, 'fashion': 986, 'paint': 987, 'skill': 988, 'introduc': 989, 'channel': 990, 'complex': 991, 'camp': 992, 'christian': 993, 'extra': 994, 'hole': 995, 'immedi': 996, 'limit': 997, 'mental': 998, 'ann': 999, '6': 1000, 'comput': 1001, 'million': 1002, 'slightli': 1003, 'mere': 1004, 'slasher': 1005, 'conclus': 1006, 'imposs': 1007, 'suddenli': 1008, 'crimin': 1009, 'teen': 1010, 'neither': 1011, 'nation': 1012, 'physic': 1013, 'spent': 1014, 'respons': 1015, 'planet': 1016, 'fake': 1017, 'receiv': 1018, 'sick': 1019, 'blue': 1020, 'bizarr': 1021, 'embarrass': 1022, 'indian': 1023, 'ring': 1024, '15': 1025, 'drop': 1026, 'pop': 1027, 'drag': 1028, 'haunt': 1029, 'suspect': 1030, 'pointless': 1031, 'search': 1032, 'edg': 1033, 'handl': 1034, 'common': 1035, 'biggest': 1036, 'hurt': 1037, 'faith': 1038, 'arriv': 1039, 'technic': 1040, 'angel': 1041, 'dad': 1042, 'genuin': 1043, 'f': 1044, 'solid': 1045, 'awesom': 1046, 'colleg': 1047, 'former': 1048, 'focu': 1049, 'van': 1050, 'count': 1051, 'heavi': 1052, 'tear': 1053, 'rais': 1054, 'wall': 1055, 'visit': 1056, 'laughabl': 1057, 'younger': 1058, 'sign': 1059, 'excus': 1060, 'fair': 1061, 'cult': 1062, 'key': 1063, 'motion': 1064, 'tough': 1065, 'desir': 1066, 'super': 1067, 'addit': 1068, 'stun': 1069, 'cloth': 1070, 'exploit': 1071, 'tortur': 1072, 'smith': 1073, 'davi': 1074, 'race': 1075, 'cross': 1076, 'author': 1077, 'jim': 1078, 'consist': 1079, 'minor': 1080, 'compel': 1081, 'focus': 1082, 'chemistri': 1083, 'commit': 1084, 'pathet': 1085, 'park': 1086, 'obsess': 1087, 'tradit': 1088, 'frank': 1089, 'grade': 1090, '60': 1091, 'asid': 1092, 'brutal': 1093, 'steve': 1094, 'somewher': 1095, 'opportun': 1096, 'explor': 1097, 'grant': 1098, 'depress': 1099, 'u': 1100, 'rule': 1101, 'besid': 1102, 'honest': 1103, 'anti': 1104, 'dub': 1105, 'trailer': 1106, 'intend': 1107, 'bar': 1108, 'regard': 1109, 'scientist': 1110, 'west': 1111, 'longer': 1112, 'judg': 1113, 'decad': 1114, 'silent': 1115, 'creativ': 1116, 'armi': 1117, 'wild': 1118, 'south': 1119, 'stewart': 1120, 'g': 1121, 'draw': 1122, 'road': 1123, 'govern': 1124, 'ex': 1125, 'boss': 1126, 'practic': 1127, 'festiv': 1128, 'gang': 1129, 'club': 1130, 'surprisingli': 1131, 'motiv': 1132, 'page': 1133, 'green': 1134, 'london': 1135, 'redeem': 1136, 'machin': 1137, 'display': 1138, 'idiot': 1139, 'aliv': 1140, 'militari': 1141, 'repeat': 1142, 'thrill': 1143, 'nobodi': 1144, '100': 1145, 'folk': 1146, 'yeah': 1147, '40': 1148, 'garbag': 1149, 'journey': 1150, 'tire': 1151, 'smile': 1152, 'ground': 1153, 'bought': 1154, 'mood': 1155, 'stone': 1156, 'sam': 1157, 'cost': 1158, 'noir': 1159, 'mouth': 1160, 'terrif': 1161, 'agent': 1162, 'utterli': 1163, 'requir': 1164, 'area': 1165, 'sexi': 1166, 'honestli': 1167, 'geniu': 1168, 'report': 1169, 'enter': 1170, 'humour': 1171, 'investig': 1172, 'glad': 1173, 'serial': 1174, 'narr': 1175, 'passion': 1176, 'occasion': 1177, 'climax': 1178, 'marriag': 1179, 'studi': 1180, 'industri': 1181, 'center': 1182, 'demon': 1183, 'nowher': 1184, 'charli': 1185, 'ship': 1186, 'hors': 1187, 'bear': 1188, 'loos': 1189, 'wow': 1190, 'hang': 1191, 'graphic': 1192, 'giant': 1193, 'admir': 1194, 'send': 1195, 'damn': 1196, 'loud': 1197, 'subtl': 1198, 'nake': 1199, 'profession': 1200, 'rel': 1201, 'blow': 1202, 'bottom': 1203, 'insult': 1204, 'batman': 1205, 'doubl': 1206, 'kelli': 1207, 'r': 1208, 'boyfriend': 1209, 'initi': 1210, 'frame': 1211, 'gem': 1212, 'opera': 1213, 'cinemat': 1214, 'challeng': 1215, 'affect': 1216, 'drawn': 1217, 'church': 1218, 'fulli': 1219, 'nightmar': 1220, 'seek': 1221, 'j': 1222, 'evid': 1223, 'l': 1224, 'conflict': 1225, 'arm': 1226, 'essenti': 1227, 'wind': 1228, 'christoph': 1229, 'grace': 1230, 'henri': 1231, 'narrat': 1232, 'assum': 1233, 'witch': 1234, 'push': 1235, 'hunt': 1236, 'chri': 1237, 'wise': 1238, 'month': 1239, 'nomin': 1240, 'repres': 1241, 'hide': 1242, 'avail': 1243, 'sceneri': 1244, 'affair': 1245, 'smart': 1246, 'thu': 1247, 'justic': 1248, 'bond': 1249, 'outstand': 1250, 'flashback': 1251, 'interview': 1252, 'satisfi': 1253, 'presenc': 1254, 'constantli': 1255, 'central': 1256, 'bed': 1257, 'iron': 1258, 'sell': 1259, 'content': 1260, 'gag': 1261, 'everybodi': 1262, 'slowli': 1263, 'hotel': 1264, 'hire': 1265, 'system': 1266, 'individu': 1267, 'hey': 1268, 'charl': 1269, 'thrown': 1270, 'adam': 1271, 'jone': 1272, 'mediocr': 1273, 'allen': 1274, 'ray': 1275, 'billi': 1276, 'lesson': 1277, 'cameo': 1278, 'photographi': 1279, 'fellow': 1280, 'pari': 1281, 'strike': 1282, 'independ': 1283, 'rise': 1284, 'absurd': 1285, 'brief': 1286, 'neg': 1287, 'impact': 1288, 'phone': 1289, 'model': 1290, 'born': 1291, 'ill': 1292, 'spoil': 1293, 'fresh': 1294, 'angl': 1295, 'abus': 1296, 'likabl': 1297, 'discuss': 1298, 'hill': 1299, 'ahead': 1300, 'sight': 1301, 'sent': 1302, 'photograph': 1303, 'shine': 1304, 'blame': 1305, 'occur': 1306, 'logic': 1307, 'mainli': 1308, 'bruce': 1309, 'skip': 1310, 'forev': 1311, 'commerci': 1312, 'surround': 1313, 'segment': 1314, 'teacher': 1315, 'held': 1316, 'zero': 1317, 'blond': 1318, 'satir': 1319, 'resembl': 1320, 'summer': 1321, 'trap': 1322, 'queen': 1323, 'six': 1324, 'fool': 1325, 'ball': 1326, 'tragedi': 1327, 'sub': 1328, 'twice': 1329, 'pack': 1330, 'reaction': 1331, 'bomb': 1332, 'protagonist': 1333, 'hospit': 1334, 'will': 1335, 'sport': 1336, 'mile': 1337, 'trust': 1338, 'vote': 1339, 'drink': 1340, 'jerri': 1341, 'mom': 1342, 'encount': 1343, 'plane': 1344, 'al': 1345, 'station': 1346, 'current': 1347, 'program': 1348, 'choos': 1349, 'celebr': 1350, 'martin': 1351, 'join': 1352, 'lord': 1353, 'field': 1354, 'round': 1355, 'favourit': 1356, 'tragic': 1357, 'vision': 1358, 'jean': 1359, 'robot': 1360, 'arthur': 1361, 'tie': 1362, 'fortun': 1363, 'roger': 1364, 'random': 1365, 'dread': 1366, 'intern': 1367, 'psycholog': 1368, 'epic': 1369, 'prefer': 1370, 'nonsens': 1371, 'improv': 1372, 'legend': 1373, 'highlight': 1374, 'pleasur': 1375, 'formula': 1376, '11': 1377, 'tape': 1378, 'dollar': 1379, 'fox': 1380, 'object': 1381, 'thin': 1382, 'porn': 1383, 'gorgeou': 1384, 'wide': 1385, 'ugli': 1386, 'influenc': 1387, 'buddi': 1388, 'nasti': 1389, 'ii': 1390, 'prepar': 1391, 'reflect': 1392, 'supposedli': 1393, 'progress': 1394, 'warm': 1395, 'youth': 1396, 'worthi': 1397, 'latter': 1398, 'unusu': 1399, 'length': 1400, 'crash': 1401, 'shop': 1402, 'seven': 1403, 'childhood': 1404, 'superior': 1405, 'remot': 1406, 'theatr': 1407, 'funniest': 1408, 'disgust': 1409, 'pilot': 1410, 'paid': 1411, 'trick': 1412, 'castl': 1413, 'fell': 1414, 'convers': 1415, 'disast': 1416, 'gangster': 1417, 'rob': 1418, 'establish': 1419, 'disappear': 1420, 'heaven': 1421, 'mine': 1422, 'ident': 1423, 'suicid': 1424, 'mask': 1425, 'singer': 1426, 'heroin': 1427, 'decis': 1428, 'forgotten': 1429, 'tend': 1430, 'brian': 1431, 'partner': 1432, 'alan': 1433, 'recogn': 1434, 'desert': 1435, 'ms': 1436, 'stuck': 1437, 'thoroughli': 1438, 'sky': 1439, 'p': 1440, 'accur': 1441, 'replac': 1442, 'market': 1443, 'danni': 1444, 'seemingli': 1445, 'commentari': 1446, 'clue': 1447, 'andi': 1448, 'uncl': 1449, 'eddi': 1450, 'jackson': 1451, 'devil': 1452, 'that': 1453, 'therefor': 1454, 'pair': 1455, 'refus': 1456, 'accid': 1457, 'fate': 1458, 'fault': 1459, 'river': 1460, 'ed': 1461, 'unit': 1462, 'afraid': 1463, 'tune': 1464, 'hidden': 1465, 'clean': 1466, 'stephen': 1467, 'russian': 1468, 'instanc': 1469, 'convey': 1470, 'irrit': 1471, 'captain': 1472, 'quick': 1473, 'test': 1474, 'readi': 1475, 'european': 1476, 'daniel': 1477, 'insan': 1478, 'frustrat': 1479, 'chines': 1480, 'wed': 1481, 'rescu': 1482, '1950': 1483, 'food': 1484, 'angri': 1485, 'dirti': 1486, 'lock': 1487, 'joy': 1488, 'steven': 1489, 'price': 1490, 'bland': 1491, 'cage': 1492, 'rang': 1493, 'anymor': 1494, 'wooden': 1495, 'n': 1496, 'jason': 1497, 'rush': 1498, 'news': 1499, 'martial': 1500, 'board': 1501, 'twenti': 1502, 'worri': 1503, '12': 1504, 'led': 1505, 'symbol': 1506, 'cgi': 1507, 'hunter': 1508, 'transform': 1509, 'x': 1510, 'invent': 1511, 'johnni': 1512, 'sentiment': 1513, 'piti': 1514, 'onto': 1515, 'attitud': 1516, 'explan': 1517, 'process': 1518, 'awar': 1519, 'owner': 1520, 'aim': 1521, 'necessari': 1522, 'favor': 1523, 'floor': 1524, 'energi': 1525, 'target': 1526, 'opposit': 1527, 'religi': 1528, 'window': 1529, 'blind': 1530, 'insight': 1531, 'chick': 1532, 'movement': 1533, 'comparison': 1534, 'possess': 1535, 'deepli': 1536, 'mountain': 1537, 'research': 1538, 'rain': 1539, 'grand': 1540, 'comed': 1541, 'whatsoev': 1542, 'shadow': 1543, 'mid': 1544, 'bank': 1545, 'began': 1546, 'parodi': 1547, 'princ': 1548, 'friendship': 1549, 'credibl': 1550, 'taylor': 1551, 'weapon': 1552, 'pre': 1553, 'flesh': 1554, 'teach': 1555, 'dougla': 1556, 'protect': 1557, 'bloodi': 1558, 'terror': 1559, 'hint': 1560, 'marvel': 1561, 'anybodi': 1562, 'load': 1563, 'watchabl': 1564, 'accord': 1565, 'leader': 1566, 'drunk': 1567, 'superman': 1568, 'freddi': 1569, 'brown': 1570, 'seat': 1571, 'tim': 1572, 'hitler': 1573, 'jeff': 1574, 'appropri': 1575, 'charg': 1576, 'knock': 1577, 'keaton': 1578, 'unknown': 1579, 'villag': 1580, 'enemi': 1581, 'england': 1582, 'media': 1583, 'empti': 1584, 'unnecessari': 1585, 'buck': 1586, 'craft': 1587, 'utter': 1588, 'dare': 1589, 'perspect': 1590, 'wave': 1591, 'strength': 1592, 'kiss': 1593, 'nativ': 1594, 'correct': 1595, 'ford': 1596, 'contrast': 1597, 'knowledg': 1598, 'anywher': 1599, 'speed': 1600, 'magnific': 1601, 'distract': 1602, 'chill': 1603, 'soap': 1604, 'nazi': 1605, 'mission': 1606, 'breath': 1607, 'fred': 1608, 'ice': 1609, '1980': 1610, 'moon': 1611, 'joan': 1612, 'crowd': 1613, 'jr': 1614, 'frighten': 1615, 'kate': 1616, 'soft': 1617, '000': 1618, 'hundr': 1619, 'dick': 1620, 'dan': 1621, 'nick': 1622, 'dozen': 1623, 'simon': 1624, 'radio': 1625, 'somebodi': 1626, 'loss': 1627, 'thousand': 1628, 'andrew': 1629, 'shakespear': 1630, 'academi': 1631, 'vehicl': 1632, 'root': 1633, 'quot': 1634, 'sum': 1635, 'account': 1636, 'leg': 1637, '1970': 1638, 'convent': 1639, 'behavior': 1640, 'gold': 1641, 'regular': 1642, 'compet': 1643, 'demand': 1644, 'pretenti': 1645, 'worker': 1646, 'japan': 1647, 'stretch': 1648, 'candi': 1649, 'notabl': 1650, 'explos': 1651, 'privat': 1652, 'interpret': 1653, 'lynch': 1654, 'constant': 1655, 'tarzan': 1656, 'debut': 1657, 'revolv': 1658, 'spi': 1659, 'translat': 1660, 'sea': 1661, 'prais': 1662, 'franc': 1663, 'threaten': 1664, 'technolog': 1665, 'sat': 1666, 'ass': 1667, 'failur': 1668, 'jesu': 1669, 'quiet': 1670, 'higher': 1671, 'toy': 1672, 'punch': 1673, 'met': 1674, 'kevin': 1675, 'aid': 1676, 'mike': 1677, 'interact': 1678, 'vh': 1679, 'abandon': 1680, 'bet': 1681, 'confront': 1682, 'separ': 1683, 'command': 1684, 'servic': 1685, 'techniqu': 1686, 'site': 1687, 'gotten': 1688, 'stunt': 1689, 'belong': 1690, 'recal': 1691, 'freak': 1692, 'bug': 1693, 'cabl': 1694, 'foot': 1695, 'fu': 1696, 'jimmi': 1697, 'capabl': 1698, 'african': 1699, 'bright': 1700, 'stock': 1701, 'presid': 1702, 'succeed': 1703, 'fat': 1704, 'boat': 1705, 'clark': 1706, 'spanish': 1707, 'gene': 1708, 'structur': 1709, 'kidnap': 1710, 'paper': 1711, 'whilst': 1712, 'belief': 1713, 'factor': 1714, 'complic': 1715, 'educ': 1716, 'tree': 1717, 'bob': 1718, 'realism': 1719, 'witti': 1720, 'realis': 1721, 'attend': 1722, 'broken': 1723, 'assist': 1724, 'santa': 1725, 'finest': 1726, 'v': 1727, 'determin': 1728, 'smoke': 1729, 'observ': 1730, 'depart': 1731, 'up': 1732, 'domin': 1733, 'routin': 1734, 'oper': 1735, 'hat': 1736, 'fame': 1737, 'rubbish': 1738, 'lewi': 1739, 'lone': 1740, 'hook': 1741, 'kinda': 1742, 'safe': 1743, 'foreign': 1744, 'morgan': 1745, 'advanc': 1746, 'numer': 1747, 'rank': 1748, 'washington': 1749, 'vs': 1750, 'shallow': 1751, 'civil': 1752, 'shape': 1753, 'rose': 1754, 'werewolf': 1755, 'morn': 1756, 'gari': 1757, 'ordinari': 1758, 'accomplish': 1759, 'winner': 1760, 'kong': 1761, 'virtual': 1762, 'whenev': 1763, 'grab': 1764, 'peac': 1765, 'luck': 1766, 'h': 1767, 'offens': 1768, 'contriv': 1769, 'unfunni': 1770, 'welcom': 1771, 'activ': 1772, 'bigger': 1773, 'patient': 1774, 'complain': 1775, 'dimension': 1776, 'pretend': 1777, 'con': 1778, 'trek': 1779, 'cain': 1780, 'dri': 1781, 'eric': 1782, 'lesbian': 1783, 'code': 1784, 'flash': 1785, 'wake': 1786, 'albert': 1787, 'manipul': 1788, 'corrupt': 1789, 'dancer': 1790, 'guard': 1791, 'statu': 1792, 'signific': 1793, 'sourc': 1794, 'gain': 1795, 'speech': 1796, 'awkward': 1797, 'context': 1798, 'psycho': 1799, 'clip': 1800, 'corni': 1801, 'sean': 1802, '13': 1803, 'anthoni': 1804, 'w': 1805, 'curiou': 1806, 'reli': 1807, 'theatric': 1808, 'advic': 1809, 'priest': 1810, 'religion': 1811, 'addict': 1812, 'flow': 1813, 'jennif': 1814, 'asian': 1815, 'secur': 1816, 'skin': 1817, 'howard': 1818, 'specif': 1819, 'core': 1820, 'promot': 1821, 'golden': 1822, 'comfort': 1823, 'organ': 1824, 'luke': 1825, 'cash': 1826, 'cheat': 1827, 'lucki': 1828, 'associ': 1829, 'dislik': 1830, 'lower': 1831, 'balanc': 1832, 'degre': 1833, 'frankli': 1834, 'devic': 1835, 'frequent': 1836, 'regret': 1837, 'contribut': 1838, 'wing': 1839, 'spell': 1840, 'print': 1841, 'forgiv': 1842, 'sake': 1843, 'lake': 1844, 'thoma': 1845, 'mass': 1846, 'betti': 1847, 'gordon': 1848, 'unexpect': 1849, 'crack': 1850, 'construct': 1851, 'invit': 1852, 'grown': 1853, 'amateur': 1854, 'depend': 1855, 'categori': 1856, 'unfold': 1857, 'grew': 1858, 'intellectu': 1859, 'condit': 1860, 'walter': 1861, 'matur': 1862, 'anna': 1863, 'honor': 1864, 'mirror': 1865, 'veteran': 1866, 'spectacular': 1867, 'sudden': 1868, 'sole': 1869, 'freedom': 1870, 'card': 1871, 'gift': 1872, 'experienc': 1873, 'overli': 1874, 'liner': 1875, 'grip': 1876, 'meanwhil': 1877, 'demonstr': 1878, 'robin': 1879, 'unabl': 1880, 'colour': 1881, 'drew': 1882, 'circumst': 1883, 'sheriff': 1884, 'section': 1885, 'subtitl': 1886, 'oliv': 1887, 'brilliantli': 1888, 'crappi': 1889, 'theori': 1890, 'parker': 1891, 'matt': 1892, 'laughter': 1893, 'cook': 1894, 'altern': 1895, 'path': 1896, 'sheer': 1897, 'pile': 1898, 'accident': 1899, 'defin': 1900, 'hall': 1901, 'wander': 1902, 'lawyer': 1903, 'treatment': 1904, 'sinatra': 1905, 'relief': 1906, 'captiv': 1907, 'hank': 1908, 'dragon': 1909, 'halloween': 1910, 'moor': 1911, 'gratuit': 1912, 'kung': 1913, 'wayn': 1914, 'broadway': 1915, 'unintent': 1916, 'wound': 1917, 'cowboy': 1918, 'k': 1919, 'barbara': 1920, 'jacki': 1921, 'spoof': 1922, 'statement': 1923, 'winter': 1924, 'canadian': 1925, 'surreal': 1926, 'fish': 1927, 'cheer': 1928, 'compos': 1929, 'fare': 1930, 'gonna': 1931, 'treasur': 1932, 'emerg': 1933, 'sensit': 1934, 'unrealist': 1935, 'victor': 1936, 'woodi': 1937, 'ran': 1938, 'sympathet': 1939, 'neighbor': 1940, 'driven': 1941, 'glass': 1942, 'overlook': 1943, 'topic': 1944, 'expos': 1945, 'menac': 1946, 'authent': 1947, 'handsom': 1948, 'chief': 1949, 'ancient': 1950, 'gross': 1951, 'michel': 1952, 'feet': 1953, 'comedian': 1954, 'contemporari': 1955, 'nevertheless': 1956, 'network': 1957, 'russel': 1958, 'built': 1959, 'stranger': 1960, 'pleasant': 1961, 'cinderella': 1962, 'consider': 1963, 'blockbust': 1964, 'miser': 1965, 'gori': 1966, 'letter': 1967, 'earn': 1968, 'underr': 1969, 'endless': 1970, 'solv': 1971, 'switch': 1972, 'brook': 1973, 'victoria': 1974, 'joseph': 1975, 'convict': 1976, 'virgin': 1977, 'bullet': 1978, 'edward': 1979, 'alex': 1980, 'chosen': 1981, '0': 1982, 'scale': 1983, 'scenario': 1984, 'cynic': 1985, 'curs': 1986, 'outrag': 1987, 'sword': 1988, 'gut': 1989, 'com': 1990, 'proper': 1991, 'wrap': 1992, 'substanc': 1993, 'uk': 1994, 'juli': 1995, 'screenwrit': 1996, 'driver': 1997, 'monkey': 1998, 'court': 1999, 'indic': 2000, 'bird': 2001, 'remov': 2002, 'par': 2003, 'grave': 2004, 'consequ': 2005, 'loser': 2006, 'advertis': 2007, 'naiv': 2008, 'nanci': 2009, 'rental': 2010, 'inevit': 2011, 'roy': 2012, 'germani': 2013, 'fatal': 2014, 'bridg': 2015, 'slap': 2016, 'brave': 2017, 'le': 2018, 'invis': 2019, 'footbal': 2020, 'ador': 2021, 'anger': 2022, 'provok': 2023, 'loui': 2024, 'anderson': 2025, 'alcohol': 2026, 'chan': 2027, 'willi': 2028, 'professor': 2029, 'stumbl': 2030, 'ryan': 2031, 'australian': 2032, '1930': 2033, 'bat': 2034, 'patrick': 2035, 'sharp': 2036, 'assassin': 2037, 'amateurish': 2038, 'cell': 2039, 'liber': 2040, 'heck': 2041, 'lousi': 2042, 'trilog': 2043, 'ape': 2044, 'saturday': 2045, 'deni': 2046, 'eight': 2047, 'strongli': 2048, 'refresh': 2049, 'sin': 2050, 'justifi': 2051, 'san': 2052, 'resid': 2053, 'vagu': 2054, 'indi': 2055, 'creator': 2056, 'sympathi': 2057, 'reput': 2058, 'mini': 2059, 'terrifi': 2060, 'defeat': 2061, 'tediou': 2062, 'prevent': 2063, 'endur': 2064, 'expert': 2065, 'tabl': 2066, 'task': 2067, 'trial': 2068, 'basebal': 2069, 'employ': 2070, 'rival': 2071, 'imit': 2072, 'offend': 2073, 'che': 2074, 'pitch': 2075, 'max': 2076, 'complaint': 2077, 'dig': 2078, 'europ': 2079, 'fairi': 2080, 'beach': 2081, 'weekend': 2082, 'risk': 2083, 'murphi': 2084, 'purchas': 2085, 'format': 2086, 'reminisc': 2087, 'powel': 2088, 'titan': 2089, 'bite': 2090, 'harsh': 2091, 'nois': 2092, 'hype': 2093, 'tini': 2094, 'glimps': 2095, 'till': 2096, 'fals': 2097, 'asleep': 2098, 'north': 2099, 'prime': 2100, 'strip': 2101, '14': 2102, 'texa': 2103, 'descript': 2104, 'destruct': 2105, 'revel': 2106, 'africa': 2107, 'arrest': 2108, 'excess': 2109, 'sitcom': 2110, 'surfac': 2111, 'inner': 2112, 'semi': 2113, 'uninterest': 2114, 'spin': 2115, 'maintain': 2116, 'hitchcock': 2117, 'controversi': 2118, 'massiv': 2119, 'dinosaur': 2120, 'argu': 2121, 'twin': 2122, 'makeup': 2123, 'expens': 2124, 'melodrama': 2125, 'kim': 2126, 'ludicr': 2127, 'ideal': 2128, 'stare': 2129, 'reject': 2130, 'insist': 2131, 'ala': 2132, 'press': 2133, 'nail': 2134, 'ga': 2135, 'forest': 2136, 'erot': 2137, 'atroci': 2138, 'supernatur': 2139, 'columbo': 2140, 'subplot': 2141, 'host': 2142, 'cant': 2143, 'presum': 2144, 'dude': 2145, 'identifi': 2146, 'notch': 2147, 'plagu': 2148, 'character': 2149, 'crude': 2150, 'closer': 2151, 'forgett': 2152, 'guest': 2153, 'method': 2154, 'foster': 2155, 'border': 2156, 'beast': 2157, 'princess': 2158, 'ear': 2159, 'lion': 2160, 'landscap': 2161, 'bound': 2162, 'jungl': 2163, 'accus': 2164, 'urban': 2165, 'previous': 2166, 'damag': 2167, 'pacino': 2168, 'storytel': 2169, 'birth': 2170, 'aunt': 2171, 'thirti': 2172, 'nude': 2173, 'doll': 2174, 'guid': 2175, 'propaganda': 2176, 'emma': 2177, 'chose': 2178, 'jess': 2179, '25': 2180, 'warrior': 2181, 'pet': 2182, 'whoever': 2183, 'mate': 2184, 'mainstream': 2185, 'size': 2186, 'exact': 2187, 'poster': 2188, 'deadli': 2189, 'latest': 2190, 'upset': 2191, 'gritti': 2192, 'merit': 2193, 'friday': 2194, 'cooper': 2195, 'buff': 2196, 'blend': 2197, 'settl': 2198, 'citizen': 2199, 'rough': 2200, 'contest': 2201, 'sun': 2202, 'warner': 2203, 'corps': 2204, 'contact': 2205, 'popul': 2206, '1990': 2207, 'wilson': 2208, 'ton': 2209, 'select': 2210, 'overcom': 2211, 'metal': 2212, 'mgm': 2213, 'pitt': 2214, 'alic': 2215, 'rat': 2216, 'widow': 2217, 'environ': 2218, 'bu': 2219, 'revolut': 2220, 'guilti': 2221, 'particip': 2222, 'ted': 2223, 'link': 2224, 'lift': 2225, '1960': 2226, 'accompani': 2227, 'prostitut': 2228, 'exagger': 2229, 'corner': 2230, 'matrix': 2231, 'afternoon': 2232, 'moron': 2233, 'johnson': 2234, 'corpor': 2235, 'holm': 2236, 'doom': 2237, 'instal': 2238, 'leagu': 2239, 'friendli': 2240, 'hood': 2241, 'sincer': 2242, 'clair': 2243, 'multipl': 2244, 'junk': 2245, 'irish': 2246, 'blah': 2247, 'hip': 2248, 'aka': 2249, 'sunday': 2250, 'advis': 2251, 'lugosi': 2252, 'campi': 2253, 'defend': 2254, 'grim': 2255, 'string': 2256, 'examin': 2257, 'icon': 2258, 'varieti': 2259, 'shake': 2260, 'rachel': 2261, 'pro': 2262, 'tight': 2263, 'confid': 2264, 'shut': 2265, 'jaw': 2266, 'directli': 2267, 'sullivan': 2268, 'goal': 2269, 'mexican': 2270, 'attach': 2271, 'medic': 2272, 'denni': 2273, 'sentenc': 2274, 'vietnam': 2275, 'legendari': 2276, 'prior': 2277, 'terrorist': 2278, 'breast': 2279, 'courag': 2280, 'bourn': 2281, 'sarah': 2282, 'truck': 2283, 'duke': 2284, 'dean': 2285, 'split': 2286, 'yell': 2287, 'entri': 2288, 'proceed': 2289, 'donald': 2290, 'nose': 2291, 'behav': 2292, 'hong': 2293, 'un': 2294, 'everywher': 2295, 'concentr': 2296, 'confess': 2297, 'borrow': 2298, 'unconvinc': 2299, 'swim': 2300, 'lifetim': 2301, 'crush': 2302, 'forth': 2303, 'gather': 2304, 'stolen': 2305, 'buri': 2306, 'jerk': 2307, 'deliveri': 2308, 'pan': 2309, 'california': 2310, 'lip': 2311, 'spite': 2312, 'turkey': 2313, 'julia': 2314, 'quest': 2315, 'downright': 2316, 'proud': 2317, 'hoffman': 2318, 'freeman': 2319, 'offici': 2320, 'reward': 2321, 'china': 2322, 'flight': 2323, 'jon': 2324, 'betray': 2325, 'sink': 2326, 'inept': 2327, 'sir': 2328, 'fabul': 2329, 'encourag': 2330, 'lazi': 2331, 'worthwhil': 2332, 'notori': 2333, 'fade': 2334, 'jail': 2335, 'survivor': 2336, 'bag': 2337, 'susan': 2338, 'shower': 2339, 'imageri': 2340, 'bell': 2341, 'storm': 2342, 'relev': 2343, 'lisa': 2344, 'cousin': 2345, 'teeth': 2346, 'retard': 2347, 'branagh': 2348, 'quirki': 2349, 'toler': 2350, 'finger': 2351, 'alright': 2352, 'tremend': 2353, 'facial': 2354, 'hugh': 2355, 'stab': 2356, 'bride': 2357, 'shark': 2358, 'summari': 2359, 'mexico': 2360, 'trade': 2361, 'blown': 2362, 'ha': 2363, 'pose': 2364, 'bitter': 2365, 'hyster': 2366, 'von': 2367, 'ned': 2368, 'afterward': 2369, 'scheme': 2370, 'cruel': 2371, 'bone': 2372, 'ron': 2373, 'address': 2374, 'larri': 2375, 'christ': 2376, 'tour': 2377, 'swear': 2378, 'thumb': 2379, 'snake': 2380, 'feed': 2381, 'screw': 2382, 'pursu': 2383, 'traci': 2384, 'distinct': 2385, 'beg': 2386, 'stomach': 2387, 'chair': 2388, 'raw': 2389, 'occas': 2390, 'mechan': 2391, 'photo': 2392, 'obscur': 2393, 'chain': 2394, 'heavili': 2395, 'gruesom': 2396, 'argument': 2397, 'render': 2398, 'cabin': 2399, 'holiday': 2400, 'sidney': 2401, 'resist': 2402, 'southern': 2403, 'necessarili': 2404, 'hardi': 2405, 'understood': 2406, 'indulg': 2407, 'racist': 2408, 'india': 2409, 'satan': 2410, 'philip': 2411, 'tongu': 2412, 'outfit': 2413, 'belov': 2414, 'obnoxi': 2415, 'forgot': 2416, 'stalk': 2417, 'midnight': 2418, 'integr': 2419, 'lay': 2420, 'pregnant': 2421, 'fourth': 2422, 'garden': 2423, 'magazin': 2424, 'slapstick': 2425, 'carol': 2426, '17': 2427, 'ticket': 2428, 'deeper': 2429, 'inhabit': 2430, 'restor': 2431, 'brad': 2432, 'lincoln': 2433, 'devot': 2434, 'incid': 2435, 'shoe': 2436, 'underground': 2437, 'anticip': 2438, 'maria': 2439, 'disbelief': 2440, 'lili': 2441, 'guarante': 2442, 'benefit': 2443, 'sandler': 2444, 'divorc': 2445, 'elizabeth': 2446, 'princip': 2447, 'mildli': 2448, 'capit': 2449, 'amazingli': 2450, 'greater': 2451, 'cring': 2452, 'creation': 2453, 'explod': 2454, 'bbc': 2455, 'slave': 2456, 'funnier': 2457, 'halfway': 2458, 'introduct': 2459, 'extraordinari': 2460, 'lesli': 2461, 'tap': 2462, 'transfer': 2463, 'advantag': 2464, 'wreck': 2465, 'overwhelm': 2466, 'extent': 2467, 'text': 2468, 'enhanc': 2469, 'punish': 2470, 'dynam': 2471, 'preview': 2472, 'east': 2473, 'jessica': 2474, 'plant': 2475, 'horrif': 2476, 'error': 2477, 'deliber': 2478, 'lane': 2479, 'lo': 2480, 'ensu': 2481, 'appli': 2482, 'vincent': 2483, 'sophist': 2484, 'basi': 2485, 'miller': 2486, '2000': 2487, 'vacat': 2488, 'miscast': 2489, 'homosexu': 2490, 'elev': 2491, 'steel': 2492, 'spoken': 2493, 'via': 2494, 'reed': 2495, 'mansion': 2496, 'measur': 2497, 'sleazi': 2498, 'extend': 2499, 'bollywood': 2500, 'uncomfort': 2501, 'hippi': 2502, 'cathol': 2503, 'assign': 2504, 'blair': 2505, 'overact': 2506, 'conceiv': 2507, 'fix': 2508, 'dentist': 2509, 'goofi': 2510, 'melt': 2511, 'savag': 2512, 'daili': 2513, 'alter': 2514, 'beer': 2515, 'breathtak': 2516, 'mous': 2517, 'stanley': 2518, 'burt': 2519, 'nowaday': 2520, 'inspector': 2521, 'sacrific': 2522, 'subsequ': 2523, 'everyday': 2524, 'carpent': 2525, 'oppos': 2526, 'succe': 2527, 'properli': 2528, 'massacr': 2529, 'block': 2530, 'neck': 2531, 'circl': 2532, 'laura': 2533, 'concert': 2534, 'access': 2535, 'lesser': 2536, 'fay': 2537, 'portrait': 2538, 'pool': 2539, 'christi': 2540, 'grey': 2541, 'fallen': 2542, 'mob': 2543, 'seagal': 2544, 'sinist': 2545, 'relax': 2546, 'chees': 2547, 'react': 2548, 'competit': 2549, 'jewish': 2550, 'isol': 2551, 'usa': 2552, 'jake': 2553, 'suitabl': 2554, 'stink': 2555, 'chop': 2556, 'creep': 2557, 'nonetheless': 2558, 'nine': 2559, 'lyric': 2560, 'appal': 2561, 'spiritu': 2562, 'ironi': 2563, 'immens': 2564, '2006': 2565, 'user': 2566, 'retir': 2567, 'needless': 2568, 'adopt': 2569, 'franchis': 2570, 'rage': 2571, 'shirt': 2572, 'spring': 2573, 'showcas': 2574, 'reduc': 2575, 'nut': 2576, 'navi': 2577, 'luci': 2578, 'sold': 2579, 'jay': 2580, 'zone': 2581, 'stanwyck': 2582, 'digit': 2583, 'nurs': 2584, 'bath': 2585, 'uninspir': 2586, 'per': 2587, 'bulli': 2588, 'asham': 2589, 'laid': 2590, 'amongst': 2591, 'illustr': 2592, 'sutherland': 2593, 'broadcast': 2594, '1940': 2595, 'upper': 2596, '2001': 2597, 'oddli': 2598, 'disguis': 2599, 'stylish': 2600, 'brando': 2601, 'throat': 2602, 'fulfil': 2603, 'baker': 2604, 'aspir': 2605, 'wanna': 2606, 'neighborhood': 2607, 'em': 2608, 'endear': 2609, '18': 2610, 'nobl': 2611, 'wwii': 2612, 'impli': 2613, 'pound': 2614, 'pride': 2615, 'thief': 2616, 'dawn': 2617, 'coher': 2618, 'tens': 2619, '16': 2620, 'cinematograph': 2621, 'shoulder': 2622, 'bo': 2623, 'shift': 2624, 'dinner': 2625, 'bett': 2626, 'albeit': 2627, 'distribut': 2628, 'prop': 2629, 'diseas': 2630, 'rochest': 2631, 'silenc': 2632, 'rebel': 2633, 'wash': 2634, 'poignant': 2635, 'shout': 2636, 'matthau': 2637, 'knife': 2638, 'contract': 2639, 'snow': 2640, 'function': 2641, 'forti': 2642, 'surf': 2643, 'mindless': 2644, 'horrend': 2645, 'cannib': 2646, 'heat': 2647, 'height': 2648, 'proof': 2649, 'widmark': 2650, 'duti': 2651, 'silver': 2652, 'henc': 2653, 'derek': 2654, 'internet': 2655, 'cancel': 2656, 'instinct': 2657, 'eeri': 2658, 'reunion': 2659, 'chuck': 2660, 'elvira': 2661, 'neat': 2662, 'torn': 2663, 'incoher': 2664, 'repetit': 2665, 'premier': 2666, 'absorb': 2667, 'mill': 2668, 'pie': 2669, 'glori': 2670, 'etern': 2671, 'elvi': 2672, 'spielberg': 2673, 'alik': 2674, 'greatli': 2675, 'innov': 2676, 'musician': 2677, 'fbi': 2678, 'infam': 2679, 'britain': 2680, 'homag': 2681, 'blank': 2682, 'precis': 2683, 'lovabl': 2684, 'crisi': 2685, 'nelson': 2686, 'wealthi': 2687, 'burton': 2688, 'trite': 2689, 'bang': 2690, 'itali': 2691, 'redempt': 2692, 'diamond': 2693, 'announc': 2694, 'horrifi': 2695, 'racism': 2696, 'wilder': 2697, 'happili': 2698, 'parallel': 2699, 'helen': 2700, 'ensembl': 2701, 'streisand': 2702, 'hammer': 2703, 'pat': 2704, 'flop': 2705, 'resolut': 2706, 'dedic': 2707, 'chaplin': 2708, 'triumph': 2709, 'oil': 2710, 'broke': 2711, 'plastic': 2712, 'mar': 2713, 'conclud': 2714, 'st': 2715, 'carter': 2716, 'cube': 2717, 'disagre': 2718, 'factori': 2719, 'own': 2720, 'row': 2721, 'weight': 2722, 'fighter': 2723, 'bush': 2724, 'climb': 2725, 'chuckl': 2726, 'rocket': 2727, 'march': 2728, 'vega': 2729, 'dane': 2730, 'lust': 2731, 'thug': 2732, 'wherea': 2733, 'sensibl': 2734, 'kurt': 2735, 'spare': 2736, 'boot': 2737, 'mst3k': 2738, 'dump': 2739, 'unforgett': 2740, 'luca': 2741, 'enorm': 2742, 'meaning': 2743, 'threat': 2744, 'adequ': 2745, 'bobbi': 2746, 'engin': 2747, 'brand': 2748, 'caricatur': 2749, 'dear': 2750, 'difficulti': 2751, 'fifti': 2752, 'butt': 2753, 'stress': 2754, 'rap': 2755, 'arnold': 2756, 'karloff': 2757, 'elabor': 2758, 'arrog': 2759, 'fest': 2760, 'journalist': 2761, 'barri': 2762, 'ralph': 2763, 'secretari': 2764, 'polish': 2765, 'hamlet': 2766, 'ego': 2767, 'homeless': 2768, 'flynn': 2769, 'swing': 2770, 'conspiraci': 2771, 'tool': 2772, 'simpson': 2773, 'fanci': 2774, 'induc': 2775, 'puppet': 2776, 'spike': 2777, 'grate': 2778, 'resort': 2779, 'float': 2780, 'unbear': 2781, 'arrang': 2782, 'phillip': 2783, 'choreograph': 2784, 'muppet': 2785, 'pig': 2786, 'boll': 2787, 'exercis': 2788, 'basement': 2789, 'tribut': 2790, 'guilt': 2791, 'cruis': 2792, 'editor': 2793, 'ham': 2794, 'tower': 2795, 'toilet': 2796, 'babe': 2797, 'medium': 2798, 'layer': 2799, '24': 2800, 'scarecrow': 2801, 'ward': 2802, 'fianc': 2803, 'file': 2804, 'stan': 2805, 'puzzl': 2806, 'slip': 2807, 'korean': 2808, 'item': 2809, 'document': 2810, 'larger': 2811, 'minim': 2812, 'glover': 2813, 'superfici': 2814, 'slaughter': 2815, 'librari': 2816, 'orient': 2817, 'persona': 2818, 'catherin': 2819, 'doc': 2820, 'assur': 2821, 'inexplic': 2822, 'portion': 2823, 'transit': 2824, 'philosoph': 2825, 'spark': 2826, 'denzel': 2827, 'territori': 2828, 'dorothi': 2829, 'curti': 2830, 'owe': 2831, 'walken': 2832, 'financi': 2833, 'shi': 2834, 'ban': 2835, 'wolf': 2836, 'pg': 2837, 'sneak': 2838, 'jet': 2839, 'jeremi': 2840, 'boredom': 2841, 'backdrop': 2842, 'metaphor': 2843, 'hudson': 2844, 'multi': 2845, 'ambigu': 2846, 'eleph': 2847, 'profound': 2848, 'whale': 2849, 'cusack': 2850, 'hack': 2851, 'implaus': 2852, 'elsewher': 2853, 'union': 2854, 'ultra': 2855, 'birthday': 2856, 'notion': 2857, 'viru': 2858, 'stiff': 2859, 'rave': 2860, '2005': 2861, 'gadget': 2862, 'disc': 2863, 'lloyd': 2864, 'distanc': 2865, 'bibl': 2866, '1st': 2867, 'afford': 2868, 'slight': 2869, 'poison': 2870, 'squar': 2871, 'pad': 2872, 'newspap': 2873, 'eva': 2874, 'hawk': 2875, 'superhero': 2876, 'deriv': 2877, 'eastwood': 2878, 'canada': 2879, 'reader': 2880, 'urg': 2881, 'charisma': 2882, 'sadist': 2883, 'button': 2884, 'essenc': 2885, 'montag': 2886, 'spread': 2887, 'health': 2888, 'cure': 2889, 'huh': 2890, 'skit': 2891, 'restaur': 2892, 'drown': 2893, 'heston': 2894, 'dealt': 2895, 'godfath': 2896, 'maniac': 2897, 'lab': 2898, 'muslim': 2899, 'peak': 2900, 'fetch': 2901, 'invest': 2902, 'estat': 2903, 'scoobi': 2904, 'gradual': 2905, 'companion': 2906, 'cup': 2907, 'kane': 2908, 'subtleti': 2909, 'gothic': 2910, 'alli': 2911, 'miik': 2912, 'countless': 2913, 'tea': 2914, 'servant': 2915, 'ritter': 2916, 'electr': 2917, 'heroic': 2918, 'elect': 2919, 'charismat': 2920, 'salli': 2921, 'iii': 2922, 'briefli': 2923, 'reel': 2924, 'nuanc': 2925, 'neil': 2926, 'toss': 2927, 'bud': 2928, 'tender': 2929, 'grandmoth': 2930, 'ingredi': 2931, 'wannab': 2932, 'admittedli': 2933, 'resourc': 2934, 'cole': 2935, 'pit': 2936, 'gate': 2937, 'punk': 2938, 'label': 2939, 'shall': 2940, 'stronger': 2941, 'mafia': 2942, 'kubrick': 2943, 'carrey': 2944, 'reev': 2945, 'mild': 2946, 'dawson': 2947, 'poverti': 2948, 'stood': 2949, 'pauli': 2950, 'useless': 2951, 'fond': 2952, 'easier': 2953, 'cardboard': 2954, 'assault': 2955, 'terri': 2956, 'outcom': 2957, 'burst': 2958, 'cox': 2959, 'smash': 2960, 'ian': 2961, 'astair': 2962, 'updat': 2963, 'tag': 2964, 'smooth': 2965, 'bakshi': 2966, 'divers': 2967, 'samurai': 2968, 'sketch': 2969, 'increasingli': 2970, 'coincid': 2971, '2002': 2972, 'qualifi': 2973, 'rex': 2974, 'fist': 2975, 'resolv': 2976, 'vulner': 2977, 'melodramat': 2978, 'vari': 2979, 'exchang': 2980, 'luckili': 2981, 'conveni': 2982, 'blast': 2983, 'suspend': 2984, 'reynold': 2985, 'insert': 2986, 'tame': 2987, 'brillianc': 2988, 'be': 2989, 'templ': 2990, 'scratch': 2991, 'jami': 2992, 'nuclear': 2993, 'walker': 2994, 'strictli': 2995, 'matthew': 2996, 'hamilton': 2997, 'soprano': 2998, 'farm': 2999, 'pin': 3000, 'ambiti': 3001, 'seventi': 3002, 'coach': 3003, 'gotta': 3004, 'fisher': 3005, 'meat': 3006, 'timeless': 3007, 'grasp': 3008, 'spooki': 3009, 'empir': 3010, 'revers': 3011, 'convolut': 3012, 'closet': 3013, 'clock': 3014, 'joey': 3015, 'eccentr': 3016, 'cave': 3017, 'kudo': 3018, 'worthless': 3019, 'brosnan': 3020, 'discoveri': 3021, 'monk': 3022, 'recreat': 3023, 'butcher': 3024, 'struck': 3025, 'instantli': 3026, 'ninja': 3027, 'evok': 3028, 'cliff': 3029, 'declar': 3030, 'importantli': 3031, 'communist': 3032, 'norman': 3033, 'partli': 3034, 'inconsist': 3035, 'clown': 3036, 'pal': 3037, 'fifteen': 3038, 'selfish': 3039, 'seller': 3040, 'gray': 3041, 'wipe': 3042, 'eighti': 3043, 'mitchel': 3044, 'sloppi': 3045, 'miracl': 3046, 'bleak': 3047, 'sidekick': 3048, 'debat': 3049, 'stoog': 3050, 'aforement': 3051, 'cheek': 3052, 'farc': 3053, 'psychiatrist': 3054, 'enthusiast': 3055, 'flawless': 3056, 'chew': 3057, '45': 3058, 'australia': 3059, 'superbl': 3060, 'seed': 3061, 'lifestyl': 3062, 'ho': 3063, 'piano': 3064, 'destin': 3065, 'websit': 3066, 'dire': 3067, 'akshay': 3068, 'drivel': 3069, 'regardless': 3070, 'soviet': 3071, 'slice': 3072, 'wrestl': 3073, 'kitchen': 3074, 'splatter': 3075, 'directori': 3076, 'wick': 3077, 'dash': 3078, 'incompet': 3079, 'emili': 3080, 'pressur': 3081, 'anni': 3082, 'bash': 3083, 'abc': 3084, 'distant': 3085, 'flower': 3086, 'artifici': 3087, 'ken': 3088, 'cagney': 3089, 'jar': 3090, 'judi': 3091, 'beaten': 3092, 'increas': 3093, 'seduc': 3094, 'recov': 3095, 'curios': 3096, 'boil': 3097, 'glow': 3098, 'dave': 3099, 'chapter': 3100, 'doo': 3101, 'prize': 3102, 'cia': 3103, 'duo': 3104, 'mann': 3105, 'suppli': 3106, 'cameron': 3107, 'lou': 3108, 'helicopt': 3109, 'pleasantli': 3110, 'blob': 3111, 'psychot': 3112, 'panic': 3113, 'ranger': 3114, 'hop': 3115, 'turner': 3116, 'laurel': 3117, 'perri': 3118, 'drunken': 3119, 'splendid': 3120, 'glenn': 3121, 'craven': 3122, 'web': 3123, 'combat': 3124, 'ellen': 3125, 'goldberg': 3126, 'craig': 3127, 'eleg': 3128, 'favour': 3129, 'francisco': 3130, 'slightest': 3131, 'hatr': 3132, 'graduat': 3133, '20th': 3134, 'philosophi': 3135, 'greek': 3136, 'plausibl': 3137, 'gandhi': 3138, 'alexand': 3139, 'min': 3140, 'shortli': 3141, 'flip': 3142, 'falk': 3143, 'fx': 3144, 'wizard': 3145, 'gentl': 3146, 'rid': 3147, 'ruth': 3148, 'modesti': 3149, 'manhattan': 3150, 'fund': 3151, 'preciou': 3152, 'holi': 3153, 'unpleas': 3154, 'futurist': 3155, 'tall': 3156, 'we': 3157, 'felix': 3158, 'ocean': 3159, 'dracula': 3160, 'harm': 3161, 'knight': 3162, 'legal': 3163, 'lend': 3164, 'jealou': 3165, 'mock': 3166, 'scientif': 3167, 'childish': 3168, 'explicit': 3169, 'bless': 3170, 'overdon': 3171, 'giallo': 3172, 'reviv': 3173, 'ami': 3174, 'nod': 3175, 'digniti': 3176, 'thread': 3177, 'tank': 3178, 'forbidden': 3179, 'fever': 3180, 'eve': 3181, 'awaken': 3182, 'repeatedli': 3183, 'broad': 3184, 'thick': 3185, 'unwatch': 3186, 'awe': 3187, 'elderli': 3188, '99': 3189, 'margaret': 3190, 'torment': 3191, 'yesterday': 3192, 'mel': 3193, 'verhoeven': 3194, 'pirat': 3195, '2004': 3196, 'nerv': 3197, 'ambit': 3198, 'uniform': 3199, 'ah': 3200, 'acclaim': 3201, 'kay': 3202, 'publish': 3203, 'automat': 3204, 'rivet': 3205, 'timothi': 3206, 'launch': 3207, 'politician': 3208, 'absenc': 3209, 'griffith': 3210, 'romero': 3211, 'stiller': 3212, 'royal': 3213, 'eas': 3214, 'bin': 3215, 'lean': 3216, 'roman': 3217, 'custom': 3218, 'homicid': 3219, 'pierc': 3220, 'antic': 3221, 'crook': 3222, 'purpl': 3223, 'warren': 3224, 'transport': 3225, 'tomato': 3226, 'gabriel': 3227, 'wallac': 3228, 'phrase': 3229, 'foul': 3230, 'stinker': 3231, 'pulp': 3232, 'darker': 3233, 'sunshin': 3234, 'termin': 3235, 'bathroom': 3236, 'brazil': 3237, 'choreographi': 3238, 'contrari': 3239, 'kenneth': 3240, 'coloni': 3241, 'pray': 3242, 'sixti': 3243, 'horrid': 3244, 'viciou': 3245, 'marin': 3246, 'juvenil': 3247, 'donna': 3248, 'li': 3249, 'packag': 3250, 'awak': 3251, 'saint': 3252, 'hollow': 3253, '2003': 3254, 'revolutionari': 3255, 'q': 3256, 'evolv': 3257, 'eyr': 3258, 'karen': 3259, 'album': 3260, 'prom': 3261, 'rambo': 3262, 'ought': 3263, 'option': 3264, 'beatti': 3265, 'conserv': 3266, 'ireland': 3267, 'defi': 3268, 'kapoor': 3269, 'twelv': 3270, 'nerd': 3271, 'boast': 3272, 'mummi': 3273, 'stole': 3274, 'mildr': 3275, 'overr': 3276, 'blade': 3277, 'candid': 3278, 'dose': 3279, 'ramon': 3280, 'protest': 3281, 'flame': 3282, 'collabor': 3283, 'astonish': 3284, 'confirm': 3285, 'jazz': 3286, 'trio': 3287, 'detract': 3288, 'global': 3289, 'natali': 3290, 'kirk': 3291, 'funer': 3292, 'altman': 3293, 'fulci': 3294, 'racial': 3295, 'yellow': 3296, 'spit': 3297, 'shade': 3298, 'blake': 3299, 'bull': 3300, 'delici': 3301, 'leap': 3302, 'tommi': 3303, 'audio': 3304, 'whip': 3305, 'nicholson': 3306, 'mystic': 3307, 'enterpris': 3308, 'bottl': 3309, 'destini': 3310, 'vivid': 3311, 'popcorn': 3312, 'harder': 3313, 'visibl': 3314, 'todd': 3315, 'altogeth': 3316, 'staff': 3317, 'bedroom': 3318, 'swedish': 3319, 'threw': 3320, 'pseudo': 3321, 'inherit': 3322, 'merci': 3323, 'adolesc': 3324, 'enchant': 3325, 'neo': 3326, 'fonda': 3327, 'reunit': 3328, 'meaningless': 3329, 'fanat': 3330, 'decor': 3331, 'crocodil': 3332, 'befriend': 3333, 'suspici': 3334, 'ruthless': 3335, 'jew': 3336, 'lawrenc': 3337, 'leonard': 3338, 'await': 3339, 'tip': 3340, 'madonna': 3341, 'bust': 3342, 'wire': 3343, 'lemmon': 3344, 'respond': 3345, 'moodi': 3346, 'roommat': 3347, 'kennedi': 3348, 'exhibit': 3349, 'uneven': 3350, 'voight': 3351, 'reserv': 3352, 'atlanti': 3353, 'synopsi': 3354, 'edi': 3355, 'abysm': 3356, 'incident': 3357, 'garner': 3358, 'centr': 3359, 'dimens': 3360, 'carl': 3361, 'voyag': 3362, 'rural': 3363, 'palma': 3364, 'holli': 3365, 'clint': 3366, 'chao': 3367, 'audit': 3368, 'bold': 3369, 'bradi': 3370, 'clumsi': 3371, 'bargain': 3372, 'ventur': 3373, '2007': 3374, 'unsettl': 3375, 'cd': 3376, 'versu': 3377, 'hart': 3378, 'echo': 3379, 'mall': 3380, 'elimin': 3381, 'daddi': 3382, 'humili': 3383, 'neglect': 3384, 'wealth': 3385, 'characterist': 3386, 'lit': 3387, 'imperson': 3388, 'nearbi': 3389, 'acknowledg': 3390, 'trail': 3391, 'troop': 3392, 'cari': 3393, 'cuba': 3394, 'poetic': 3395, 'immigr': 3396, '2nd': 3397, 'tiger': 3398, 'ant': 3399, 'timon': 3400, 'pun': 3401, 'prejudic': 3402, 'mistaken': 3403, 'saga': 3404, 'infect': 3405, 'repuls': 3406, 'mickey': 3407, 'collaps': 3408, 'solo': 3409, 'domest': 3410, 'paus': 3411, 'homer': 3412, 'celluloid': 3413, 'jeffrey': 3414, 'marshal': 3415, 'assembl': 3416, 'pant': 3417, 'gear': 3418, 'chest': 3419, 'coffe': 3420, 'inappropri': 3421, 'sore': 3422, 'tribe': 3423, '1996': 3424, 'apolog': 3425, 'undoubtedli': 3426, 'hbo': 3427, 'interrupt': 3428, 'equip': 3429, 'cake': 3430, 'harvey': 3431, 'ginger': 3432, 'milk': 3433, 'coat': 3434, 'inan': 3435, 'promin': 3436, 'leon': 3437, 'olivi': 3438, 'florida': 3439, 'embrac': 3440, 'humbl': 3441, 'devast': 3442, 'aveng': 3443, 'vulgar': 3444, 'trace': 3445, 'instant': 3446, 'institut': 3447, 'highest': 3448, 'solut': 3449, 'consum': 3450, 'polanski': 3451, 'airplan': 3452, 'pen': 3453, 'jenni': 3454, 'pot': 3455, 'primari': 3456, 'exot': 3457, 'furthermor': 3458, 'colonel': 3459, 'colleagu': 3460, 'brooklyn': 3461, 'maggi': 3462, 'retain': 3463, '1999': 3464, 'ya': 3465, 'descend': 3466, 'gender': 3467, 'seduct': 3468, 'poke': 3469, 'godzilla': 3470, 'illog': 3471, 'principl': 3472, 'cope': 3473, 'dian': 3474, 'wive': 3475, 'outer': 3476, 'sale': 3477, 'smaller': 3478, 'strain': 3479, 'linda': 3480, 'bowl': 3481, 'rick': 3482, '3rd': 3483, 'disabl': 3484, 'dutch': 3485, 'yard': 3486, 'primarili': 3487, 'blatant': 3488, 'rabbit': 3489, 'devoid': 3490, 'inferior': 3491, 'scope': 3492, 'hal': 3493, 'lol': 3494, 'mixtur': 3495, 'dive': 3496, 'gloriou': 3497, 'cue': 3498, 'secondli': 3499, 'vast': 3500, 'glamor': 3501, 'beneath': 3502, 'bubbl': 3503, 'predecessor': 3504, 'dud': 3505, 'gundam': 3506, 'disjoint': 3507, 'simplist': 3508, 'hideou': 3509, 'aggress': 3510, 'casual': 3511, 'senseless': 3512, 'arab': 3513, 'talki': 3514, 'shirley': 3515, 'et': 3516, 'countrysid': 3517, 'museum': 3518, 'myer': 3519, 'trademark': 3520, 'invas': 3521, 'alert': 3522, 'z': 3523, 'alfr': 3524, 'shelf': 3525, 'domino': 3526, 'breed': 3527, 'pearl': 3528, 'streep': 3529, 'april': 3530, 'garbo': 3531, 'grinch': 3532, 'hardcor': 3533, 'sh': 3534, 'stack': 3535, 'oz': 3536, 'defens': 3537, 'obtain': 3538, 'stir': 3539, 'khan': 3540, 'stellar': 3541, 'robinson': 3542, 'hopeless': 3543, 'mayor': 3544, 'rendit': 3545, 'vanish': 3546, 'unhappi': 3547, 'robberi': 3548, 'acid': 3549, 'uwe': 3550, 'disgrac': 3551, 'boom': 3552, 'mail': 3553, 'slide': 3554, 'experiment': 3555, 'applaud': 3556, 'maci': 3557, 'loyal': 3558, 'illeg': 3559, 'psychic': 3560, 'soccer': 3561, 'tempt': 3562, 'declin': 3563, 'fri': 3564, 'wont': 3565, 'incomprehens': 3566, 'counter': 3567, 'topless': 3568, 'dismiss': 3569, 'berlin': 3570, 'grandfath': 3571, 'tenant': 3572, 'craze': 3573, 'spider': 3574, 'diana': 3575, 'span': 3576, 'blew': 3577, 'scroog': 3578, 'rifl': 3579, 'hartley': 3580, 'recruit': 3581, 'emphasi': 3582, 'amanda': 3583, 'dicken': 3584, 'riot': 3585, 'shaw': 3586, 'niro': 3587, 'wet': 3588, 'faster': 3589, 'trashi': 3590, 'parad': 3591, 'justin': 3592, 'ethnic': 3593, 'sympath': 3594, 'bitch': 3595, 'lumet': 3596, 'porno': 3597, 'woo': 3598, 'sibl': 3599, 'resurrect': 3600, 'shed': 3601, 'goer': 3602, 'intim': 3603, 'ration': 3604, 'revolt': 3605, 'feminist': 3606, 'steam': 3607, 'slick': 3608, 'weakest': 3609, 'commend': 3610, 'immort': 3611, 'biographi': 3612, 'mario': 3613, 'farmer': 3614, 'partial': 3615, 'honesti': 3616, 'dealer': 3617, 'region': 3618, 'wheel': 3619, 'worm': 3620, 'eager': 3621, 'wendi': 3622, 'hesit': 3623, 'choru': 3624, 'ballet': 3625, 'enlighten': 3626, '00': 3627, 'ensur': 3628, 'nephew': 3629, 'lena': 3630, 'jonathan': 3631, 'gap': 3632, 'hopper': 3633, 'andr': 3634, 'patriot': 3635, 'unreal': 3636, 'rider': 3637, 'properti': 3638, 'psychopath': 3639, 'owen': 3640, 'wore': 3641, 'safeti': 3642, 'confin': 3643, 'snap': 3644, 'sappi': 3645, 'morri': 3646, 'util': 3647, 'victori': 3648, 'mutant': 3649, 'vice': 3650, 'hung': 3651, 'charlott': 3652, 'blunt': 3653, 'kingdom': 3654, 'prequel': 3655, 'composit': 3656, 'skull': 3657, 'repress': 3658, 'similarli': 3659, 'leo': 3660, 'macarthur': 3661, 'sandra': 3662, 'nostalg': 3663, 'franco': 3664, 'bonu': 3665, '1972': 3666, 'recycl': 3667, 'cg': 3668, 'compens': 3669, 'kyle': 3670, 'drum': 3671, 'dust': 3672, 'heartbreak': 3673, 'pattern': 3674, 'tail': 3675, 'bumbl': 3676, 'drain': 3677, 'rambl': 3678, 'bow': 3679, 'despair': 3680, 'valuabl': 3681, 'del': 3682, 'compass': 3683, 'acquir': 3684, 'bergman': 3685, 'hyde': 3686, 'strand': 3687, 'dalton': 3688, 'farrel': 3689, 'deed': 3690, 'whoopi': 3691, 'nervou': 3692, 'exit': 3693, 'thru': 3694, 'latin': 3695, 'repli': 3696, 'emperor': 3697, 'rope': 3698, 'montana': 3699, 'rocki': 3700, 'miseri': 3701, 'snl': 3702, 'tad': 3703, 'campbel': 3704, 'speci': 3705, '35': 3706, 'tonight': 3707, 'pour': 3708, 'percept': 3709, 'bleed': 3710, 'rotten': 3711, 'roth': 3712, 'gal': 3713, 'downhil': 3714, 'carradin': 3715, 'chess': 3716, 'contempl': 3717, 'martian': 3718, 'romp': 3719, 'da': 3720, 'slug': 3721, 'oppress': 3722, 'radic': 3723, 'mistress': 3724, 'gimmick': 3725, 'wacki': 3726, 'orson': 3727, 'airport': 3728, 'rapist': 3729, 'olli': 3730, 'arguabl': 3731, 'edgar': 3732, 'mislead': 3733, 'preach': 3734, 'unpredict': 3735, 'slash': 3736, '1983': 3737, 'stilt': 3738, 'pursuit': 3739, 'heal': 3740, 'pervers': 3741, 'tackl': 3742, 'paltrow': 3743, 'pervert': 3744, 'programm': 3745, 'tooth': 3746, 'arc': 3747, 'dazzl': 3748, 'shelley': 3749, 'taught': 3750, 'attorney': 3751, 'melodi': 3752, 'belt': 3753, 'banal': 3754, 'champion': 3755, 'closest': 3756, 'conneri': 3757, 'bela': 3758, 'rubi': 3759, 'vengeanc': 3760, 'passeng': 3761, 'sensat': 3762, 'maid': 3763, 'plight': 3764, 'virginia': 3765, 'orang': 3766, 'uplift': 3767, 'cleverli': 3768, 'vocal': 3769, 'duval': 3770, 'chicken': 3771, 'gambl': 3772, 'raymond': 3773, 'tiresom': 3774, 'graham': 3775, 'mesmer': 3776, 'employe': 3777, 'poem': 3778, 'marti': 3779, 'dixon': 3780, 'franki': 3781, 'bay': 3782, 'sirk': 3783, 'extens': 3784, 'scottish': 3785, 'secretli': 3786, 'volum': 3787, 'outing': 3788, 'inject': 3789, 'numb': 3790, 'swallow': 3791, 'whine': 3792, 'giggl': 3793, 'lundgren': 3794, 'pokemon': 3795, '1968': 3796, 'calm': 3797, 'iran': 3798, 'paranoia': 3799, 'suffic': 3800, 'amitabh': 3801, 'yawn': 3802, 'crystal': 3803, 'mute': 3804, 'tube': 3805, 'convincingli': 3806, 'clone': 3807, 'habit': 3808, 'abraham': 3809, 'profan': 3810, 'gerard': 3811, 'monologu': 3812, 'engross': 3813, 'climact': 3814, 'quarter': 3815, 'surpass': 3816, 'abort': 3817, 'bend': 3818, 'earl': 3819, 'grotesqu': 3820, 'fed': 3821, 'profess': 3822, 'richardson': 3823, 'lowest': 3824, 'junior': 3825, 'backward': 3826, 'trend': 3827, 'taxi': 3828, 'linger': 3829, 'im': 3830, 'septemb': 3831, 'nichola': 3832, 'poetri': 3833, 'expand': 3834, 'underst': 3835, 'plod': 3836, 'meander': 3837, 'frankenstein': 3838, 'chicago': 3839, 'ethan': 3840, 'austen': 3841, 'spock': 3842, 'franci': 3843, 'dispos': 3844, 'mundan': 3845, 'econom': 3846, 'eugen': 3847, 'nostalgia': 3848, 'rubber': 3849, 'compliment': 3850, 'instrument': 3851, 'stallon': 3852, 'tourist': 3853, 'household': 3854, 'lure': 3855, 'simplic': 3856, 'descent': 3857, 'muddl': 3858, 'cannon': 3859, 'waitress': 3860, 'sue': 3861, 'hum': 3862, 'catchi': 3863, 'dysfunct': 3864, 'greedi': 3865, 'der': 3866, 'myth': 3867, 'literatur': 3868, 'spoke': 3869, 'rant': 3870, 'phoni': 3871, 'bacal': 3872, 'phantom': 3873, 'lang': 3874, 'map': 3875, 'dement': 3876, 'duck': 3877, 'stale': 3878, 'sissi': 3879, 'flee': 3880, 'insur': 3881, 'alongsid': 3882, 'recognis': 3883, 'damon': 3884, 'coast': 3885, 'hello': 3886, 'crucial': 3887, 'mankind': 3888, 'molli': 3889, 'furi': 3890, 'eaten': 3891, 'mortal': 3892, 'irrelev': 3893, 'deaf': 3894, 'louis': 3895, 'equival': 3896, 'carel': 3897, 'recognit': 3898, 'occupi': 3899, 'firstli': 3900, 'randi': 3901, 'cent': 3902, 'dictat': 3903, 'omen': 3904, 'june': 3905, 'loyalti': 3906, 'bump': 3907, 'lengthi': 3908, 'distinguish': 3909, 'ashley': 3910, 'wisdom': 3911, 'labor': 3912, 'twilight': 3913, 'reign': 3914, 'rooney': 3915, 'damm': 3916, 'bike': 3917, 'likewis': 3918, 'blackmail': 3919, 'dreari': 3920, 'rude': 3921, 'heel': 3922, '1973': 3923, 'grayson': 3924, 'daisi': 3925, 'drake': 3926, 'buffalo': 3927, 'biko': 3928, 'cyborg': 3929, 'newli': 3930, 'freez': 3931, 'onlin': 3932, 'antwon': 3933, 'unorigin': 3934, 'vein': 3935, 'nineti': 3936, 'analysi': 3937, 'basketbal': 3938, 'incorpor': 3939, 'butler': 3940, 'exposur': 3941, 'inher': 3942, 'worn': 3943, 'emphas': 3944, 'provoc': 3945, 'interior': 3946, 'tunnel': 3947, 'startl': 3948, 'attribut': 3949, 'keith': 3950, 'ridden': 3951, 'boxer': 3952, 'proce': 3953, 'sailor': 3954, 'baddi': 3955, 'pink': 3956, 'prey': 3957, 'barrymor': 3958, 'chronicl': 3959, 'approv': 3960, 'er': 3961, 'julian': 3962, 'mormon': 3963, 'indiffer': 3964, 'undeni': 3965, 'barrel': 3966, 'simmon': 3967, 'improvis': 3968, 'meg': 3969, 'robbin': 3970, 'hypnot': 3971, 'underli': 3972, 'stalker': 3973, 'meyer': 3974, 'drift': 3975, 'predat': 3976, 'belushi': 3977, 'millionair': 3978, 'degrad': 3979, 'fleet': 3980, 'walsh': 3981, 'mighti': 3982, 'othello': 3983, 'elm': 3984, 'substitut': 3985, 'nicol': 3986, 'bunni': 3987, 'condemn': 3988, 'unrel': 3989, 'carla': 3990, 'alarm': 3991, 'unawar': 3992, 'priceless': 3993, 'dolph': 3994, 'hay': 3995, 'greed': 3996, 'alison': 3997, '3d': 3998, 'exquisit': 3999, 'shove': 4000, 'nyc': 4001, 'vital': 4002, 'disord': 4003, 'lampoon': 4004, 'roof': 4005, 'marion': 4006, 'palac': 4007, 'agenda': 4008, 'reid': 4009, 'firm': 4010, 'watson': 4011, 'novak': 4012, 'mtv': 4013, 'rukh': 4014, 'errol': 4015, 'warmth': 4016, 'edgi': 4017, 'enthusiasm': 4018, 'nun': 4019, 'beatl': 4020, 'randomli': 4021, 'championship': 4022, 'israel': 4023, 'what': 4024, 'simultan': 4025, 'profit': 4026, 'eastern': 4027, 'iraq': 4028, 'distort': 4029, 'angela': 4030, 'unleash': 4031, 'valentin': 4032, 'gestur': 4033, 'preserv': 4034, 'thompson': 4035, 'crown': 4036, 'orlean': 4037, 'sergeant': 4038, 'petti': 4039, 'coup': 4040, 'glanc': 4041, 'cassidi': 4042, 'pamela': 4043, 'ponder': 4044, 'testament': 4045, 'campaign': 4046, '1933': 4047, '13th': 4048, 'peril': 4049, 'session': 4050, 'showdown': 4051, 'minimum': 4052, 'peck': 4053, 'spain': 4054, 'drip': 4055, 'zizek': 4056, 'kurosawa': 4057, 'calib': 4058, 'stroke': 4059, 'represent': 4060, 'realm': 4061, 'bro': 4062, 'unimagin': 4063, 'cooki': 4064, 'buster': 4065, 'climat': 4066, 'scotland': 4067, 'crawl': 4068, 'contradict': 4069, 'regist': 4070, 'restrain': 4071, 'brenda': 4072, 'reson': 4073, 'shootout': 4074, 'valley': 4075, 'exposit': 4076, 'rout': 4077, 'miyazaki': 4078, 'travesti': 4079, 'han': 4080, 'sabrina': 4081, 'perpetu': 4082, 'quinn': 4083, 'crow': 4084, 'stake': 4085, 'gentleman': 4086, 'mon': 4087, 'wig': 4088, 'cream': 4089, 'empathi': 4090, 'din': 4091, '1984': 4092, 'jan': 4093, 'fido': 4094, 'passabl': 4095, 'perceiv': 4096, 'painter': 4097, 'censor': 4098, 'tacki': 4099, 'monoton': 4100, 'abomin': 4101, 'cloud': 4102, 'ross': 4103, 'spacey': 4104, 'unsatisfi': 4105, 'josh': 4106, 'demis': 4107, 'wax': 4108, 'distress': 4109, 'darren': 4110, 'crawford': 4111, 'greg': 4112, 'shoddi': 4113, 'unseen': 4114, 'pole': 4115, 'mclaglen': 4116, 'traumat': 4117, 'absent': 4118, '1987': 4119, 'derang': 4120, 'compromis': 4121, '1997': 4122, 'shaki': 4123, 'delic': 4124, 'pretens': 4125, 'warrant': 4126, 'stargat': 4127, 'geek': 4128, 'dana': 4129, 'businessman': 4130, 'baldwin': 4131, 'femm': 4132, 'sucker': 4133, 'meryl': 4134, 'fuller': 4135, 'sammi': 4136, 'ustinov': 4137, 'soderbergh': 4138, 'primit': 4139, 'tarantino': 4140, 'clash': 4141, 'furiou': 4142, 'kumar': 4143, 'fog': 4144, 'verbal': 4145, '1993': 4146, 'nathan': 4147, 'wholli': 4148, 'fenc': 4149, 'unravel': 4150, 'jewel': 4151, 'deceas': 4152, 'seal': 4153, 'austin': 4154, 'norm': 4155, 'judgment': 4156, 'correctli': 4157, 'reluct': 4158, 'accuraci': 4159, 'polici': 4160, 'click': 4161, 'valid': 4162, 'anchor': 4163, 'uncov': 4164, 'dee': 4165, 'tech': 4166, 'sid': 4167, 'exclus': 4168, 'expedit': 4169, 'deniro': 4170, 'antonioni': 4171, 'unfair': 4172, 'wang': 4173, 'malon': 4174, 'debt': 4175, 'logan': 4176, 'seldom': 4177, 'tax': 4178, 'dreck': 4179, 'clerk': 4180, 'mode': 4181, 'sunni': 4182, 'sheet': 4183, 'fabric': 4184, 'fought': 4185, 'hallucin': 4186, 'enforc': 4187, 'darn': 4188, 'murray': 4189, 'joel': 4190, 'trait': 4191, 'sustain': 4192, 'vanc': 4193, 'alec': 4194, 'conduct': 4195, 'wretch': 4196, 'patienc': 4197, '1995': 4198, 'crippl': 4199, '3000': 4200, 'temper': 4201, 'fart': 4202, 'bake': 4203, 'sand': 4204, 'pocket': 4205, '2008': 4206, 'nicola': 4207, '1971': 4208, 'ritual': 4209, 'roller': 4210, 'shanghai': 4211, 'behold': 4212, 'slam': 4213, 'despis': 4214, 'technicolor': 4215, 'legaci': 4216, 'preposter': 4217, 'squad': 4218, 'outlin': 4219, 'helpless': 4220, 'grief': 4221, 'stark': 4222, 'stuart': 4223, 'conscious': 4224, 'tactic': 4225, 'shell': 4226, 'guitar': 4227, 'preston': 4228, 'soup': 4229, 'canyon': 4230, 'exhaust': 4231, 'schedul': 4232, 'penni': 4233, 'bias': 4234, 'rita': 4235, 'bridget': 4236, 'isabel': 4237, 'critiqu': 4238, 'clau': 4239, 'scriptwrit': 4240, 'robber': 4241, 'fundament': 4242, 'divid': 4243, 'phil': 4244, 'runner': 4245, 'sweep': 4246, 'pete': 4247, 'marc': 4248, 'kansa': 4249, 'flair': 4250, 'rear': 4251, 'bloom': 4252, 'palanc': 4253, 'inabl': 4254, 'vomit': 4255, 'agenc': 4256, 'liberti': 4257, 'newman': 4258, 'sugar': 4259, 'jodi': 4260, 'russia': 4261, 'delv': 4262, 'passag': 4263, 'implic': 4264, 'connor': 4265, 'drove': 4266, 'alicia': 4267, 'unexpectedli': 4268, 'invad': 4269, 'downey': 4270, 'propos': 4271, 'lacklust': 4272, 'jacket': 4273, 'restrict': 4274, 'cigarett': 4275, 'alley': 4276, 'boyl': 4277, 'gregori': 4278, 'culmin': 4279, 'rehash': 4280, 'sniper': 4281, 'sentinel': 4282, 'consciou': 4283, 'pale': 4284, 'foxx': 4285, 'feat': 4286, 'cap': 4287, 'asylum': 4288, 'arrow': 4289, 'awhil': 4290, 'delet': 4291, 'karl': 4292, 'kolchak': 4293, 'horn': 4294, 'rod': 4295, 'aesthet': 4296, 'rampag': 4297, 'behaviour': 4298, 'sharon': 4299, 'lush': 4300, 'tendenc': 4301, 'improb': 4302, '22': 4303, 'tripe': 4304, 'yeti': 4305, 'chainsaw': 4306, 'wrench': 4307, 'rehears': 4308, 'bacon': 4309, 'vet': 4310, '1936': 4311, 'mccoy': 4312, 'ladder': 4313, 'weav': 4314, '19th': 4315, 'filler': 4316, 'coaster': 4317, 'paramount': 4318, 'tomorrow': 4319, 'basing': 4320, 'newcom': 4321, 'visitor': 4322, 'el': 4323, 'financ': 4324, '1920': 4325, 'underneath': 4326, 'suspicion': 4327, 'wildli': 4328, 'loneli': 4329, 'fright': 4330, 'minu': 4331, 'wagner': 4332, 'hungri': 4333, 'stream': 4334, 'paradis': 4335, 'hackney': 4336, '1978': 4337, 'globe': 4338, 'lurk': 4339, 'sung': 4340, 'conscienc': 4341, 'prank': 4342, 'elit': 4343, 'spice': 4344, 'shortcom': 4345, 'aristocrat': 4346, 'tasteless': 4347, '1988': 4348, 'hulk': 4349, 'suffici': 4350, 'rumor': 4351, 'rhythm': 4352, 'amazon': 4353, 'scoop': 4354, 'thunderbird': 4355, 'cancer': 4356, 'ingeni': 4357, 'abrupt': 4358, 'hopkin': 4359, 'impos': 4360, 'grudg': 4361, 'quietli': 4362, 'standout': 4363, 'curli': 4364, 'naughti': 4365, 'smell': 4366, 'leigh': 4367, '75': 4368, 'dirt': 4369, 'rub': 4370, 'immers': 4371, 'choppi': 4372, 'teas': 4373, 'couch': 4374, 'posey': 4375, '1989': 4376, 'ram': 4377, 'paxton': 4378, '1939': 4379, 'minist': 4380, 'chamberlain': 4381, 'inmat': 4382, 'atroc': 4383, 'en': 4384, 'chavez': 4385, 'tierney': 4386, 'lectur': 4387, 'worship': 4388, 'literari': 4389, 'secondari': 4390, 'springer': 4391, 'recogniz': 4392, 'penn': 4393, 'entranc': 4394, 'brit': 4395, 'heist': 4396, 'beverli': 4397, 'bread': 4398, 'straightforward': 4399, 'counterpart': 4400, 'iv': 4401, 'wwe': 4402, 'enthral': 4403, 'ace': 4404, 'laurenc': 4405, 'injuri': 4406, 'esther': 4407, 'nemesi': 4408, 'cattl': 4409, 'missil': 4410, 'misguid': 4411, 'sassi': 4412, 'watcher': 4413, 'moreov': 4414, 'net': 4415, 'nolan': 4416, 'sublim': 4417, 'convert': 4418, '1986': 4419, 'attenborough': 4420, 'variat': 4421, 'entitl': 4422, 'quaid': 4423, 'morbid': 4424, 'lindsay': 4425, 'duel': 4426, 'heartfelt': 4427, 'bernard': 4428, 'skeptic': 4429, 'transcend': 4430, 'ratso': 4431, 'yearn': 4432, 'policeman': 4433, 'clan': 4434, 'geni': 4435, 'spiral': 4436, 'characteris': 4437, 'out': 4438, 'egg': 4439, 'poe': 4440, 'youngest': 4441, 'cruelti': 4442, 'uncut': 4443, 'rosemari': 4444, 'tyler': 4445, 'brood': 4446, 'unexplain': 4447, 'facil': 4448, 'enabl': 4449, 'diari': 4450, '1979': 4451, 'hk': 4452, 'vader': 4453, 'hopelessli': 4454, 'obstacl': 4455, 'reliabl': 4456, 'mytholog': 4457, 'moder': 4458, 'dont': 4459, 'puppi': 4460, 'graini': 4461, 'carlito': 4462, 'steadi': 4463, 'setup': 4464, 'grin': 4465, 'buzz': 4466, 'bean': 4467, 'kitti': 4468, 'artsi': 4469, 'kidman': 4470, 'bye': 4471, 'decept': 4472, 'despic': 4473, 'fuel': 4474, '1969': 4475, 'clueless': 4476, 'patricia': 4477, 'heap': 4478, 'weather': 4479, 'acquaint': 4480, 'niec': 4481, 'gillian': 4482, 'hammi': 4483, 'preming': 4484, 'bounc': 4485, 'exterior': 4486, 'spontan': 4487, 'baffl': 4488, 'underworld': 4489, 'brendan': 4490, 'bewar': 4491, 'athlet': 4492, 'hain': 4493, 'christin': 4494, 'bronson': 4495, 'disastr': 4496, 'narrow': 4497, 'kline': 4498, 'gina': 4499, 'martha': 4500, 'effici': 4501, 'sweat': 4502, 'oblig': 4503, 'loath': 4504, 'mayhem': 4505, 'uh': 4506, 'circu': 4507, 'lester': 4508, 'dandi': 4509, 'scar': 4510, 'dilemma': 4511, 'suprem': 4512, 'headach': 4513, 'mermaid': 4514, 'sooner': 4515, 'tick': 4516, 'candl': 4517, 'insipid': 4518, 'loi': 4519, 'viewpoint': 4520, 'analyz': 4521, 'injur': 4522, '19': 4523, 'fontain': 4524, 'enlist': 4525, 'sleepwalk': 4526, 'housewif': 4527, 'harmless': 4528, 'preachi': 4529, 'angst': 4530, 'goof': 4531, '73': 4532, 'trigger': 4533, 'rome': 4534, 'hepburn': 4535, 'astound': 4536, 'shatter': 4537, 'taboo': 4538, 'outlaw': 4539, 'virtu': 4540, 'renaiss': 4541, 'biker': 4542, 'boston': 4543, 'spade': 4544, 'gere': 4545, 'scorses': 4546, 'macho': 4547, 'contempt': 4548, 'intric': 4549, 'slimi': 4550, 'surgeri': 4551, 'hooker': 4552, 'dismal': 4553, 'idol': 4554, 'phenomenon': 4555, 'amor': 4556, 'whore': 4557, 'stair': 4558, 'salt': 4559, 'camcord': 4560, 'oldest': 4561, 'guin': 4562, 'overlong': 4563, 'claustrophob': 4564, 'hostag': 4565, 'steer': 4566, 'glorifi': 4567, 'ebert': 4568, 'cassavet': 4569, 'stimul': 4570, 'fluff': 4571, 'tripl': 4572, 'immatur': 4573, 'bent': 4574, 'hokey': 4575, 'dish': 4576, 'zoom': 4577, 'ariel': 4578, 'foolish': 4579, 'sox': 4580, 'corbett': 4581, 'redund': 4582, 'filth': 4583, 'alvin': 4584, 'widescreen': 4585, 'corman': 4586, 'preced': 4587, 'flashi': 4588, 'spinal': 4589, 'mutual': 4590, 'obligatori': 4591, 'keen': 4592, '1976': 4593, 'gasp': 4594, 'naschi': 4595, 'transplant': 4596, '1981': 4597, 'remad': 4598, 'faint': 4599, 'frantic': 4600, 'shield': 4601, 'shred': 4602, 'dwarf': 4603, 'margin': 4604, 'zane': 4605, 'cush': 4606, 'mount': 4607, 'perman': 4608, 'harold': 4609, 'astronaut': 4610, 'strongest': 4611, 'spree': 4612, 'proport': 4613, 'rhyme': 4614, 'cow': 4615, 'radiat': 4616, 'joker': 4617, 'flag': 4618, 'nolt': 4619, 'cohen': 4620, 'beard': 4621, 'trivia': 4622, 'muscl': 4623, 'conquer': 4624, 'antagonist': 4625, 'fascist': 4626, 'down': 4627, 'schlock': 4628, 'flirt': 4629, 'assert': 4630, 'messi': 4631, 'gabl': 4632, 'interestingli': 4633, 'brush': 4634, 'deer': 4635, 'persuad': 4636, 'fishburn': 4637, 'danish': 4638, 'vaniti': 4639, 'archiv': 4640, 'info': 4641, 'someday': 4642, 'departur': 4643, 'sensual': 4644, '28': 4645, 'claud': 4646, 'instruct': 4647, 'wield': 4648, 'resum': 4649, 'raj': 4650, 'bitten': 4651, 'scandal': 4652, 'triangl': 4653, 'barn': 4654, 'discern': 4655, 'www': 4656, 'neurot': 4657, 'repris': 4658, 'ritchi': 4659, 'inflict': 4660, 'boob': 4661, '95': 4662, 'off': 4663, 'bachelor': 4664, 'mobil': 4665, '1945': 4666, 'carey': 4667, 'mol': 4668, 'strive': 4669, 'flock': 4670, 'hara': 4671, 'aborigin': 4672, 'divin': 4673, 'melissa': 4674, 'ish': 4675, 'hapless': 4676, 'wendigo': 4677, 'traffic': 4678, 'luka': 4679, 'helm': 4680, 'dame': 4681, 'pacif': 4682, 'vibrant': 4683, 'jade': 4684, 'carlo': 4685, 'undermin': 4686, 'timberlak': 4687, 'bate': 4688, 'biblic': 4689, 'rot': 4690, 'dylan': 4691, 'miracul': 4692, 'hilar': 4693, 'casino': 4694, 'artwork': 4695, 'hug': 4696, 'clad': 4697, 'earnest': 4698, 'pixar': 4699, 'recit': 4700, 'heartwarm': 4701, 'fragil': 4702, 'submit': 4703, 'senior': 4704, 'cher': 4705, 'pickford': 4706, 'harrison': 4707, 'cb': 4708, 'dim': 4709, 'colin': 4710, 'cycl': 4711, 'proclaim': 4712, 'prophet': 4713, 'cliffhang': 4714, 'neill': 4715, 'parson': 4716, 'axe': 4717, 'frontier': 4718, 'mobster': 4719, 'kathryn': 4720, 'loretta': 4721, 'banter': 4722, 'anton': 4723, 'europa': 4724, 'toronto': 4725, 'rooki': 4726, 'orphan': 4727, 'flavor': 4728, 'blatantli': 4729, 'marlon': 4730, 'pc': 4731, 'isra': 4732, 'legitim': 4733, 'cerebr': 4734, 'redneck': 4735, 'sicken': 4736, 'estrang': 4737, 'lui': 4738, 'shepherd': 4739, 'vile': 4740, 'eli': 4741, 'uma': 4742, 'holocaust': 4743, 'token': 4744, 'articl': 4745, 'misfortun': 4746, 'electron': 4747, 'antholog': 4748, 'mason': 4749, 'static': 4750, 'bondag': 4751, 'mathieu': 4752, 'http': 4753, 'lucil': 4754, 'foil': 4755, 'seedi': 4756, 'bikini': 4757, 'trier': 4758, 'alexandr': 4759, 'nope': 4760, 'breakfast': 4761, 'akin': 4762, 'venom': 4763, 'jordan': 4764, 'razor': 4765, 'feast': 4766, 'jo': 4767, 'wardrob': 4768, 'illus': 4769, 'winchest': 4770, 'milo': 4771, 'vanessa': 4772, 'choke': 4773, 'aris': 4774, 'northern': 4775, 'disregard': 4776, 'tack': 4777, 'affleck': 4778, 'psych': 4779, 'turd': 4780, 'outdat': 4781, 'highway': 4782, 'ceremoni': 4783, 'fifth': 4784, 'frog': 4785, 'linear': 4786, 'knightley': 4787, 'smack': 4788, 'dudley': 4789, 'cartoonish': 4790, 'boyer': 4791, 'nightclub': 4792, 'huston': 4793, 'swept': 4794, 'leather': 4795, 'comprehend': 4796, 'oppon': 4797, 'howl': 4798, 'magician': 4799, 'ideolog': 4800, 'styliz': 4801, 'audrey': 4802, 'deem': 4803, 'wrestler': 4804, 'retriev': 4805, 'feminin': 4806, 'shorter': 4807, 'abund': 4808, 'gilbert': 4809, 'charlton': 4810, 'peer': 4811, 'clinic': 4812, 'glare': 4813, 'gunga': 4814, 'energet': 4815, 'uniformli': 4816, 'bogu': 4817, 'summar': 4818, 'mitch': 4819, 'client': 4820, 'bastard': 4821, 'toe': 4822, 'braveheart': 4823, '1991': 4824, 'spawn': 4825, 'btw': 4826, 'monument': 4827, 'sleaz': 4828, 'einstein': 4829, 'chip': 4830, 'corn': 4831, 'evolut': 4832, 'tara': 4833, 'whack': 4834, 'greet': 4835, 'phenomen': 4836, 'lifeless': 4837, 'compris': 4838, 'senat': 4839, 'cemeteri': 4840, 'conrad': 4841, 'spine': 4842, 'newer': 4843, '1994': 4844, 'salman': 4845, 'collector': 4846, 'potter': 4847, 'plate': 4848, 'durat': 4849, 'boo': 4850, 'cuban': 4851, 'lighter': 4852, '4th': 4853, 'lavish': 4854, 'goldsworthi': 4855, 'snatch': 4856, 'deliver': 4857, 'breakdown': 4858, 'moe': 4859, 'armstrong': 4860, 'jule': 4861, 'creek': 4862, 'eleven': 4863, 'judd': 4864, 'undertak': 4865, 'spectacl': 4866, 'trauma': 4867, 'ol': 4868, 'constitut': 4869, 'bulk': 4870, 'kazan': 4871, 'fluid': 4872, 'embark': 4873, 'replay': 4874, 'jedi': 4875, 'capot': 4876, 'gilliam': 4877, '1974': 4878, 'signal': 4879, 'cecil': 4880, 'lex': 4881, 'kent': 4882, 'historian': 4883, 'wtf': 4884, 'occup': 4885, 'outright': 4886, 'neatli': 4887, '1977': 4888, 'luxuri': 4889, 'alleg': 4890, 'healthi': 4891, 'ie': 4892, 'clara': 4893, 'appl': 4894, 'undead': 4895, 'inaccuraci': 4896, 'bori': 4897, 'jam': 4898, 'sorrow': 4899, 'nina': 4900, 'pronounc': 4901, 'jare': 4902, 'belli': 4903, 'liu': 4904, 'evelyn': 4905, 'mcqueen': 4906, 'firmli': 4907, 'randolph': 4908, 'lauren': 4909, 'cape': 4910, 'spray': 4911, 'miniseri': 4912, 'fruit': 4913, 'unattract': 4914, 'antonio': 4915, 'mum': 4916, 'kiddi': 4917, 'tokyo': 4918, 'poker': 4919, 'truman': 4920, 'propheci': 4921, 'goldblum': 4922, 'ash': 4923, 'knee': 4924, 'relentless': 4925, 'congratul': 4926, 'inclus': 4927, 'inaccur': 4928, 'id': 4929, 'unsuspect': 4930, 'galaxi': 4931, 'rosario': 4932, 'genet': 4933, 'paula': 4934, 'forgiven': 4935, 'meal': 4936, 'subtli': 4937, 'comprehens': 4938, 'miami': 4939, 'porter': 4940, 'groan': 4941, 'sidewalk': 4942, 'abound': 4943, 'carmen': 4944, 'roar': 4945, 'vain': 4946, 'lanc': 4947, 'aussi': 4948, 'blur': 4949, 'palm': 4950, 'vignett': 4951, '1985': 4952, 'pepper': 4953, 'decapit': 4954, 'conan': 4955, 'curtain': 4956, 'sacrif': 4957, 'basket': 4958, 'walt': 4959, 'comb': 4960, 'bsg': 4961, 'pioneer': 4962, 'bait': 4963, '21st': 4964, 'scariest': 4965, 'jill': 4966, 'cypher': 4967, 'modest': 4968, 'asset': 4969, 'weari': 4970, 'macabr': 4971, 'masterson': 4972, 'scarfac': 4973, 'weaker': 4974, 'bravo': 4975, 'dubiou': 4976, 'sophi': 4977, 'frontal': 4978, 'omin': 4979, 'casper': 4980, 'bach': 4981, 'incorrect': 4982, 'hackman': 4983, 'profil': 4984, 'epitom': 4985, 'motorcycl': 4986, 'playboy': 4987, 'substanti': 4988, 'optimist': 4989, 'handicap': 4990, 'mice': 4991, 'ingrid': 4992, 'vastli': 4993, 'drone': 4994, 'rapidli': 4995, 'reincarn': 4996, 'spill': 4997, 'orchestr': 4998, 'hostil': 4999}\n"
     ]
    }
   ],
   "source": [
    "print(word_dict)"
   ]
  },
  {
   "cell_type": "markdown",
   "metadata": {},
   "source": [
    "**Question:** What are the five most frequently appearing (tokenized) words in the training set? Does it makes sense that these words appear frequently in the training set?"
   ]
  },
  {
   "cell_type": "markdown",
   "metadata": {},
   "source": [
    "**Answer:**   movi, film, one, like , time. These words are commonly used in movie review."
   ]
  },
  {
   "cell_type": "code",
   "execution_count": 60,
   "metadata": {},
   "outputs": [
    {
     "name": "stdout",
     "output_type": "stream",
     "text": [
      "The five most frequently appearing words:\n",
      "\n",
      "movi\n",
      "film\n",
      "one\n",
      "like\n",
      "time\n"
     ]
    }
   ],
   "source": [
    "# TODO: Use this space to determine the five most frequently appearing words in the training set.\n",
    "print('The five most frequently appearing words:\\n')\n",
    "\n",
    "count = 0\n",
    "for word, idx in word_dict.items():\n",
    "    print(word)\n",
    "    count += 1\n",
    "    if count > 4:\n",
    "        break;"
   ]
  },
  {
   "cell_type": "markdown",
   "metadata": {},
   "source": [
    "### Save `word_dict`\n",
    "\n",
    "Later on when we construct an endpoint which processes a submitted review we will need to make use of the `word_dict` which we have created. As such, we will save it to a file now for future use."
   ]
  },
  {
   "cell_type": "code",
   "execution_count": 61,
   "metadata": {},
   "outputs": [],
   "source": [
    "data_dir = '../data/pytorch' # The folder we will use for storing data\n",
    "if not os.path.exists(data_dir): # Make sure that the folder exists\n",
    "    os.makedirs(data_dir)"
   ]
  },
  {
   "cell_type": "code",
   "execution_count": 62,
   "metadata": {},
   "outputs": [],
   "source": [
    "with open(os.path.join(data_dir, 'word_dict.pkl'), \"wb\") as f:\n",
    "    pickle.dump(word_dict, f)"
   ]
  },
  {
   "cell_type": "markdown",
   "metadata": {},
   "source": [
    "### Transform the reviews\n",
    "\n",
    "Now that we have our word dictionary which allows us to transform the words appearing in the reviews into integers, it is time to make use of it and convert our reviews to their integer sequence representation, making sure to pad or truncate to a fixed length, which in our case is `500`."
   ]
  },
  {
   "cell_type": "code",
   "execution_count": 63,
   "metadata": {},
   "outputs": [],
   "source": [
    "def convert_and_pad(word_dict, sentence, pad=500):\n",
    "    NOWORD = 0 # We will use 0 to represent the 'no word' category\n",
    "    INFREQ = 1 # and we use 1 to represent the infrequent words, i.e., words not appearing in word_dict\n",
    "    \n",
    "    working_sentence = [NOWORD] * pad\n",
    "    \n",
    "    for word_index, word in enumerate(sentence[:pad]):\n",
    "        if word in word_dict:\n",
    "            working_sentence[word_index] = word_dict[word]\n",
    "        else:\n",
    "            working_sentence[word_index] = INFREQ\n",
    "            \n",
    "    return working_sentence, min(len(sentence), pad)\n",
    "\n",
    "def convert_and_pad_data(word_dict, data, pad=500):\n",
    "    result = []\n",
    "    lengths = []\n",
    "    \n",
    "    for sentence in data:\n",
    "        converted, leng = convert_and_pad(word_dict, sentence, pad)\n",
    "        result.append(converted)\n",
    "        lengths.append(leng)\n",
    "        \n",
    "    return np.array(result), np.array(lengths)"
   ]
  },
  {
   "cell_type": "code",
   "execution_count": 64,
   "metadata": {},
   "outputs": [],
   "source": [
    "train_X, train_X_len = convert_and_pad_data(word_dict, train_X)\n",
    "test_X, test_X_len = convert_and_pad_data(word_dict, test_X)"
   ]
  },
  {
   "cell_type": "markdown",
   "metadata": {},
   "source": [
    "As a quick check to make sure that things are working as intended, check to see what one of the reviews in the training set looks like after having been processeed. Does this look reasonable? What is the length of a review in the training set?"
   ]
  },
  {
   "cell_type": "code",
   "execution_count": 65,
   "metadata": {},
   "outputs": [
    {
     "data": {
      "text/plain": [
       "array([  37,    2,  204, 1459,   98,  125,   11,   46,  236,  445,  315,\n",
       "         31, 3171,  304, 1602,  129, 1993,   36,  353,    7,   35,   19,\n",
       "       1634,    2,  251,   46,  236,  372,    2,  299,  447,  329,    2,\n",
       "          5,    1,    2,    8,  337,  586,    2,    5,    4,   20,  630,\n",
       "       1347,  526, 1049,  361,  747,  380,    9,  435,   23,    1, 1587,\n",
       "        403,  196,  698,  196, 1943, 2112,   50,  115,  140, 1305,  357,\n",
       "       1860,  321, 2973,    3,    5,    4,    1,    1,   15, 1589,  167,\n",
       "        637, 4255,  306, 2112,   50, 1109, 1515,  166,    1,  226,   13,\n",
       "          1, 1508,  649,  649,  649, 1052,  228,    1,  322,  393,  865,\n",
       "        352,  251,    1,  400,   18, 1059,    1, 2229,    4, 1875,  632,\n",
       "       4786,   41,  148,  172,  440, 2466,   85, 1235,  319, 2602,   13,\n",
       "        350,    9,    1,  240,  909,  747,   22,  331,  112,   13,    4,\n",
       "        493,  145, 3316,  306,  153, 1406, 1320, 2909, 2749,  901,  409,\n",
       "          3, 1519, 2909,  225,   85,   14, 1519,  954,   19,  445,   86,\n",
       "        202, 4224,  363,   14,  104,    3,  109,  142,    1, 1587,   65,\n",
       "        129,  969, 3911, 1531,  220, 1860,   23,  329,  233,    1,  337,\n",
       "        509,    1,  348,   38,  140,  323, 3138, 2896,   14,   90, 2043,\n",
       "         76,  199, 1353, 1024,   19,  213,   38,    7,  932,  122,  163,\n",
       "        954,   13,  189,   10,    5,  932,  876,   40,   58, 1766,  323,\n",
       "          6,    0,    0,    0,    0,    0,    0,    0,    0,    0,    0,\n",
       "          0,    0,    0,    0,    0,    0,    0,    0,    0,    0,    0,\n",
       "          0,    0,    0,    0,    0,    0,    0,    0,    0,    0,    0,\n",
       "          0,    0,    0,    0,    0,    0,    0,    0,    0,    0,    0,\n",
       "          0,    0,    0,    0,    0,    0,    0,    0,    0,    0,    0,\n",
       "          0,    0,    0,    0,    0,    0,    0,    0,    0,    0,    0,\n",
       "          0,    0,    0,    0,    0,    0,    0,    0,    0,    0,    0,\n",
       "          0,    0,    0,    0,    0,    0,    0,    0,    0,    0,    0,\n",
       "          0,    0,    0,    0,    0,    0,    0,    0,    0,    0,    0,\n",
       "          0,    0,    0,    0,    0,    0,    0,    0,    0,    0,    0,\n",
       "          0,    0,    0,    0,    0,    0,    0,    0,    0,    0,    0,\n",
       "          0,    0,    0,    0,    0,    0,    0,    0,    0,    0,    0,\n",
       "          0,    0,    0,    0,    0,    0,    0,    0,    0,    0,    0,\n",
       "          0,    0,    0,    0,    0,    0,    0,    0,    0,    0,    0,\n",
       "          0,    0,    0,    0,    0,    0,    0,    0,    0,    0,    0,\n",
       "          0,    0,    0,    0,    0,    0,    0,    0,    0,    0,    0,\n",
       "          0,    0,    0,    0,    0,    0,    0,    0,    0,    0,    0,\n",
       "          0,    0,    0,    0,    0,    0,    0,    0,    0,    0,    0,\n",
       "          0,    0,    0,    0,    0,    0,    0,    0,    0,    0,    0,\n",
       "          0,    0,    0,    0,    0,    0,    0,    0,    0,    0,    0,\n",
       "          0,    0,    0,    0,    0,    0,    0,    0,    0,    0,    0,\n",
       "          0,    0,    0,    0,    0,    0,    0,    0,    0,    0,    0,\n",
       "          0,    0,    0,    0,    0,    0,    0,    0,    0,    0,    0,\n",
       "          0,    0,    0,    0,    0,    0,    0,    0,    0,    0,    0,\n",
       "          0,    0,    0,    0,    0,    0,    0,    0,    0,    0,    0,\n",
       "          0,    0,    0,    0,    0,    0,    0,    0,    0,    0,    0,\n",
       "          0,    0,    0,    0,    0])"
      ]
     },
     "execution_count": 65,
     "metadata": {},
     "output_type": "execute_result"
    }
   ],
   "source": [
    "# Use this cell to examine one of the processed reviews to make sure everything is working as intended.\n",
    "train_X[100]"
   ]
  },
  {
   "cell_type": "markdown",
   "metadata": {},
   "source": [
    "**Question:** In the cells above we use the `preprocess_data` and `convert_and_pad_data` methods to process both the training and testing set. Why or why not might this be a problem?"
   ]
  },
  {
   "cell_type": "markdown",
   "metadata": {},
   "source": [
    "**Answer:**\n",
    "\n",
    "Make sense to perform same set of pre-processing steps for both train and test.  Beside that the code preprocess_data has cache to make it load faster. It process the sentences to the same size which could be used as input for LSTM to train. "
   ]
  },
  {
   "cell_type": "markdown",
   "metadata": {},
   "source": [
    "## Step 3: Upload the data to S3\n",
    "\n",
    "As in the XGBoost notebook, we will need to upload the training dataset to S3 in order for our training code to access it. For now we will save it locally and we will upload to S3 later on.\n",
    "\n",
    "### Save the processed training dataset locally\n",
    "\n",
    "It is important to note the format of the data that we are saving as we will need to know it when we write the training code. In our case, each row of the dataset has the form `label`, `length`, `review[500]` where `review[500]` is a sequence of `500` integers representing the words in the review."
   ]
  },
  {
   "cell_type": "code",
   "execution_count": 66,
   "metadata": {},
   "outputs": [],
   "source": [
    "import pandas as pd\n",
    "    \n",
    "pd.concat([pd.DataFrame(train_y), pd.DataFrame(train_X_len), pd.DataFrame(train_X)], axis=1) \\\n",
    "        .to_csv(os.path.join(data_dir, 'train.csv'), header=False, index=False)"
   ]
  },
  {
   "cell_type": "markdown",
   "metadata": {},
   "source": [
    "### Uploading the training data\n",
    "\n",
    "\n",
    "Next, we need to upload the training data to the SageMaker default S3 bucket so that we can provide access to it while training our model."
   ]
  },
  {
   "cell_type": "code",
   "execution_count": 67,
   "metadata": {},
   "outputs": [],
   "source": [
    "import sagemaker\n",
    "\n",
    "sagemaker_session = sagemaker.Session()\n",
    "\n",
    "bucket = sagemaker_session.default_bucket()\n",
    "prefix = 'sagemaker/sentiment_rnn'\n",
    "\n",
    "role = sagemaker.get_execution_role()"
   ]
  },
  {
   "cell_type": "code",
   "execution_count": 68,
   "metadata": {},
   "outputs": [],
   "source": [
    "input_data = sagemaker_session.upload_data(path=data_dir, bucket=bucket, key_prefix=prefix)"
   ]
  },
  {
   "cell_type": "markdown",
   "metadata": {},
   "source": [
    "**NOTE:** The cell above uploads the entire contents of our data directory. This includes the `word_dict.pkl` file. This is fortunate as we will need this later on when we create an endpoint that accepts an arbitrary review. For now, we will just take note of the fact that it resides in the data directory (and so also in the S3 training bucket) and that we will need to make sure it gets saved in the model directory."
   ]
  },
  {
   "cell_type": "markdown",
   "metadata": {},
   "source": [
    "## Step 4: Build and Train the PyTorch Model\n",
    "\n",
    "In the XGBoost notebook we discussed what a model is in the SageMaker framework. In particular, a model comprises three objects\n",
    "\n",
    " - Model Artifacts,\n",
    " - Training Code, and\n",
    " - Inference Code,\n",
    " \n",
    "each of which interact with one another. In the XGBoost example we used training and inference code that was provided by Amazon. Here we will still be using containers provided by Amazon with the added benefit of being able to include our own custom code.\n",
    "\n",
    "We will start by implementing our own neural network in PyTorch along with a training script. For the purposes of this project we have provided the necessary model object in the `model.py` file, inside of the `train` folder. You can see the provided implementation by running the cell below."
   ]
  },
  {
   "cell_type": "code",
   "execution_count": 69,
   "metadata": {},
   "outputs": [
    {
     "name": "stdout",
     "output_type": "stream",
     "text": [
      "\u001b[34mimport\u001b[39;49;00m \u001b[04m\u001b[36mtorch.nn\u001b[39;49;00m \u001b[34mas\u001b[39;49;00m \u001b[04m\u001b[36mnn\u001b[39;49;00m\r\n",
      "\r\n",
      "\u001b[34mclass\u001b[39;49;00m \u001b[04m\u001b[32mLSTMClassifier\u001b[39;49;00m(nn.Module):\r\n",
      "    \u001b[33m\"\"\"\u001b[39;49;00m\r\n",
      "\u001b[33m    This is the simple RNN model we will be using to perform Sentiment Analysis.\u001b[39;49;00m\r\n",
      "\u001b[33m    \"\"\"\u001b[39;49;00m\r\n",
      "\r\n",
      "    \u001b[34mdef\u001b[39;49;00m \u001b[32m__init__\u001b[39;49;00m(\u001b[36mself\u001b[39;49;00m, embedding_dim, hidden_dim, vocab_size):\r\n",
      "        \u001b[33m\"\"\"\u001b[39;49;00m\r\n",
      "\u001b[33m        Initialize the model by settingg up the various layers.\u001b[39;49;00m\r\n",
      "\u001b[33m        \"\"\"\u001b[39;49;00m\r\n",
      "        \u001b[36msuper\u001b[39;49;00m(LSTMClassifier, \u001b[36mself\u001b[39;49;00m).\u001b[32m__init__\u001b[39;49;00m()\r\n",
      "\r\n",
      "        \u001b[36mself\u001b[39;49;00m.embedding = nn.Embedding(vocab_size, embedding_dim, padding_idx=\u001b[34m0\u001b[39;49;00m)\r\n",
      "        \u001b[36mself\u001b[39;49;00m.lstm = nn.LSTM(embedding_dim, hidden_dim)\r\n",
      "        \u001b[36mself\u001b[39;49;00m.dense = nn.Linear(in_features=hidden_dim, out_features=\u001b[34m1\u001b[39;49;00m)\r\n",
      "        \u001b[36mself\u001b[39;49;00m.sig = nn.Sigmoid()\r\n",
      "        \r\n",
      "        \u001b[36mself\u001b[39;49;00m.word_dict = \u001b[36mNone\u001b[39;49;00m\r\n",
      "\r\n",
      "    \u001b[34mdef\u001b[39;49;00m \u001b[32mforward\u001b[39;49;00m(\u001b[36mself\u001b[39;49;00m, x):\r\n",
      "        \u001b[33m\"\"\"\u001b[39;49;00m\r\n",
      "\u001b[33m        Perform a forward pass of our model on some input.\u001b[39;49;00m\r\n",
      "\u001b[33m        \"\"\"\u001b[39;49;00m\r\n",
      "        x = x.t()\r\n",
      "        lengths = x[\u001b[34m0\u001b[39;49;00m,:]\r\n",
      "        reviews = x[\u001b[34m1\u001b[39;49;00m:,:]\r\n",
      "        embeds = \u001b[36mself\u001b[39;49;00m.embedding(reviews)\r\n",
      "        lstm_out, _ = \u001b[36mself\u001b[39;49;00m.lstm(embeds)\r\n",
      "        out = \u001b[36mself\u001b[39;49;00m.dense(lstm_out)\r\n",
      "        out = out[lengths - \u001b[34m1\u001b[39;49;00m, \u001b[36mrange\u001b[39;49;00m(\u001b[36mlen\u001b[39;49;00m(lengths))]\r\n",
      "        \u001b[34mreturn\u001b[39;49;00m \u001b[36mself\u001b[39;49;00m.sig(out.squeeze())\r\n"
     ]
    }
   ],
   "source": [
    "!pygmentize train/model.py"
   ]
  },
  {
   "cell_type": "markdown",
   "metadata": {},
   "source": [
    "The important takeaway from the implementation provided is that there are three parameters that we may wish to tweak to improve the performance of our model. These are the embedding dimension, the hidden dimension and the size of the vocabulary. We will likely want to make these parameters configurable in the training script so that if we wish to modify them we do not need to modify the script itself. We will see how to do this later on. To start we will write some of the training code in the notebook so that we can more easily diagnose any issues that arise.\n",
    "\n",
    "First we will load a small portion of the training data set to use as a sample. It would be very time consuming to try and train the model completely in the notebook as we do not have access to a gpu and the compute instance that we are using is not particularly powerful. However, we can work on a small bit of the data to get a feel for how our training script is behaving."
   ]
  },
  {
   "cell_type": "code",
   "execution_count": 70,
   "metadata": {},
   "outputs": [],
   "source": [
    "import torch\n",
    "import torch.utils.data\n",
    "\n",
    "# Read in only the first 250 rows\n",
    "train_sample = pd.read_csv(os.path.join(data_dir, 'train.csv'), header=None, names=None, nrows=250)\n",
    "\n",
    "# Turn the input pandas dataframe into tensors\n",
    "train_sample_y = torch.from_numpy(train_sample[[0]].values).float().squeeze()\n",
    "train_sample_X = torch.from_numpy(train_sample.drop([0], axis=1).values).long()\n",
    "\n",
    "# Build the dataset\n",
    "train_sample_ds = torch.utils.data.TensorDataset(train_sample_X, train_sample_y)\n",
    "# Build the dataloader\n",
    "train_sample_dl = torch.utils.data.DataLoader(train_sample_ds, batch_size=50)"
   ]
  },
  {
   "cell_type": "markdown",
   "metadata": {},
   "source": [
    "### (TODO) Writing the training method\n",
    "\n",
    "Next we need to write the training code itself. This should be very similar to training methods that you have written before to train PyTorch models. We will leave any difficult aspects such as model saving / loading and parameter loading until a little later."
   ]
  },
  {
   "cell_type": "code",
   "execution_count": 71,
   "metadata": {},
   "outputs": [],
   "source": [
    "def train(model, train_loader, epochs, optimizer, loss_fn, device):\n",
    "    for epoch in range(1, epochs + 1):\n",
    "        model.train()\n",
    "        total_loss = 0\n",
    "        for batch in train_loader:         \n",
    "            batch_X, batch_y = batch\n",
    "            \n",
    "            batch_X = batch_X.to(device)\n",
    "            batch_y = batch_y.to(device)\n",
    "            \n",
    "            # TODO: Complete this train method to train the model provided.\n",
    "            optimizer.zero_grad()\n",
    "            out = model.forward(batch_X)\n",
    "            loss = loss_fn(out, batch_y)\n",
    "            loss.backward()\n",
    "            optimizer.step()\n",
    "            total_loss += loss.data.item()\n",
    "        print(\"Epoch: {}, BCELoss: {}\".format(epoch, total_loss / len(train_loader)))"
   ]
  },
  {
   "cell_type": "markdown",
   "metadata": {},
   "source": [
    "Supposing we have the training method above, we will test that it is working by writing a bit of code in the notebook that executes our training method on the small sample training set that we loaded earlier. The reason for doing this in the notebook is so that we have an opportunity to fix any errors that arise early when they are easier to diagnose."
   ]
  },
  {
   "cell_type": "code",
   "execution_count": 72,
   "metadata": {},
   "outputs": [
    {
     "name": "stdout",
     "output_type": "stream",
     "text": [
      "Epoch: 1, BCELoss: 0.6932294964790344\n",
      "Epoch: 2, BCELoss: 0.6840047836303711\n",
      "Epoch: 3, BCELoss: 0.6761383414268494\n",
      "Epoch: 4, BCELoss: 0.6674357295036316\n",
      "Epoch: 5, BCELoss: 0.6569628715515137\n"
     ]
    }
   ],
   "source": [
    "import torch.optim as optim\n",
    "from train.model import LSTMClassifier\n",
    "\n",
    "device = torch.device(\"cuda\" if torch.cuda.is_available() else \"cpu\")\n",
    "model = LSTMClassifier(32, 100, 5000).to(device)\n",
    "optimizer = optim.Adam(model.parameters())\n",
    "loss_fn = torch.nn.BCELoss()\n",
    "\n",
    "train(model, train_sample_dl, 5, optimizer, loss_fn, device)"
   ]
  },
  {
   "cell_type": "markdown",
   "metadata": {},
   "source": [
    "In order to construct a PyTorch model using SageMaker we must provide SageMaker with a training script. We may optionally include a directory which will be copied to the container and from which our training code will be run. When the training container is executed it will check the uploaded directory (if there is one) for a `requirements.txt` file and install any required Python libraries, after which the training script will be run."
   ]
  },
  {
   "cell_type": "markdown",
   "metadata": {},
   "source": [
    "### (TODO) Training the model\n",
    "\n",
    "When a PyTorch model is constructed in SageMaker, an entry point must be specified. This is the Python file which will be executed when the model is trained. Inside of the `train` directory is a file called `train.py` which has been provided and which contains most of the necessary code to train our model. The only thing that is missing is the implementation of the `train()` method which you wrote earlier in this notebook.\n",
    "\n",
    "**TODO**: Copy the `train()` method written above and paste it into the `train/train.py` file where required.\n",
    "\n",
    "The way that SageMaker passes hyperparameters to the training script is by way of arguments. These arguments can then be parsed and used in the training script. To see how this is done take a look at the provided `train/train.py` file."
   ]
  },
  {
   "cell_type": "code",
   "execution_count": 73,
   "metadata": {},
   "outputs": [],
   "source": [
    "from sagemaker.pytorch import PyTorch\n",
    "\n",
    "estimator = PyTorch(entry_point=\"train.py\",\n",
    "                    source_dir=\"train\",\n",
    "                    role=role,\n",
    "                    framework_version='0.4.0',\n",
    "                    train_instance_count=1,\n",
    "                    train_instance_type='ml.p2.xlarge',\n",
    "                    hyperparameters={\n",
    "                        'epochs': 10,\n",
    "                        'hidden_dim': 200,\n",
    "                    })"
   ]
  },
  {
   "cell_type": "code",
   "execution_count": 74,
   "metadata": {
    "scrolled": true
   },
   "outputs": [
    {
     "name": "stderr",
     "output_type": "stream",
     "text": [
      "INFO:sagemaker:Creating training-job with name: sagemaker-pytorch-2019-03-30-19-26-30-732\n"
     ]
    },
    {
     "name": "stdout",
     "output_type": "stream",
     "text": [
      "2019-03-30 19:26:31 Starting - Starting the training job...\n",
      "2019-03-30 19:26:33 Starting - Launching requested ML instances......\n",
      "2019-03-30 19:27:39 Starting - Preparing the instances for training......\n",
      "2019-03-30 19:28:59 Downloading - Downloading input data...\n",
      "2019-03-30 19:29:23 Training - Downloading the training image...\n",
      "2019-03-30 19:29:48 Training - Training image download completed. Training in progress.\n",
      "\u001b[31mbash: cannot set terminal process group (-1): Inappropriate ioctl for device\u001b[0m\n",
      "\u001b[31mbash: no job control in this shell\u001b[0m\n",
      "\u001b[31m2019-03-30 19:29:49,573 sagemaker-containers INFO     Imported framework sagemaker_pytorch_container.training\u001b[0m\n",
      "\u001b[31m2019-03-30 19:29:49,597 sagemaker_pytorch_container.training INFO     Block until all host DNS lookups succeed.\u001b[0m\n",
      "\u001b[31m2019-03-30 19:29:49,604 sagemaker_pytorch_container.training INFO     Invoking user training script.\u001b[0m\n",
      "\u001b[31m2019-03-30 19:29:49,892 sagemaker-containers INFO     Module train does not provide a setup.py. \u001b[0m\n",
      "\u001b[31mGenerating setup.py\u001b[0m\n",
      "\u001b[31m2019-03-30 19:29:49,892 sagemaker-containers INFO     Generating setup.cfg\u001b[0m\n",
      "\u001b[31m2019-03-30 19:29:49,893 sagemaker-containers INFO     Generating MANIFEST.in\u001b[0m\n",
      "\u001b[31m2019-03-30 19:29:49,893 sagemaker-containers INFO     Installing module with the following command:\u001b[0m\n",
      "\u001b[31m/usr/bin/python -m pip install -U . -r requirements.txt\u001b[0m\n",
      "\u001b[31mProcessing /opt/ml/code\u001b[0m\n",
      "\u001b[31mCollecting pandas (from -r requirements.txt (line 1))\n",
      "  Downloading https://files.pythonhosted.org/packages/74/24/0cdbf8907e1e3bc5a8da03345c23cbed7044330bb8f73bb12e711a640a00/pandas-0.24.2-cp35-cp35m-manylinux1_x86_64.whl (10.0MB)\u001b[0m\n",
      "\u001b[31mCollecting numpy (from -r requirements.txt (line 2))\u001b[0m\n",
      "\u001b[31m  Downloading https://files.pythonhosted.org/packages/e3/18/4f013c3c3051f4e0ffbaa4bf247050d6d5e527fe9cb1907f5975b172f23f/numpy-1.16.2-cp35-cp35m-manylinux1_x86_64.whl (17.2MB)\u001b[0m\n",
      "\u001b[31mCollecting nltk (from -r requirements.txt (line 3))\n",
      "  Downloading https://files.pythonhosted.org/packages/6f/ed/9c755d357d33bc1931e157f537721efb5b88d2c583fe593cc09603076cc3/nltk-3.4.zip (1.4MB)\u001b[0m\n",
      "\u001b[31mCollecting beautifulsoup4 (from -r requirements.txt (line 4))\n",
      "  Downloading https://files.pythonhosted.org/packages/1d/5d/3260694a59df0ec52f8b4883f5d23b130bc237602a1411fa670eae12351e/beautifulsoup4-4.7.1-py3-none-any.whl (94kB)\u001b[0m\n",
      "\u001b[31mCollecting html5lib (from -r requirements.txt (line 5))\n",
      "  Downloading https://files.pythonhosted.org/packages/a5/62/bbd2be0e7943ec8504b517e62bab011b4946e1258842bc159e5dfde15b96/html5lib-1.0.1-py2.py3-none-any.whl (117kB)\u001b[0m\n",
      "\u001b[31mCollecting pytz>=2011k (from pandas->-r requirements.txt (line 1))\n",
      "  Downloading https://files.pythonhosted.org/packages/61/28/1d3920e4d1d50b19bc5d24398a7cd85cc7b9a75a490570d5a30c57622d34/pytz-2018.9-py2.py3-none-any.whl (510kB)\u001b[0m\n",
      "\u001b[31mRequirement already satisfied, skipping upgrade: python-dateutil>=2.5.0 in /usr/local/lib/python3.5/dist-packages (from pandas->-r requirements.txt (line 1)) (2.7.5)\u001b[0m\n",
      "\u001b[31mRequirement already satisfied, skipping upgrade: six in /usr/local/lib/python3.5/dist-packages (from nltk->-r requirements.txt (line 3)) (1.11.0)\u001b[0m\n",
      "\u001b[31mCollecting singledispatch (from nltk->-r requirements.txt (line 3))\n",
      "  Downloading https://files.pythonhosted.org/packages/c5/10/369f50bcd4621b263927b0a1519987a04383d4a98fb10438042ad410cf88/singledispatch-3.4.0.3-py2.py3-none-any.whl\u001b[0m\n",
      "\u001b[31mCollecting soupsieve>=1.2 (from beautifulsoup4->-r requirements.txt (line 4))\n",
      "  Downloading https://files.pythonhosted.org/packages/c9/f8/e54b1d771ed4fab66b3fa1c178e137a3c73d84fb6f64329bddf0da5a371c/soupsieve-1.9-py2.py3-none-any.whl\u001b[0m\n",
      "\u001b[31mCollecting webencodings (from html5lib->-r requirements.txt (line 5))\n",
      "  Downloading https://files.pythonhosted.org/packages/f4/24/2a3e3df732393fed8b3ebf2ec078f05546de641fe1b667ee316ec1dcf3b7/webencodings-0.5.1-py2.py3-none-any.whl\u001b[0m\n",
      "\u001b[31mBuilding wheels for collected packages: nltk, train\n",
      "  Running setup.py bdist_wheel for nltk: started\u001b[0m\n",
      "\u001b[31m  Running setup.py bdist_wheel for nltk: finished with status 'done'\n",
      "  Stored in directory: /root/.cache/pip/wheels/4b/c8/24/b2343664bcceb7147efeb21c0b23703a05b23fcfeaceaa2a1e\n",
      "  Running setup.py bdist_wheel for train: started\u001b[0m\n",
      "\u001b[31m  Running setup.py bdist_wheel for train: finished with status 'done'\n",
      "  Stored in directory: /tmp/pip-ephem-wheel-cache-q5ucd0hh/wheels/35/24/16/37574d11bf9bde50616c67372a334f94fa8356bc7164af8ca3\u001b[0m\n",
      "\u001b[31mSuccessfully built nltk train\u001b[0m\n",
      "\u001b[31mInstalling collected packages: pytz, numpy, pandas, singledispatch, nltk, soupsieve, beautifulsoup4, webencodings, html5lib, train\n",
      "  Found existing installation: numpy 1.15.4\n",
      "    Uninstalling numpy-1.15.4:\u001b[0m\n",
      "\u001b[31m      Successfully uninstalled numpy-1.15.4\u001b[0m\n",
      "\u001b[31mSuccessfully installed beautifulsoup4-4.7.1 html5lib-1.0.1 nltk-3.4 numpy-1.16.2 pandas-0.24.2 pytz-2018.9 singledispatch-3.4.0.3 soupsieve-1.9 train-1.0.0 webencodings-0.5.1\u001b[0m\n",
      "\u001b[31mYou are using pip version 18.1, however version 19.0.3 is available.\u001b[0m\n",
      "\u001b[31mYou should consider upgrading via the 'pip install --upgrade pip' command.\u001b[0m\n",
      "\u001b[31m2019-03-30 19:30:01,268 sagemaker-containers INFO     Invoking user script\n",
      "\u001b[0m\n",
      "\u001b[31mTraining Env:\n",
      "\u001b[0m\n",
      "\u001b[31m{\n",
      "    \"model_dir\": \"/opt/ml/model\",\n",
      "    \"resource_config\": {\n",
      "        \"current_host\": \"algo-1\",\n",
      "        \"hosts\": [\n",
      "            \"algo-1\"\n",
      "        ],\n",
      "        \"network_interface_name\": \"ethwe\"\n",
      "    },\n",
      "    \"framework_module\": \"sagemaker_pytorch_container.training:main\",\n",
      "    \"log_level\": 20,\n",
      "    \"num_cpus\": 4,\n",
      "    \"module_name\": \"train\",\n",
      "    \"num_gpus\": 1,\n",
      "    \"hosts\": [\n",
      "        \"algo-1\"\n",
      "    ],\n",
      "    \"job_name\": \"sagemaker-pytorch-2019-03-30-19-26-30-732\",\n",
      "    \"network_interface_name\": \"ethwe\",\n",
      "    \"output_intermediate_dir\": \"/opt/ml/output/intermediate\",\n",
      "    \"additional_framework_parameters\": {},\n",
      "    \"current_host\": \"algo-1\",\n",
      "    \"input_dir\": \"/opt/ml/input\",\n",
      "    \"input_config_dir\": \"/opt/ml/input/config\",\n",
      "    \"hyperparameters\": {\n",
      "        \"hidden_dim\": 200,\n",
      "        \"epochs\": 10\n",
      "    },\n",
      "    \"input_data_config\": {\n",
      "        \"training\": {\n",
      "            \"S3DistributionType\": \"FullyReplicated\",\n",
      "            \"TrainingInputMode\": \"File\",\n",
      "            \"RecordWrapperType\": \"None\"\n",
      "        }\n",
      "    },\n",
      "    \"channel_input_dirs\": {\n",
      "        \"training\": \"/opt/ml/input/data/training\"\n",
      "    },\n",
      "    \"output_dir\": \"/opt/ml/output\",\n",
      "    \"output_data_dir\": \"/opt/ml/output/data\",\n",
      "    \"module_dir\": \"s3://sagemaker-us-west-2-907502706232/sagemaker-pytorch-2019-03-30-19-26-30-732/source/sourcedir.tar.gz\",\n",
      "    \"user_entry_point\": \"train.py\"\u001b[0m\n",
      "\u001b[31m}\n",
      "\u001b[0m\n",
      "\u001b[31mEnvironment variables:\n",
      "\u001b[0m\n",
      "\u001b[31mSM_TRAINING_ENV={\"additional_framework_parameters\":{},\"channel_input_dirs\":{\"training\":\"/opt/ml/input/data/training\"},\"current_host\":\"algo-1\",\"framework_module\":\"sagemaker_pytorch_container.training:main\",\"hosts\":[\"algo-1\"],\"hyperparameters\":{\"epochs\":10,\"hidden_dim\":200},\"input_config_dir\":\"/opt/ml/input/config\",\"input_data_config\":{\"training\":{\"RecordWrapperType\":\"None\",\"S3DistributionType\":\"FullyReplicated\",\"TrainingInputMode\":\"File\"}},\"input_dir\":\"/opt/ml/input\",\"job_name\":\"sagemaker-pytorch-2019-03-30-19-26-30-732\",\"log_level\":20,\"model_dir\":\"/opt/ml/model\",\"module_dir\":\"s3://sagemaker-us-west-2-907502706232/sagemaker-pytorch-2019-03-30-19-26-30-732/source/sourcedir.tar.gz\",\"module_name\":\"train\",\"network_interface_name\":\"ethwe\",\"num_cpus\":4,\"num_gpus\":1,\"output_data_dir\":\"/opt/ml/output/data\",\"output_dir\":\"/opt/ml/output\",\"output_intermediate_dir\":\"/opt/ml/output/intermediate\",\"resource_config\":{\"current_host\":\"algo-1\",\"hosts\":[\"algo-1\"],\"network_interface_name\":\"ethwe\"},\"user_entry_point\":\"train.py\"}\u001b[0m\n",
      "\u001b[31mSM_OUTPUT_DIR=/opt/ml/output\u001b[0m\n",
      "\u001b[31mSM_OUTPUT_INTERMEDIATE_DIR=/opt/ml/output/intermediate\u001b[0m\n",
      "\u001b[31mSM_NUM_CPUS=4\u001b[0m\n",
      "\u001b[31mSM_CHANNELS=[\"training\"]\u001b[0m\n",
      "\u001b[31mSM_MODULE_NAME=train\u001b[0m\n",
      "\u001b[31mSM_OUTPUT_DATA_DIR=/opt/ml/output/data\u001b[0m\n",
      "\u001b[31mSM_USER_ARGS=[\"--epochs\",\"10\",\"--hidden_dim\",\"200\"]\u001b[0m\n",
      "\u001b[31mPYTHONPATH=/usr/local/bin:/usr/lib/python35.zip:/usr/lib/python3.5:/usr/lib/python3.5/plat-x86_64-linux-gnu:/usr/lib/python3.5/lib-dynload:/usr/local/lib/python3.5/dist-packages:/usr/lib/python3/dist-packages\u001b[0m\n",
      "\u001b[31mSM_CHANNEL_TRAINING=/opt/ml/input/data/training\u001b[0m\n",
      "\u001b[31mSM_FRAMEWORK_PARAMS={}\u001b[0m\n",
      "\u001b[31mSM_INPUT_DIR=/opt/ml/input\u001b[0m\n",
      "\u001b[31mSM_NUM_GPUS=1\u001b[0m\n",
      "\u001b[31mSM_HP_EPOCHS=10\u001b[0m\n",
      "\u001b[31mSM_HOSTS=[\"algo-1\"]\u001b[0m\n",
      "\u001b[31mSM_HP_HIDDEN_DIM=200\u001b[0m\n",
      "\u001b[31mSM_INPUT_CONFIG_DIR=/opt/ml/input/config\u001b[0m\n",
      "\u001b[31mSM_CURRENT_HOST=algo-1\u001b[0m\n",
      "\u001b[31mSM_FRAMEWORK_MODULE=sagemaker_pytorch_container.training:main\u001b[0m\n",
      "\u001b[31mSM_RESOURCE_CONFIG={\"current_host\":\"algo-1\",\"hosts\":[\"algo-1\"],\"network_interface_name\":\"ethwe\"}\u001b[0m\n",
      "\u001b[31mSM_NETWORK_INTERFACE_NAME=ethwe\u001b[0m\n",
      "\u001b[31mSM_USER_ENTRY_POINT=train.py\u001b[0m\n",
      "\u001b[31mSM_MODEL_DIR=/opt/ml/model\u001b[0m\n",
      "\u001b[31mSM_LOG_LEVEL=20\u001b[0m\n",
      "\u001b[31mSM_MODULE_DIR=s3://sagemaker-us-west-2-907502706232/sagemaker-pytorch-2019-03-30-19-26-30-732/source/sourcedir.tar.gz\u001b[0m\n",
      "\u001b[31mSM_HPS={\"epochs\":10,\"hidden_dim\":200}\u001b[0m\n",
      "\u001b[31mSM_INPUT_DATA_CONFIG={\"training\":{\"RecordWrapperType\":\"None\",\"S3DistributionType\":\"FullyReplicated\",\"TrainingInputMode\":\"File\"}}\n",
      "\u001b[0m\n",
      "\u001b[31mInvoking script with the following command:\n",
      "\u001b[0m\n",
      "\u001b[31m/usr/bin/python -m train --epochs 10 --hidden_dim 200\n",
      "\n",
      "\u001b[0m\n",
      "\u001b[31mUsing device cuda.\u001b[0m\n",
      "\u001b[31mGet train data loader.\u001b[0m\n"
     ]
    },
    {
     "name": "stdout",
     "output_type": "stream",
     "text": [
      "\u001b[31mModel loaded with embedding_dim 32, hidden_dim 200, vocab_size 5000.\u001b[0m\n",
      "\u001b[31mEpoch: 1, BCELoss: 0.67620750227753\u001b[0m\n",
      "\u001b[31mEpoch: 2, BCELoss: 0.6214073713944883\u001b[0m\n",
      "\u001b[31mEpoch: 3, BCELoss: 0.5166345129207689\u001b[0m\n",
      "\u001b[31mEpoch: 4, BCELoss: 0.4311405633177076\u001b[0m\n",
      "\u001b[31mEpoch: 5, BCELoss: 0.3727093831617005\u001b[0m\n",
      "\u001b[31mEpoch: 6, BCELoss: 0.3557358524020837\u001b[0m\n",
      "\u001b[31mEpoch: 7, BCELoss: 0.3251500762238794\u001b[0m\n",
      "\u001b[31mEpoch: 8, BCELoss: 0.3024826956038572\u001b[0m\n",
      "\u001b[31mEpoch: 9, BCELoss: 0.2851051371924731\u001b[0m\n",
      "\u001b[31mEpoch: 10, BCELoss: 0.26733373957020895\u001b[0m\n",
      "\u001b[31m2019-03-30 19:33:01,544 sagemaker-containers INFO     Reporting training SUCCESS\u001b[0m\n",
      "\n",
      "2019-03-30 19:33:11 Uploading - Uploading generated training model\n",
      "2019-03-30 19:33:11 Completed - Training job completed\n",
      "Billable seconds: 253\n"
     ]
    }
   ],
   "source": [
    "estimator.fit({'training': input_data})"
   ]
  },
  {
   "cell_type": "markdown",
   "metadata": {},
   "source": [
    "## Step 5: Testing the model\n",
    "\n",
    "As mentioned at the top of this notebook, we will be testing this model by first deploying it and then sending the testing data to the deployed endpoint. We will do this so that we can make sure that the deployed model is working correctly.\n",
    "\n",
    "## Step 6: Deploy the model for testing\n",
    "\n",
    "Now that we have trained our model, we would like to test it to see how it performs. Currently our model takes input of the form `review_length, review[500]` where `review[500]` is a sequence of `500` integers which describe the words present in the review, encoded using `word_dict`. Fortunately for us, SageMaker provides built-in inference code for models with simple inputs such as this.\n",
    "\n",
    "There is one thing that we need to provide, however, and that is a function which loads the saved model. This function must be called `model_fn()` and takes as its only parameter a path to the directory where the model artifacts are stored. This function must also be present in the python file which we specified as the entry point. In our case the model loading function has been provided and so no changes need to be made.\n",
    "\n",
    "**NOTE**: When the built-in inference code is run it must import the `model_fn()` method from the `train.py` file. This is why the training code is wrapped in a main guard ( ie, `if __name__ == '__main__':` )\n",
    "\n",
    "Since we don't need to change anything in the code that was uploaded during training, we can simply deploy the current model as-is.\n",
    "\n",
    "**NOTE:** When deploying a model you are asking SageMaker to launch an compute instance that will wait for data to be sent to it. As a result, this compute instance will continue to run until *you* shut it down. This is important to know since the cost of a deployed endpoint depends on how long it has been running for.\n",
    "\n",
    "In other words **If you are no longer using a deployed endpoint, shut it down!**\n",
    "\n",
    "**TODO:** Deploy the trained model."
   ]
  },
  {
   "cell_type": "code",
   "execution_count": 75,
   "metadata": {},
   "outputs": [
    {
     "name": "stderr",
     "output_type": "stream",
     "text": [
      "INFO:sagemaker:Creating model with name: sagemaker-pytorch-2019-03-30-19-26-30-732\n",
      "INFO:sagemaker:Creating endpoint with name sagemaker-pytorch-2019-03-30-19-26-30-732\n"
     ]
    },
    {
     "name": "stdout",
     "output_type": "stream",
     "text": [
      "---------------------------------------------------------------------------!"
     ]
    }
   ],
   "source": [
    "# TODO: Deploy the trained model\n",
    "predictor = estimator.deploy(initial_instance_count=1, instance_type='ml.m4.xlarge')"
   ]
  },
  {
   "cell_type": "markdown",
   "metadata": {},
   "source": [
    "## Step 7 - Use the model for testing\n",
    "\n",
    "Once deployed, we can read in the test data and send it off to our deployed model to get some results. Once we collect all of the results we can determine how accurate our model is."
   ]
  },
  {
   "cell_type": "code",
   "execution_count": 76,
   "metadata": {},
   "outputs": [],
   "source": [
    "test_X = pd.concat([pd.DataFrame(test_X_len), pd.DataFrame(test_X)], axis=1)"
   ]
  },
  {
   "cell_type": "code",
   "execution_count": 77,
   "metadata": {},
   "outputs": [],
   "source": [
    "# We split the data into chunks and send each chunk seperately, accumulating the results.\n",
    "\n",
    "def predict(data, rows=512):\n",
    "    split_array = np.array_split(data, int(data.shape[0] / float(rows) + 1))\n",
    "    predictions = np.array([])\n",
    "    for array in split_array:\n",
    "        predictions = np.append(predictions, predictor.predict(array))\n",
    "    \n",
    "    return predictions"
   ]
  },
  {
   "cell_type": "code",
   "execution_count": 78,
   "metadata": {},
   "outputs": [],
   "source": [
    "predictions = predict(test_X.values)\n",
    "predictions = [round(num) for num in predictions]"
   ]
  },
  {
   "cell_type": "code",
   "execution_count": 99,
   "metadata": {},
   "outputs": [
    {
     "data": {
      "text/plain": [
       "0.86132"
      ]
     },
     "execution_count": 99,
     "metadata": {},
     "output_type": "execute_result"
    }
   ],
   "source": [
    "from sklearn.metrics import accuracy_score\n",
    "accuracy_score(test_y, predictions)"
   ]
  },
  {
   "cell_type": "markdown",
   "metadata": {},
   "source": [
    "**Question:** How does this model compare to the XGBoost model you created earlier? Why might these two models perform differently on this dataset? Which do *you* think is better for sentiment analysis?"
   ]
  },
  {
   "cell_type": "markdown",
   "metadata": {},
   "source": [
    "**Answer:**\n",
    "\n",
    "LSTM models are more suitable for sentiment analysis because they have the ability to understand the order of features as they can remember previous inputs while XGBoost cannot "
   ]
  },
  {
   "cell_type": "markdown",
   "metadata": {},
   "source": [
    "### (TODO) More testing\n",
    "\n",
    "We now have a trained model which has been deployed and which we can send processed reviews to and which returns the predicted sentiment. However, ultimately we would like to be able to send our model an unprocessed review. That is, we would like to send the review itself as a string. For example, suppose we wish to send the following review to our model."
   ]
  },
  {
   "cell_type": "code",
   "execution_count": 80,
   "metadata": {},
   "outputs": [],
   "source": [
    "test_review = 'The simplest pleasures in life are the best, and this film is one of them. Combining a rather basic storyline of love and adventure this movie transcends the usual weekend fair with wit and unmitigated charm.'"
   ]
  },
  {
   "cell_type": "markdown",
   "metadata": {},
   "source": [
    "The question we now need to answer is, how do we send this review to our model?\n",
    "\n",
    "Recall in the first section of this notebook we did a bunch of data processing to the IMDb dataset. In particular, we did two specific things to the provided reviews.\n",
    " - Removed any html tags and stemmed the input\n",
    " - Encoded the review as a sequence of integers using `word_dict`\n",
    " \n",
    "In order process the review we will need to repeat these two steps.\n",
    "\n",
    "**TODO**: Using the `review_to_words` and `convert_and_pad` methods from section one, convert `test_review` into a numpy array `test_data` suitable to send to our model. Remember that our model expects input of the form `review_length, review[500]`."
   ]
  },
  {
   "cell_type": "code",
   "execution_count": 81,
   "metadata": {},
   "outputs": [],
   "source": [
    "# TODO: Convert test_review into a form usable by the model and save the results in test_data\n",
    "test_data = review_to_words(test_review)\n",
    "test_data = [np.array(convert_and_pad(word_dict, test_data)[0])]"
   ]
  },
  {
   "cell_type": "markdown",
   "metadata": {},
   "source": [
    "Now that we have processed the review, we can send the resulting array to our model to predict the sentiment of the review."
   ]
  },
  {
   "cell_type": "code",
   "execution_count": 82,
   "metadata": {},
   "outputs": [
    {
     "data": {
      "text/plain": [
       "array(0.5833132, dtype=float32)"
      ]
     },
     "execution_count": 82,
     "metadata": {},
     "output_type": "execute_result"
    }
   ],
   "source": [
    "predictor.predict(test_data)"
   ]
  },
  {
   "cell_type": "markdown",
   "metadata": {},
   "source": [
    "Since the return value of our model is close to `1`, we can be certain that the review we submitted is positive."
   ]
  },
  {
   "cell_type": "markdown",
   "metadata": {},
   "source": [
    "### Delete the endpoint\n",
    "\n",
    "Of course, just like in the XGBoost notebook, once we've deployed an endpoint it continues to run until we tell it to shut down. Since we are done using our endpoint for now, we can delete it."
   ]
  },
  {
   "cell_type": "code",
   "execution_count": 83,
   "metadata": {},
   "outputs": [
    {
     "name": "stderr",
     "output_type": "stream",
     "text": [
      "INFO:sagemaker:Deleting endpoint with name: sagemaker-pytorch-2019-03-30-19-26-30-732\n"
     ]
    }
   ],
   "source": [
    "estimator.delete_endpoint()"
   ]
  },
  {
   "cell_type": "markdown",
   "metadata": {},
   "source": [
    "## Step 6 (again) - Deploy the model for the web app\n",
    "\n",
    "Now that we know that our model is working, it's time to create some custom inference code so that we can send the model a review which has not been processed and have it determine the sentiment of the review.\n",
    "\n",
    "As we saw above, by default the estimator which we created, when deployed, will use the entry script and directory which we provided when creating the model. However, since we now wish to accept a string as input and our model expects a processed review, we need to write some custom inference code.\n",
    "\n",
    "We will store the code that we write in the `serve` directory. Provided in this directory is the `model.py` file that we used to construct our model, a `utils.py` file which contains the `review_to_words` and `convert_and_pad` pre-processing functions which we used during the initial data processing, and `predict.py`, the file which will contain our custom inference code. Note also that `requirements.txt` is present which will tell SageMaker what Python libraries are required by our custom inference code.\n",
    "\n",
    "When deploying a PyTorch model in SageMaker, you are expected to provide four functions which the SageMaker inference container will use.\n",
    " - `model_fn`: This function is the same function that we used in the training script and it tells SageMaker how to load our model.\n",
    " - `input_fn`: This function receives the raw serialized input that has been sent to the model's endpoint and its job is to de-serialize and make the input available for the inference code.\n",
    " - `output_fn`: This function takes the output of the inference code and its job is to serialize this output and return it to the caller of the model's endpoint.\n",
    " - `predict_fn`: The heart of the inference script, this is where the actual prediction is done and is the function which you will need to complete.\n",
    "\n",
    "For the simple website that we are constructing during this project, the `input_fn` and `output_fn` methods are relatively straightforward. We only require being able to accept a string as input and we expect to return a single value as output. You might imagine though that in a more complex application the input or output may be image data or some other binary data which would require some effort to serialize.\n",
    "\n",
    "### (TODO) Writing inference code\n",
    "\n",
    "Before writing our custom inference code, we will begin by taking a look at the code which has been provided."
   ]
  },
  {
   "cell_type": "code",
   "execution_count": 84,
   "metadata": {},
   "outputs": [
    {
     "name": "stdout",
     "output_type": "stream",
     "text": [
      "\u001b[34mimport\u001b[39;49;00m \u001b[04m\u001b[36margparse\u001b[39;49;00m\n",
      "\u001b[34mimport\u001b[39;49;00m \u001b[04m\u001b[36mjson\u001b[39;49;00m\n",
      "\u001b[34mimport\u001b[39;49;00m \u001b[04m\u001b[36mos\u001b[39;49;00m\n",
      "\u001b[34mimport\u001b[39;49;00m \u001b[04m\u001b[36mpickle\u001b[39;49;00m\n",
      "\u001b[34mimport\u001b[39;49;00m \u001b[04m\u001b[36msys\u001b[39;49;00m\n",
      "\u001b[34mimport\u001b[39;49;00m \u001b[04m\u001b[36msagemaker_containers\u001b[39;49;00m\n",
      "\u001b[34mimport\u001b[39;49;00m \u001b[04m\u001b[36mpandas\u001b[39;49;00m \u001b[34mas\u001b[39;49;00m \u001b[04m\u001b[36mpd\u001b[39;49;00m\n",
      "\u001b[34mimport\u001b[39;49;00m \u001b[04m\u001b[36mnumpy\u001b[39;49;00m \u001b[34mas\u001b[39;49;00m \u001b[04m\u001b[36mnp\u001b[39;49;00m\n",
      "\u001b[34mimport\u001b[39;49;00m \u001b[04m\u001b[36mtorch\u001b[39;49;00m\n",
      "\u001b[34mimport\u001b[39;49;00m \u001b[04m\u001b[36mtorch.nn\u001b[39;49;00m \u001b[34mas\u001b[39;49;00m \u001b[04m\u001b[36mnn\u001b[39;49;00m\n",
      "\u001b[34mimport\u001b[39;49;00m \u001b[04m\u001b[36mtorch.optim\u001b[39;49;00m \u001b[34mas\u001b[39;49;00m \u001b[04m\u001b[36moptim\u001b[39;49;00m\n",
      "\u001b[34mimport\u001b[39;49;00m \u001b[04m\u001b[36mtorch.utils.data\u001b[39;49;00m\n",
      "\n",
      "\u001b[34mfrom\u001b[39;49;00m \u001b[04m\u001b[36mmodel\u001b[39;49;00m \u001b[34mimport\u001b[39;49;00m LSTMClassifier\n",
      "\n",
      "\u001b[34mfrom\u001b[39;49;00m \u001b[04m\u001b[36mutils\u001b[39;49;00m \u001b[34mimport\u001b[39;49;00m review_to_words, convert_and_pad\n",
      "\n",
      "\u001b[34mdef\u001b[39;49;00m \u001b[32mmodel_fn\u001b[39;49;00m(model_dir):\n",
      "    \u001b[33m\"\"\"Load the PyTorch model from the `model_dir` directory.\"\"\"\u001b[39;49;00m\n",
      "    \u001b[34mprint\u001b[39;49;00m(\u001b[33m\"\u001b[39;49;00m\u001b[33mLoading model.\u001b[39;49;00m\u001b[33m\"\u001b[39;49;00m)\n",
      "\n",
      "    \u001b[37m# First, load the parameters used to create the model.\u001b[39;49;00m\n",
      "    model_info = {}\n",
      "    model_info_path = os.path.join(model_dir, \u001b[33m'\u001b[39;49;00m\u001b[33mmodel_info.pth\u001b[39;49;00m\u001b[33m'\u001b[39;49;00m)\n",
      "    \u001b[34mwith\u001b[39;49;00m \u001b[36mopen\u001b[39;49;00m(model_info_path, \u001b[33m'\u001b[39;49;00m\u001b[33mrb\u001b[39;49;00m\u001b[33m'\u001b[39;49;00m) \u001b[34mas\u001b[39;49;00m f:\n",
      "        model_info = torch.load(f)\n",
      "\n",
      "    \u001b[34mprint\u001b[39;49;00m(\u001b[33m\"\u001b[39;49;00m\u001b[33mmodel_info: {}\u001b[39;49;00m\u001b[33m\"\u001b[39;49;00m.format(model_info))\n",
      "\n",
      "    \u001b[37m# Determine the device and construct the model.\u001b[39;49;00m\n",
      "    device = torch.device(\u001b[33m\"\u001b[39;49;00m\u001b[33mcuda\u001b[39;49;00m\u001b[33m\"\u001b[39;49;00m \u001b[34mif\u001b[39;49;00m torch.cuda.is_available() \u001b[34melse\u001b[39;49;00m \u001b[33m\"\u001b[39;49;00m\u001b[33mcpu\u001b[39;49;00m\u001b[33m\"\u001b[39;49;00m)\n",
      "    model = LSTMClassifier(model_info[\u001b[33m'\u001b[39;49;00m\u001b[33membedding_dim\u001b[39;49;00m\u001b[33m'\u001b[39;49;00m], model_info[\u001b[33m'\u001b[39;49;00m\u001b[33mhidden_dim\u001b[39;49;00m\u001b[33m'\u001b[39;49;00m], model_info[\u001b[33m'\u001b[39;49;00m\u001b[33mvocab_size\u001b[39;49;00m\u001b[33m'\u001b[39;49;00m])\n",
      "\n",
      "    \u001b[37m# Load the store model parameters.\u001b[39;49;00m\n",
      "    model_path = os.path.join(model_dir, \u001b[33m'\u001b[39;49;00m\u001b[33mmodel.pth\u001b[39;49;00m\u001b[33m'\u001b[39;49;00m)\n",
      "    \u001b[34mwith\u001b[39;49;00m \u001b[36mopen\u001b[39;49;00m(model_path, \u001b[33m'\u001b[39;49;00m\u001b[33mrb\u001b[39;49;00m\u001b[33m'\u001b[39;49;00m) \u001b[34mas\u001b[39;49;00m f:\n",
      "        model.load_state_dict(torch.load(f))\n",
      "\n",
      "    \u001b[37m# Load the saved word_dict.\u001b[39;49;00m\n",
      "    word_dict_path = os.path.join(model_dir, \u001b[33m'\u001b[39;49;00m\u001b[33mword_dict.pkl\u001b[39;49;00m\u001b[33m'\u001b[39;49;00m)\n",
      "    \u001b[34mwith\u001b[39;49;00m \u001b[36mopen\u001b[39;49;00m(word_dict_path, \u001b[33m'\u001b[39;49;00m\u001b[33mrb\u001b[39;49;00m\u001b[33m'\u001b[39;49;00m) \u001b[34mas\u001b[39;49;00m f:\n",
      "        model.word_dict = pickle.load(f)\n",
      "\n",
      "    model.to(device).eval()\n",
      "\n",
      "    \u001b[34mprint\u001b[39;49;00m(\u001b[33m\"\u001b[39;49;00m\u001b[33mDone loading model.\u001b[39;49;00m\u001b[33m\"\u001b[39;49;00m)\n",
      "    \u001b[34mreturn\u001b[39;49;00m model\n",
      "\n",
      "\u001b[34mdef\u001b[39;49;00m \u001b[32minput_fn\u001b[39;49;00m(serialized_input_data, content_type):\n",
      "    \u001b[34mprint\u001b[39;49;00m(\u001b[33m'\u001b[39;49;00m\u001b[33mDeserializing the input data.\u001b[39;49;00m\u001b[33m'\u001b[39;49;00m)\n",
      "    \u001b[34mif\u001b[39;49;00m content_type == \u001b[33m'\u001b[39;49;00m\u001b[33mtext/plain\u001b[39;49;00m\u001b[33m'\u001b[39;49;00m:\n",
      "        data = serialized_input_data.decode(\u001b[33m'\u001b[39;49;00m\u001b[33mutf-8\u001b[39;49;00m\u001b[33m'\u001b[39;49;00m)\n",
      "        \u001b[34mreturn\u001b[39;49;00m data\n",
      "    \u001b[34mraise\u001b[39;49;00m \u001b[36mException\u001b[39;49;00m(\u001b[33m'\u001b[39;49;00m\u001b[33mRequested unsupported ContentType in content_type: \u001b[39;49;00m\u001b[33m'\u001b[39;49;00m + content_type)\n",
      "\n",
      "\u001b[34mdef\u001b[39;49;00m \u001b[32moutput_fn\u001b[39;49;00m(prediction_output, accept):\n",
      "    \u001b[34mprint\u001b[39;49;00m(\u001b[33m'\u001b[39;49;00m\u001b[33mSerializing the generated output.\u001b[39;49;00m\u001b[33m'\u001b[39;49;00m)\n",
      "    \u001b[34mreturn\u001b[39;49;00m \u001b[36mstr\u001b[39;49;00m(prediction_output)\n",
      "\n",
      "\u001b[34mdef\u001b[39;49;00m \u001b[32mpredict_fn\u001b[39;49;00m(input_data, model):\n",
      "    \u001b[34mprint\u001b[39;49;00m(\u001b[33m'\u001b[39;49;00m\u001b[33mInferring sentiment of input data.\u001b[39;49;00m\u001b[33m'\u001b[39;49;00m)\n",
      "\n",
      "    device = torch.device(\u001b[33m\"\u001b[39;49;00m\u001b[33mcuda\u001b[39;49;00m\u001b[33m\"\u001b[39;49;00m \u001b[34mif\u001b[39;49;00m torch.cuda.is_available() \u001b[34melse\u001b[39;49;00m \u001b[33m\"\u001b[39;49;00m\u001b[33mcpu\u001b[39;49;00m\u001b[33m\"\u001b[39;49;00m)\n",
      "    \n",
      "    \u001b[34mif\u001b[39;49;00m model.word_dict \u001b[35mis\u001b[39;49;00m \u001b[36mNone\u001b[39;49;00m:\n",
      "        \u001b[34mraise\u001b[39;49;00m \u001b[36mException\u001b[39;49;00m(\u001b[33m'\u001b[39;49;00m\u001b[33mModel has not been loaded properly, no word_dict.\u001b[39;49;00m\u001b[33m'\u001b[39;49;00m)\n",
      "    \n",
      "    \u001b[37m# TODO: Process input_data so that it is ready to be sent to our model.\u001b[39;49;00m\n",
      "    \u001b[37m#       You should produce two variables:\u001b[39;49;00m\n",
      "    \u001b[37m#         data_X   - A sequence of length 500 which represents the converted review\u001b[39;49;00m\n",
      "    \u001b[37m#         data_len - The length of the review\u001b[39;49;00m\n",
      "    words = review_to_words(input_data)\n",
      "    data_X, data_len = convert_and_pad(model.word_dict, words)\n",
      "\n",
      "    \u001b[37m# Using data_X and data_len we construct an appropriate input tensor. Remember\u001b[39;49;00m\n",
      "    \u001b[37m# that our model expects input data of the form 'len, review[500]'.\u001b[39;49;00m\n",
      "    data_pack = np.hstack((data_len, data_X))\n",
      "    data_pack = data_pack.reshape(\u001b[34m1\u001b[39;49;00m, -\u001b[34m1\u001b[39;49;00m)\n",
      "    \n",
      "    data = torch.from_numpy(data_pack)\n",
      "    data = data.to(device)\n",
      "\n",
      "    \u001b[37m# Make sure to put the model into evaluation mode\u001b[39;49;00m\n",
      "    model.eval()\n",
      "\n",
      "    \u001b[37m# TODO: Compute the result of applying the model to the input data. The variable `result` should\u001b[39;49;00m\n",
      "    \u001b[37m#       be a numpy array which contains a single integer which is either 1 or 0\u001b[39;49;00m\n",
      "\n",
      "    \u001b[34mwith\u001b[39;49;00m torch.no_grad():\n",
      "        output = model.forward(data)\n",
      "\n",
      "    result = np.round(output.numpy())\n",
      "\n",
      "    \u001b[34mreturn\u001b[39;49;00m result\n"
     ]
    }
   ],
   "source": [
    "!pygmentize serve/predict.py"
   ]
  },
  {
   "cell_type": "markdown",
   "metadata": {},
   "source": [
    "As mentioned earlier, the `model_fn` method is the same as the one provided in the training code and the `input_fn` and `output_fn` methods are very simple and your task will be to complete the `predict_fn` method. Make sure that you save the completed file as `predict.py` in the `serve` directory.\n",
    "\n",
    "**TODO**: Complete the `predict_fn()` method in the `serve/predict.py` file."
   ]
  },
  {
   "cell_type": "markdown",
   "metadata": {},
   "source": [
    "### Deploying the model\n",
    "\n",
    "Now that the custom inference code has been written, we will create and deploy our model. To begin with, we need to construct a new PyTorchModel object which points to the model artifacts created during training and also points to the inference code that we wish to use. Then we can call the deploy method to launch the deployment container.\n",
    "\n",
    "**NOTE**: The default behaviour for a deployed PyTorch model is to assume that any input passed to the predictor is a `numpy` array. In our case we want to send a string so we need to construct a simple wrapper around the `RealTimePredictor` class to accomodate simple strings. In a more complicated situation you may want to provide a serialization object, for example if you wanted to sent image data."
   ]
  },
  {
   "cell_type": "code",
   "execution_count": 85,
   "metadata": {},
   "outputs": [
    {
     "name": "stderr",
     "output_type": "stream",
     "text": [
      "INFO:sagemaker:Creating model with name: sagemaker-pytorch-2019-03-30-19-48-12-212\n",
      "INFO:sagemaker:Creating endpoint with name sagemaker-pytorch-2019-03-30-19-48-12-212\n"
     ]
    },
    {
     "name": "stdout",
     "output_type": "stream",
     "text": [
      "---------------------------------------------------------------------------!"
     ]
    }
   ],
   "source": [
    "from sagemaker.predictor import RealTimePredictor\n",
    "from sagemaker.pytorch import PyTorchModel\n",
    "\n",
    "class StringPredictor(RealTimePredictor):\n",
    "    def __init__(self, endpoint_name, sagemaker_session):\n",
    "        super(StringPredictor, self).__init__(endpoint_name, sagemaker_session, content_type='text/plain')\n",
    "\n",
    "model = PyTorchModel(model_data=estimator.model_data,\n",
    "                     role = role,\n",
    "                     framework_version='0.4.0',\n",
    "                     entry_point='predict.py',\n",
    "                     source_dir='serve',\n",
    "                     predictor_cls=StringPredictor)\n",
    "predictor = model.deploy(initial_instance_count=1, instance_type='ml.m4.xlarge')"
   ]
  },
  {
   "cell_type": "markdown",
   "metadata": {},
   "source": [
    "### Testing the model\n",
    "\n",
    "Now that we have deployed our model with the custom inference code, we should test to see if everything is working. Here we test our model by loading the first `250` positive and negative reviews and send them to the endpoint, then collect the results. The reason for only sending some of the data is that the amount of time it takes for our model to process the input and then perform inference is quite long and so testing the entire data set would be prohibitive."
   ]
  },
  {
   "cell_type": "code",
   "execution_count": 93,
   "metadata": {},
   "outputs": [],
   "source": [
    "import glob\n",
    "\n",
    "def test_reviews(data_dir='../data/aclImdb', stop=250):\n",
    "    \n",
    "    results = []\n",
    "    ground = []\n",
    "    \n",
    "    # We make sure to test both positive and negative reviews    \n",
    "    for sentiment in ['pos', 'neg']:\n",
    "        \n",
    "        path = os.path.join(data_dir, 'test', sentiment, '*.txt')\n",
    "        files = glob.glob(path)\n",
    "        \n",
    "        files_read = 0\n",
    "        \n",
    "        print('Starting ', sentiment, ' files')\n",
    "        \n",
    "        # Iterate through the files and send them to the predictor\n",
    "        for f in files:\n",
    "            with open(f) as review:\n",
    "                # First, we store the ground truth (was the review positive or negative)\n",
    "                if sentiment == 'pos':\n",
    "                    ground.append(1)\n",
    "                else:\n",
    "                    ground.append(0)\n",
    "                # Read in the review and convert to 'utf-8' for transmission via HTTP\n",
    "                review_input = review.read().encode('utf-8')\n",
    "                # Send the review to the predictor and store the results\n",
    "                results.append(float(predictor.predict(review_input)))\n",
    "                \n",
    "            # Sending reviews to our endpoint one at a time takes a while so we\n",
    "            # only send a small number of reviews\n",
    "            files_read += 1\n",
    "            if files_read == stop:\n",
    "                break\n",
    "            \n",
    "    return ground, results"
   ]
  },
  {
   "cell_type": "code",
   "execution_count": 94,
   "metadata": {},
   "outputs": [
    {
     "name": "stdout",
     "output_type": "stream",
     "text": [
      "Starting  pos  files\n",
      "Starting  neg  files\n"
     ]
    }
   ],
   "source": [
    "ground, results = test_reviews()"
   ]
  },
  {
   "cell_type": "code",
   "execution_count": 95,
   "metadata": {},
   "outputs": [
    {
     "data": {
      "text/plain": [
       "0.87"
      ]
     },
     "execution_count": 95,
     "metadata": {},
     "output_type": "execute_result"
    }
   ],
   "source": [
    "from sklearn.metrics import accuracy_score\n",
    "accuracy_score(ground, results)"
   ]
  },
  {
   "cell_type": "markdown",
   "metadata": {},
   "source": [
    "As an additional test, we can try sending the `test_review` that we looked at earlier."
   ]
  },
  {
   "cell_type": "code",
   "execution_count": 101,
   "metadata": {},
   "outputs": [
    {
     "data": {
      "text/plain": [
       "b'1.0'"
      ]
     },
     "execution_count": 101,
     "metadata": {},
     "output_type": "execute_result"
    }
   ],
   "source": [
    "predictor.predict(test_review)"
   ]
  },
  {
   "cell_type": "markdown",
   "metadata": {},
   "source": [
    "Now that we know our endpoint is working as expected, we can set up the web page that will interact with it. If you don't have time to finish the project now, make sure to skip down to the end of this notebook and shut down your endpoint. You can deploy it again when you come back."
   ]
  },
  {
   "cell_type": "markdown",
   "metadata": {},
   "source": [
    "## Step 7 (again): Use the model for the web app\n",
    "\n",
    "> **TODO:** This entire section and the next contain tasks for you to complete, mostly using the AWS console.\n",
    "\n",
    "So far we have been accessing our model endpoint by constructing a predictor object which uses the endpoint and then just using the predictor object to perform inference. What if we wanted to create a web app which accessed our model? The way things are set up currently makes that not possible since in order to access a SageMaker endpoint the app would first have to authenticate with AWS using an IAM role which included access to SageMaker endpoints. However, there is an easier way! We just need to use some additional AWS services.\n",
    "\n",
    "<img src=\"Web App Diagram.svg\">\n",
    "\n",
    "The diagram above gives an overview of how the various services will work together. On the far right is the model which we trained above and which is deployed using SageMaker. On the far left is our web app that collects a user's movie review, sends it off and expects a positive or negative sentiment in return.\n",
    "\n",
    "In the middle is where some of the magic happens. We will construct a Lambda function, which you can think of as a straightforward Python function that can be executed whenever a specified event occurs. We will give this function permission to send and recieve data from a SageMaker endpoint.\n",
    "\n",
    "Lastly, the method we will use to execute the Lambda function is a new endpoint that we will create using API Gateway. This endpoint will be a url that listens for data to be sent to it. Once it gets some data it will pass that data on to the Lambda function and then return whatever the Lambda function returns. Essentially it will act as an interface that lets our web app communicate with the Lambda function.\n",
    "\n",
    "### Setting up a Lambda function\n",
    "\n",
    "The first thing we are going to do is set up a Lambda function. This Lambda function will be executed whenever our public API has data sent to it. When it is executed it will receive the data, perform any sort of processing that is required, send the data (the review) to the SageMaker endpoint we've created and then return the result.\n",
    "\n",
    "#### Part A: Create an IAM Role for the Lambda function\n",
    "\n",
    "Since we want the Lambda function to call a SageMaker endpoint, we need to make sure that it has permission to do so. To do this, we will construct a role that we can later give the Lambda function.\n",
    "\n",
    "Using the AWS Console, navigate to the **IAM** page and click on **Roles**. Then, click on **Create role**. Make sure that the **AWS service** is the type of trusted entity selected and choose **Lambda** as the service that will use this role, then click **Next: Permissions**.\n",
    "\n",
    "In the search box type `sagemaker` and select the check box next to the **AmazonSageMakerFullAccess** policy. Then, click on **Next: Review**.\n",
    "\n",
    "Lastly, give this role a name. Make sure you use a name that you will remember later on, for example `LambdaSageMakerRole`. Then, click on **Create role**.\n",
    "\n",
    "#### Part B: Create a Lambda function\n",
    "\n",
    "Now it is time to actually create the Lambda function.\n",
    "\n",
    "Using the AWS Console, navigate to the AWS Lambda page and click on **Create a function**. When you get to the next page, make sure that **Author from scratch** is selected. Now, name your Lambda function, using a name that you will remember later on, for example `sentiment_analysis_func`. Make sure that the **Python 3.6** runtime is selected and then choose the role that you created in the previous part. Then, click on **Create Function**.\n",
    "\n",
    "On the next page you will see some information about the Lambda function you've just created. If you scroll down you should see an editor in which you can write the code that will be executed when your Lambda function is triggered. In our example, we will use the code below. \n",
    "\n",
    "```python\n",
    "# We need to use the low-level library to interact with SageMaker since the SageMaker API\n",
    "# is not available natively through Lambda.\n",
    "import boto3\n",
    "\n",
    "def lambda_handler(event, context):\n",
    "\n",
    "    # The SageMaker runtime is what allows us to invoke the endpoint that we've created.\n",
    "    runtime = boto3.Session().client('sagemaker-runtime')\n",
    "\n",
    "    # Now we use the SageMaker runtime to invoke our endpoint, sending the review we were given\n",
    "    response = runtime.invoke_endpoint(EndpointName = '**ENDPOINT NAME HERE**',    # The name of the endpoint we created\n",
    "                                       ContentType = 'text/plain',                 # The data format that is expected\n",
    "                                       Body = event['body'])                       # The actual review\n",
    "\n",
    "    # The response is an HTTP response whose body contains the result of our inference\n",
    "    result = response['Body'].read().decode('utf-8')\n",
    "\n",
    "    return {\n",
    "        'statusCode' : 200,\n",
    "        'headers' : { 'Content-Type' : 'text/plain', 'Access-Control-Allow-Origin' : '*' },\n",
    "        'body' : result\n",
    "    }\n",
    "```\n",
    "\n",
    "Once you have copy and pasted the code above into the Lambda code editor, replace the `**ENDPOINT NAME HERE**` portion with the name of the endpoint that we deployed earlier. You can determine the name of the endpoint using the code cell below."
   ]
  },
  {
   "cell_type": "code",
   "execution_count": 98,
   "metadata": {},
   "outputs": [
    {
     "data": {
      "text/plain": [
       "'sagemaker-pytorch-2019-03-30-19-48-12-212'"
      ]
     },
     "execution_count": 98,
     "metadata": {},
     "output_type": "execute_result"
    }
   ],
   "source": [
    "predictor.endpoint"
   ]
  },
  {
   "cell_type": "markdown",
   "metadata": {},
   "source": [
    "Once you have added the endpoint name to the Lambda function, click on **Save**. Your Lambda function is now up and running. Next we need to create a way for our web app to execute the Lambda function.\n",
    "\n",
    "### Setting up API Gateway\n",
    "\n",
    "Now that our Lambda function is set up, it is time to create a new API using API Gateway that will trigger the Lambda function we have just created.\n",
    "\n",
    "Using AWS Console, navigate to **Amazon API Gateway** and then click on **Get started**.\n",
    "\n",
    "On the next page, make sure that **New API** is selected and give the new api a name, for example, `sentiment_analysis_api`. Then, click on **Create API**.\n",
    "\n",
    "Now we have created an API, however it doesn't currently do anything. What we want it to do is to trigger the Lambda function that we created earlier.\n",
    "\n",
    "Select the **Actions** dropdown menu and click **Create Method**. A new blank method will be created, select its dropdown menu and select **POST**, then click on the check mark beside it.\n",
    "\n",
    "For the integration point, make sure that **Lambda Function** is selected and click on the **Use Lambda Proxy integration**. This option makes sure that the data that is sent to the API is then sent directly to the Lambda function with no processing. It also means that the return value must be a proper response object as it will also not be processed by API Gateway.\n",
    "\n",
    "Type the name of the Lambda function you created earlier into the **Lambda Function** text entry box and then click on **Save**. Click on **OK** in the pop-up box that then appears, giving permission to API Gateway to invoke the Lambda function you created.\n",
    "\n",
    "The last step in creating the API Gateway is to select the **Actions** dropdown and click on **Deploy API**. You will need to create a new Deployment stage and name it anything you like, for example `prod`.\n",
    "\n",
    "You have now successfully set up a public API to access your SageMaker model. Make sure to copy or write down the URL provided to invoke your newly created public API as this will be needed in the next step. This URL can be found at the top of the page, highlighted in blue next to the text **Invoke URL**."
   ]
  },
  {
   "cell_type": "markdown",
   "metadata": {},
   "source": [
    "## Step 4: Deploying our web app\n",
    "\n",
    "Now that we have a publicly available API, we can start using it in a web app. For our purposes, we have provided a simple static html file which can make use of the public api you created earlier.\n",
    "\n",
    "In the `website` folder there should be a file called `index.html`. Download the file to your computer and open that file up in a text editor of your choice. There should be a line which contains **\\*\\*REPLACE WITH PUBLIC API URL\\*\\***. Replace this string with the url that you wrote down in the last step and then save the file.\n",
    "\n",
    "Now, if you open `index.html` on your local computer, your browser will behave as a local web server and you can use the provided site to interact with your SageMaker model.\n",
    "\n",
    "If you'd like to go further, you can host this html file anywhere you'd like, for example using github or hosting a static site on Amazon's S3. Once you have done this you can share the link with anyone you'd like and have them play with it too!\n",
    "\n",
    "> **Important Note** In order for the web app to communicate with the SageMaker endpoint, the endpoint has to actually be deployed and running. This means that you are paying for it. Make sure that the endpoint is running when you want to use the web app but that you shut it down when you don't need it, otherwise you will end up with a surprisingly large AWS bill.\n",
    "\n",
    "**TODO:** Make sure that you include the edited `index.html` file in your project submission."
   ]
  },
  {
   "cell_type": "markdown",
   "metadata": {},
   "source": [
    "Now that your web app is working, trying playing around with it and see how well it works.\n",
    "\n",
    "**Question**: Give an example of a review that you entered into your web app. What was the predicted sentiment of your example review?"
   ]
  },
  {
   "cell_type": "markdown",
   "metadata": {},
   "source": [
    "**Answer:**\n",
    "\n",
    "Negtive review example\n",
    "<img src=\"neg.png\">\n",
    "\n",
    "Positive review example\n",
    "<img src=\"pos.png\">"
   ]
  },
  {
   "cell_type": "markdown",
   "metadata": {},
   "source": [
    "### Delete the endpoint\n",
    "\n",
    "Remember to always shut down your endpoint if you are no longer using it. You are charged for the length of time that the endpoint is running so if you forget and leave it on you could end up with an unexpectedly large bill."
   ]
  },
  {
   "cell_type": "code",
   "execution_count": 102,
   "metadata": {},
   "outputs": [
    {
     "name": "stderr",
     "output_type": "stream",
     "text": [
      "INFO:sagemaker:Deleting endpoint configuration with name: sagemaker-pytorch-2019-03-30-19-48-12-212\n",
      "INFO:sagemaker:Deleting endpoint with name: sagemaker-pytorch-2019-03-30-19-48-12-212\n"
     ]
    }
   ],
   "source": [
    "predictor.delete_endpoint()"
   ]
  },
  {
   "cell_type": "code",
   "execution_count": null,
   "metadata": {},
   "outputs": [],
   "source": []
  }
 ],
 "metadata": {
  "kernelspec": {
   "display_name": "conda_pytorch_p36",
   "language": "python",
   "name": "conda_pytorch_p36"
  },
  "language_info": {
   "codemirror_mode": {
    "name": "ipython",
    "version": 3
   },
   "file_extension": ".py",
   "mimetype": "text/x-python",
   "name": "python",
   "nbconvert_exporter": "python",
   "pygments_lexer": "ipython3",
   "version": "3.6.5"
  }
 },
 "nbformat": 4,
 "nbformat_minor": 2
}
